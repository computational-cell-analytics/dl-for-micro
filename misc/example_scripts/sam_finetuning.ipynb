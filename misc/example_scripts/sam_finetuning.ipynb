{
 "cells": [
  {
   "cell_type": "markdown",
   "id": "a42b464e",
   "metadata": {},
   "source": [
    "# Finetuning Segment Anything with `µsam`\n",
    "\n",
    "This notebook shows how to use Segment Anything for Microscopy to fine-tune a Segment Anything Model (SAM) on your custom data.\n",
    "\n",
    "We use DIC microscopy images from the Cell Tracking Challenge, DIC-C2DH-HeLa, HeLa cells on a flat glass (from [Maška et al.](https://www.nature.com/articles/s41592-023-01879-y)) in this notebook. The functionalities shown here should work for your (microscopy) images too."
   ]
  },
  {
   "cell_type": "markdown",
   "id": "241f181b",
   "metadata": {},
   "source": [
    "## Running this notebook\n",
    "\n",
    "If you have an environment with `µsam` on your computer you can run this notebook in there. You can follow the [installation instructions](https://computational-cell-analytics.github.io/micro-sam/micro_sam.html#installation) to install it on your computer.\n",
    "\n",
    "You can also run this notebook in the cloud on [Kaggle Notebooks](https://www.kaggle.com/code/). This service offers free usage of a GPU to speed up running the code. The next collapsible section guides you through the installation for you if you are using it. You can skip them if you have `micro_sam` installed.\n",
    "\n",
    "<details>\n",
    "\n",
    "<summary><strong>Click here for more installation details.</strong></summary>\n",
    "\n",
    "## Install `condacolab` for Package Management\n",
    "\n",
    "**IMPORTANT**: This step is only necessary if you are running this notebook in Kaggle Notebooks (tested) / Google Colab. **Please skip these cells and go to `Importing the libraries` if you are running the notebook on your own computer with `micro_sam` already installed.**\n",
    "\n",
    "The first step for running the notebook on the above mentioned cloud platforms is to have a package manager to install `µsam` and other relevant packages.\n",
    "\n",
    "**NOTE**: Please run the next two blocks of code in new cells one after the other.\n",
    "\n",
    "# Step 1: Install `condacolab` on Kaggle Notebooks (tested) / Google Colab for installing conda and other related package managers.\n",
    "\n",
    "```bash\n",
    "!pip install -q condacolab\n",
    "import condacolab\n",
    "condacolab.install()\n",
    "```\n",
    "\n",
    "> **NOTE**: When you run the previous block of code, the kernel should restart automatically in Kaggle Notebooks (tested). Please proceed further without the need of any manual kernel restarts.\n",
    "\n",
    "# Step 2: Validate if `condacolab` was installed correctly.\n",
    "\n",
    "```bash\n",
    "import condacolab\n",
    "condacolab.check()\n",
    "```\n",
    "\n",
    "> If you see `✨🍰✨ Everything looks OK!` in the previous code block's output, you are good to proceed the next code block!\n",
    "\n",
    "## Checking system information\n",
    "\n",
    "```python\n",
    "# Check if we are running this notebook on Kaggle, Google Colab or local compute resources.\n",
    "import os\n",
    "current_spot = os.getcwd()\n",
    "\n",
    "if current_spot.startswith(\"/kaggle/working\"):\n",
    "    print(\"Kaggle says hi!\")\n",
    "    root_dir = \"/kaggle/working\"\n",
    "\n",
    "elif current_spot.startswith(\"/content\"):\n",
    "    print(\"Google Colab says hi!\")\n",
    "    print(\" NOTE: The scripts have not been tested on Google Colab, you might need to adapt the installations a bit.\")\n",
    "    root_dir = \"/content\"\n",
    "\n",
    "else:\n",
    "    msg = \"You are using a behind-the-scenes resource. Follow our installation instructions here:\"\n",
    "    msg += \" https://computational-cell-analytics.github.io/micro-sam/micro_sam.html#installation\"\n",
    "    print(msg)\n",
    "    root_dir = \"\"  # overwrite to set the root directory, where the data, checkpoints, and all relevant stuff will be stored\n",
    "```\n",
    "\n",
    "### Installation\n",
    "\n",
    "The next code block will install the `micro_sam` library on Kaggle Notebooks. **Please skip these cells and go to `Importing the libraries` if you are running the notebook on your own computer.**\n",
    "\n",
    "```bash\n",
    "# Install `micro-sam` from `conda-forge`.\n",
    "!mamba install -y -q -c conda-forge micro_sam > /dev/null 2>&1\n",
    "!pip uninstall -y --quiet napari  # GUI backends are not supported in Kaggle / Google Colab, let's remove it to avoid errors.\n",
    "```\n",
    "\n",
    "> NOTE:\n",
    "Known Issues on **Kaggle Notebooks** (for the `Importing the libraries` section below):\n",
    "\n",
    "1. ```bash\n",
    "    2024-05-08 14:56:42.941557: E external/local_xla/xla/stream_executor/cuda/cuda_dnn.cc:9261] Unable to register cuDNN factory: Attempting to register factory for plugin cuDNN when one has already been registered\n",
    "    2024-05-08 14:56:42.941680: E external/local_xla/xla/stream_executor/cuda/cuda_fft.cc:607] Unable to register cuFFT factory: Attempting to register factory for plugin cuFFT when one has already been registered\n",
    "    2024-05-08 14:56:43.062385: E external/local_xla/xla/stream_executor/cuda/cuda_blas.cc:1515] Unable to register cuBLAS factory: Attempting to register factory for plugin cuBLAS when one has already been registered\n",
    "    ```\n",
    "\n",
    "    - We have received this warning while testing this notebook on Kaggle. We suspect that the complains originate from the tensorflow suite. It does not lead to any issues while making use of the installed packages. You can proceed and ignore the warnings."
   ]
  },
  {
   "cell_type": "markdown",
   "id": "3b81a915",
   "metadata": {},
   "source": [
    "## Importing the libraries"
   ]
  },
  {
   "cell_type": "code",
   "execution_count": null,
   "id": "cb1d5d36",
   "metadata": {},
   "outputs": [],
   "source": [
    "import warnings\n",
    "warnings.filterwarnings(\"ignore\")\n",
    "\n",
    "import os\n",
    "from glob import glob\n",
    "from IPython.display import FileLink\n",
    "from typing import Union, Tuple, Optional\n",
    "\n",
    "import numpy as np\n",
    "import imageio.v3 as imageio\n",
    "from matplotlib import pyplot as plt\n",
    "from skimage.measure import label as connected_components\n",
    "\n",
    "import torch\n",
    "\n",
    "from torch_em.util.debug import check_loader\n",
    "from torch_em.data import MinInstanceSampler\n",
    "from torch_em.util.util import get_random_colors\n",
    "\n",
    "import micro_sam.training as sam_training\n",
    "from micro_sam.sample_data import fetch_tracking_example_data, fetch_tracking_segmentation_data\n",
    "from micro_sam.automatic_segmentation import get_predictor_and_segmenter, automatic_instance_segmentation"
   ]
  },
  {
   "cell_type": "markdown",
   "id": "c251c4bf",
   "metadata": {},
   "source": [
    "### Let's download the dataset"
   ]
  },
  {
   "cell_type": "code",
   "execution_count": null,
   "id": "09048a35",
   "metadata": {},
   "outputs": [],
   "source": [
    "# NOTE: Please set 'root_dir' to the desired path, either where your data exists, or where you would like to download the data.\n",
    "root_dir = os.getcwd()  # Overwrite this to point to your desired path.\n",
    "\n",
    "DATA_FOLDER = os.path.join(root_dir, \"data\")\n",
    "os.makedirs(DATA_FOLDER, exist_ok=True)\n",
    "\n",
    "# This will download the image and segmentation data for training.\n",
    "image_dir = fetch_tracking_example_data(DATA_FOLDER)\n",
    "segmentation_dir = fetch_tracking_segmentation_data(DATA_FOLDER)"
   ]
  },
  {
   "cell_type": "markdown",
   "id": "d84f23c2",
   "metadata": {},
   "source": [
    "### Let's create the dataloaders\n",
    "\n",
    "Our task is to segment HeLa cells on a flat glass in DIC microscopic images. The dataset comes from https://celltrackingchallenge.net/2d-datasets/, and the dataloader has been implemented in [torch-em](https://github.com/constantinpape/torch-em/blob/main/torch_em/data/datasets/ctc.py)."
   ]
  },
  {
   "cell_type": "markdown",
   "id": "8cc826a8",
   "metadata": {},
   "source": [
    "#### First, let's visualize how our samples look."
   ]
  },
  {
   "cell_type": "code",
   "execution_count": null,
   "id": "9a18cc48",
   "metadata": {
    "collapsed": false,
    "jupyter": {
     "outputs_hidden": false
    }
   },
   "outputs": [],
   "source": [
    "image_paths = sorted(glob(os.path.join(image_dir, \"*\")))\n",
    "segmentation_paths = sorted(glob(os.path.join(segmentation_dir, \"*\")))\n",
    "\n",
    "for image_path, segmentation_path in zip(image_paths, segmentation_paths):\n",
    "    image = imageio.imread(image_path)\n",
    "    segmentation = imageio.imread(segmentation_path)\n",
    "\n",
    "    fig, ax = plt.subplots(1, 2, figsize=(10, 10))\n",
    "\n",
    "    ax[0].imshow(image, cmap=\"gray\")\n",
    "    ax[0].set_title(\"Input Image\")\n",
    "    ax[0].axis(\"off\")\n",
    "\n",
    "    segmentation = connected_components(segmentation)\n",
    "    ax[1].imshow(segmentation, cmap=get_random_colors(segmentation), interpolation=\"nearest\")\n",
    "    ax[1].set_title(\"Ground Truth Instances\")\n",
    "    ax[1].axis(\"off\")\n",
    "\n",
    "    plt.show()\n",
    "    plt.close()\n",
    "\n",
    "    break  # comment this out in case you want to visualize all the images"
   ]
  },
  {
   "cell_type": "markdown",
   "id": "36c2ef3d",
   "metadata": {},
   "source": [
    "#### Next, let's create the dataloaders"
   ]
  },
  {
   "cell_type": "code",
   "execution_count": null,
   "id": "216bf611",
   "metadata": {
    "collapsed": false,
    "jupyter": {
     "outputs_hidden": false
    }
   },
   "outputs": [],
   "source": [
    "# 'micro_sam.training.default_sam_loader' is a convenience function to build a pytorch dataloader from image data and labels for training segmentation models.\n",
    "# This is wrapped around the 'torch_em.default_segmentation_loader'.\n",
    "# It supports image data in various formats.\n",
    "# Here, we load image data and labels from the two folders with tif images that were downloaded by the example data functionality,\n",
    "# by specifying `raw_key` and `label_key` as `*.tif`.\n",
    "# This means all images in the respective folders that end with .tif will be loaded.\n",
    "# The function supports many other file formats. For example, if you have tif stacks with multiple slices instead of multiple tif images in a folder,\n",
    "# then you can pass 'raw_key=label_key=None'.\n",
    "# For more information, here is the documentation: https://github.com/constantinpape/torch-em/blob/main/torch_em/data/datasets/README.md\n",
    "# And here is a tutorial on creating dataloaders using 'torch-em': https://github.com/constantinpape/torch-em/blob/main/notebooks/tutorial_create_dataloaders.ipynb\n",
    "\n",
    "# Load images from multiple files in folder via pattern (here: all tif files)\n",
    "raw_key, label_key = \"*.tif\", \"*.tif\"\n",
    "\n",
    "# Alternative: if you have tif stacks you can just set 'raw_key' and 'label_key' to None\n",
    "# raw_key, label_key= None, None\n",
    "\n",
    "# The 'roi' argument can be used to subselect parts of the data.\n",
    "# Here, we use it to select the first 70 images (frames) for the train split and the other frames for the val split.\n",
    "train_roi = np.s_[:70, :, :]\n",
    "val_roi = np.s_[70:, :, :]"
   ]
  },
  {
   "cell_type": "code",
   "execution_count": null,
   "id": "5a565e47",
   "metadata": {
    "collapsed": false,
    "jupyter": {
     "outputs_hidden": false
    }
   },
   "outputs": [],
   "source": [
    "# The script below returns the train or val data loader for finetuning Segment Anything Model (SAM).\n",
    "# The data loader must be a torch data loader that returns `x, y` tensors, where `x` is the image data and `y` are the labels.\n",
    "# The labels have to be in a label mask instance segmentation format.\n",
    "# i.e. a tensor of the same spatial shape as `x`, with each object mask having its own ID.\n",
    "# Important: the ID 0 is reseved for background, and the IDs must be consecutive\n",
    "\n",
    "# Here, we use `micro_sam.training.default_sam_loader` for creating a suitable data loader from\n",
    "# the example hela data. You can either adapt this for your own data or write a suitable torch dataloader yourself.\n",
    "# Here's a quickstart notebook to create your own dataloaders: https://github.com/constantinpape/torch-em/blob/main/notebooks/tutorial_create_dataloaders.ipynb\n",
    "\n",
    "batch_size = 1  # the training batch size\n",
    "patch_shape = (1, 512, 512)  # the size of patches for training\n",
    "\n",
    "# Train an additional convolutional decoder for end-to-end automatic instance segmentation\n",
    "# NOTE 1: It's important to have densely annotated-labels while training the additional convolutional decoder.\n",
    "# NOTE 2: In case you do not have labeled images, we recommend using `micro-sam` annotator tools to annotate as many objects as possible per image for best performance.\n",
    "train_instance_segmentation = True\n",
    "\n",
    "# NOTE: The dataloader internally takes care of adding label transforms: i.e. used to convert the ground-truth\n",
    "# labels to the desired instances for finetuning Segment Anythhing, or, to learn the foreground and distances\n",
    "# to the object centers and object boundaries for automatic segmentation.\n",
    "\n",
    "# There are cases where our inputs are large and the labeled objects are not evenly distributed across the image.\n",
    "# For this we use samplers, which ensure that valid inputs are chosen subjected to the paired labels.\n",
    "# The sampler chosen below makes sure that the chosen inputs have atleast one foreground instance, and filters out small objects.\n",
    "sampler = MinInstanceSampler(min_size=25)  # NOTE: The choice of 'min_size' value is paired with the same value in 'min_size' filter in 'label_transform'.\n",
    "\n",
    "train_loader = sam_training.default_sam_loader(\n",
    "    raw_paths=image_dir,\n",
    "    raw_key=raw_key,\n",
    "    label_paths=segmentation_dir,\n",
    "    label_key=label_key,\n",
    "    with_segmentation_decoder=train_instance_segmentation,\n",
    "    patch_shape=patch_shape,\n",
    "    batch_size=batch_size,\n",
    "    is_seg_dataset=True,\n",
    "    rois=train_roi,\n",
    "    shuffle=True,\n",
    "    raw_transform=sam_training.identity,\n",
    "    sampler=sampler,\n",
    ")\n",
    "\n",
    "val_loader = sam_training.default_sam_loader(\n",
    "    raw_paths=image_dir,\n",
    "    raw_key=raw_key,\n",
    "    label_paths=segmentation_dir,\n",
    "    label_key=label_key,\n",
    "    with_segmentation_decoder=train_instance_segmentation,\n",
    "    patch_shape=patch_shape,\n",
    "    batch_size=batch_size,\n",
    "    is_seg_dataset=True,\n",
    "    rois=val_roi,\n",
    "    shuffle=True,\n",
    "    raw_transform=sam_training.identity,\n",
    "    sampler=sampler,\n",
    ")"
   ]
  },
  {
   "cell_type": "code",
   "execution_count": null,
   "id": "a8bd97f3",
   "metadata": {
    "collapsed": false,
    "jupyter": {
     "outputs_hidden": false
    }
   },
   "outputs": [],
   "source": [
    "# Let's check how our samples look from the dataloader\n",
    "check_loader(train_loader, 4, plt=True)"
   ]
  },
  {
   "cell_type": "markdown",
   "id": "b137f18f",
   "metadata": {},
   "source": [
    "### Run the actual model finetuning"
   ]
  },
  {
   "cell_type": "code",
   "execution_count": null,
   "id": "c95602b6",
   "metadata": {
    "collapsed": false,
    "jupyter": {
     "outputs_hidden": false
    }
   },
   "outputs": [],
   "source": [
    "# All hyperparameters for training.\n",
    "n_objects_per_batch = 5  # the number of objects per batch that will be sampled\n",
    "device = \"cuda\" if torch.cuda.is_available() else \"cpu\"  # the device/GPU used for training\n",
    "n_epochs = 3  # how long we train (in epochs)\n",
    "\n",
    "# This is the model which you use as starting point to fine-tune your model.\n",
    "model_type = \"vit_b_lm\"\n",
    "\n",
    "# The name of the checkpoint. The checkpoints will be stored in './checkpoints/<checkpoint_name>'\n",
    "checkpoint_name = \"sam_hela\""
   ]
  },
  {
   "cell_type": "code",
   "execution_count": null,
   "id": "bb463ac2",
   "metadata": {
    "collapsed": false,
    "jupyter": {
     "outputs_hidden": false
    }
   },
   "outputs": [],
   "source": [
    "# These are settings for more effcient training.\n",
    "from micro_sam.models.peft_sam import ClassicalSurgery\n",
    "peft_kwargs = {\"attention_layers_to_update\": [11], \"peft_module\": ClassicalSurgery}\n",
    "\n",
    "# Run training\n",
    "sam_training.train_sam(\n",
    "    name=checkpoint_name,\n",
    "    save_root=os.path.join(root_dir, \"models\"),\n",
    "    model_type=model_type,\n",
    "    train_loader=train_loader,\n",
    "    val_loader=val_loader,\n",
    "    n_epochs=n_epochs,\n",
    "    n_objects_per_batch=n_objects_per_batch,\n",
    "    with_segmentation_decoder=train_instance_segmentation,\n",
    "    device=device,\n",
    "    verify_n_labels_in_loader=5,\n",
    "    peft_kwargs=peft_kwargs,\n",
    ")"
   ]
  },
  {
   "cell_type": "code",
   "execution_count": null,
   "id": "4beea8c2",
   "metadata": {
    "collapsed": false,
    "jupyter": {
     "outputs_hidden": false
    }
   },
   "outputs": [],
   "source": [
    "# Let's spot our best checkpoint and download it to get started with the annotation tool\n",
    "best_checkpoint = os.path.join(\"models\", \"checkpoints\", checkpoint_name, \"best.pt\")\n",
    "\n",
    "# Download link is automatically generated for the best model.\n",
    "print(\"Click here \\u2193\")\n",
    "FileLink(best_checkpoint)"
   ]
  },
  {
   "cell_type": "markdown",
   "id": "c0413028",
   "metadata": {},
   "source": [
    "### Let's run the automatic instance segmentation (AIS)"
   ]
  },
  {
   "cell_type": "code",
   "execution_count": null,
   "id": "a81c2d04",
   "metadata": {
    "collapsed": false,
    "jupyter": {
     "outputs_hidden": false
    }
   },
   "outputs": [],
   "source": [
    "def run_automatic_instance_segmentation(\n",
    "    image: np.ndarray,\n",
    "    checkpoint_path: Union[os.PathLike ,str],\n",
    "    model_type: str = \"vit_b_lm\",\n",
    "    device: Optional[Union[str, torch.device]] = None,\n",
    "    tile_shape: Optional[Tuple[int, int]] = None,\n",
    "    halo: Optional[Tuple[int, int]] = None,\n",
    "):\n",
    "    \"\"\"Automatic Instance Segmentation (AIS) by training an additional instance decoder in SAM.\n",
    "\n",
    "    NOTE: AIS is supported only for `µsam` models.\n",
    "\n",
    "    Args:\n",
    "        image: The input image.\n",
    "        checkpoint_path: The path to stored checkpoints.\n",
    "        model_type: The choice of the `µsam` model.\n",
    "        device: The device to run the model inference.\n",
    "        tile_shape: The tile shape for tiling-based segmentation.\n",
    "        halo: The overlap shape on each side per tile for stitching the segmented tiles.\n",
    "\n",
    "    Returns:\n",
    "        The instance segmentation.\n",
    "    \"\"\"\n",
    "    # Step 1: Get the 'predictor' and 'segmenter' to perform automatic instance segmentation.\n",
    "    predictor, segmenter = get_predictor_and_segmenter(\n",
    "        model_type=model_type,  # choice of the Segment Anything model\n",
    "        checkpoint=checkpoint_path,  # overwrite to pass your own finetuned model.\n",
    "        device=device,  # the device to run the model inference.\n",
    "        is_tiled=(tile_shape is not None),  # whether to run automatic segmentation.\n",
    "    )\n",
    "\n",
    "    # Step 2: Get the instance segmentation for the given image.\n",
    "    prediction = automatic_instance_segmentation(\n",
    "        predictor=predictor,  # the predictor for the Segment Anything model.\n",
    "        segmenter=segmenter,  # the segmenter class responsible for generating predictions.\n",
    "        input_path=image,  # the filepath to image or the input array for automatic segmentation.\n",
    "        ndim=2,  # the number of input dimensions.\n",
    "        tile_shape=tile_shape,  # the tile shape for tiling-based prediction.\n",
    "        halo=halo,  # the overlap shape for tiling-based prediction.\n",
    "    )\n",
    "\n",
    "    return prediction"
   ]
  },
  {
   "cell_type": "code",
   "execution_count": null,
   "id": "6496c6e6",
   "metadata": {
    "collapsed": false,
    "jupyter": {
     "outputs_hidden": false
    }
   },
   "outputs": [],
   "source": [
    "zip_path = os.path.join(root_dir, \"data\", \"DIC-C2DH-HeLa-test.zip\")\n",
    "!wget -q http://data.celltrackingchallenge.net/test-datasets/DIC-C2DH-HeLa.zip -O $zip_path\n",
    "\n",
    "trg_dir = os.path.join(root_dir, \"data\", \"test\")\n",
    "os.makedirs(trg_dir, exist_ok=True)\n",
    "!unzip -q $zip_path -d trg_dir"
   ]
  },
  {
   "cell_type": "code",
   "execution_count": null,
   "id": "6dca02e1",
   "metadata": {
    "collapsed": false,
    "jupyter": {
     "outputs_hidden": false
    }
   },
   "outputs": [],
   "source": [
    "assert os.path.exists(best_checkpoint), \"Please train the model first to run inference on the finetuned model.\"\n",
    "assert train_instance_segmentation is True, \"Oops. You didn't opt for finetuning using the decoder-based automatic instance segmentation.\"\n",
    "\n",
    "# Let's check the first 5 images. Feel free to comment out the line below to run inference on all images.\n",
    "image_paths = image_paths[:5]\n",
    "\n",
    "for image_path in image_paths:\n",
    "    image = imageio.imread(image_path)\n",
    "\n",
    "    # Predicted instances.\n",
    "    # NOTE: If you have large images, we recommend using tiling for automatic segmentation.\n",
    "    # eg. for a training patch size of (512, 512), you can provide the following example combination:\n",
    "    # 'tile_shape=(384, 384). halo=(64, 64)' for running automatic segmentation over tiles.\n",
    "    prediction = run_automatic_instance_segmentation(\n",
    "        image=image,\n",
    "        checkpoint_path=best_checkpoint,\n",
    "        model_type=model_type,\n",
    "        device=device,\n",
    "    )\n",
    "\n",
    "    # Visualize the predictions\n",
    "    fig, ax = plt.subplots(1, 2, figsize=(10, 10))\n",
    "\n",
    "    ax[0].imshow(image, cmap=\"gray\")\n",
    "    ax[0].axis(\"off\")\n",
    "    ax[0].set_title(\"Input Image\")\n",
    "\n",
    "    ax[1].imshow(prediction, cmap=get_random_colors(prediction), interpolation=\"nearest\")\n",
    "    ax[1].axis(\"off\")\n",
    "    ax[1].set_title(\"Predictions (AIS)\")\n",
    "\n",
    "    plt.show()\n",
    "    plt.close()"
   ]
  },
  {
   "cell_type": "markdown",
   "id": "f20f598b",
   "metadata": {},
   "source": [
    "### What next?\n",
    "\n",
    "It's time to get started with your custom finetuned model using the annotator tool. Here is the documentation on how to get started with `µsam`: [Annotation Tools](https://computational-cell-analytics.github.io/micro-sam/micro_sam.html#annotation-tools)\n",
    "\n",
    "Happy annotating!"
   ]
  },
  {
   "cell_type": "markdown",
   "id": "5960393f",
   "metadata": {},
   "source": [
    "*This notebook was last ran on May 5, 2025*"
   ]
  }
 ],
 "metadata": {
  "kaggle": {
   "accelerator": "gpu",
   "dataSources": [],
   "dockerImageVersionId": 31011,
   "isGpuEnabled": true,
   "isInternetEnabled": true,
   "language": "python",
   "sourceType": "notebook"
  },
  "kernelspec": {
   "display_name": "Python 3 (ipykernel)",
   "language": "python",
   "name": "python3"
  },
  "language_info": {
   "codemirror_mode": {
    "name": "ipython",
    "version": 3
   },
   "file_extension": ".py",
   "mimetype": "text/x-python",
   "name": "python",
   "nbconvert_exporter": "python",
   "pygments_lexer": "ipython3",
   "version": "3.12.7"
  }
 },
 "nbformat": 4,
 "nbformat_minor": 5
}
