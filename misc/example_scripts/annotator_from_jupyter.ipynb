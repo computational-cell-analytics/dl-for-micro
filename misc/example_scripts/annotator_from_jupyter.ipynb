{
 "cells": [
  {
   "cell_type": "markdown",
   "id": "3be4fdaf-d9c2-4e9a-8459-cdfb06055b71",
   "metadata": {},
   "source": [
    "Workaround for the saving commited data of uSAM"
   ]
  },
  {
   "cell_type": "code",
   "execution_count": 1,
   "id": "dc5c63cb-ff09-478b-b40e-3fffe67b6a65",
   "metadata": {},
   "outputs": [
    {
     "ename": "ModuleNotFoundError",
     "evalue": "No module named 'napari'",
     "output_type": "error",
     "traceback": [
      "\u001b[31m---------------------------------------------------------------------------\u001b[39m",
      "\u001b[31mModuleNotFoundError\u001b[39m                       Traceback (most recent call last)",
      "\u001b[36mCell\u001b[39m\u001b[36m \u001b[39m\u001b[32mIn[1]\u001b[39m\u001b[32m, line 1\u001b[39m\n\u001b[32m----> \u001b[39m\u001b[32m1\u001b[39m \u001b[38;5;28;01mimport\u001b[39;00m\u001b[38;5;250m \u001b[39m\u001b[34;01mnapari\u001b[39;00m\n\u001b[32m      2\u001b[39m \u001b[38;5;28;01mimport\u001b[39;00m\u001b[38;5;250m \u001b[39m\u001b[34;01mimageio\u001b[39;00m\u001b[34;01m.\u001b[39;00m\u001b[34;01mv3\u001b[39;00m\u001b[38;5;250m \u001b[39m\u001b[38;5;28;01mas\u001b[39;00m\u001b[38;5;250m \u001b[39m\u001b[34;01mimageio\u001b[39;00m\n\u001b[32m      3\u001b[39m \u001b[38;5;28;01mimport\u001b[39;00m\u001b[38;5;250m \u001b[39m\u001b[34;01mnumpy\u001b[39;00m\u001b[38;5;250m \u001b[39m\u001b[38;5;28;01mas\u001b[39;00m\u001b[38;5;250m \u001b[39m\u001b[34;01mnp\u001b[39;00m\n",
      "\u001b[31mModuleNotFoundError\u001b[39m: No module named 'napari'"
     ]
    }
   ],
   "source": [
    "import napari\n",
    "import imageio.v3 as imageio\n",
    "import numpy as np\n",
    "import os\n",
    "from micro_sam.sam_annotator import annotator_2d, annotator_3d\n"
   ]
  },
  {
   "cell_type": "code",
   "execution_count": 10,
   "id": "3f01d6df-cf8f-4c4d-8447-671272f765c2",
   "metadata": {},
   "outputs": [
    {
     "name": "stdout",
     "output_type": "stream",
     "text": [
      "out_path /user/apoliti/u17095/Documents/ground_truth/image_1_crop0010.tif\n"
     ]
    }
   ],
   "source": [
    "path_to_image = '/mnt/vast-standard/projects/scc_umin_pape_course_dlforia25/course_data/mathilde/cropped/image_1_crop0010.tif'\n",
    "base_name = os.path.basename(path_to_image)\n",
    "out_path = '/user/apoliti/u17095/Documents/ground_truth/' + base_name\n",
    "embedding_path = '/user/apoliti/u17095/Documents/ground_truth/embeddings.zarr/'\n",
    "print(f'out_path {out_path}')"
   ]
  },
  {
   "cell_type": "code",
   "execution_count": 3,
   "id": "479d6438-f6fc-4bae-b6b1-f5ba0645c0c0",
   "metadata": {},
   "outputs": [
    {
     "data": {
      "text/plain": [
       "(22, 2, 512, 512)"
      ]
     },
     "execution_count": 3,
     "metadata": {},
     "output_type": "execute_result"
    }
   ],
   "source": [
    "img = imageio.imread(path_to_image)\n",
    "img.shape"
   ]
  },
  {
   "cell_type": "code",
   "execution_count": 12,
   "id": "54951f2c-cf8d-421e-ac8b-63a73a6ccaf4",
   "metadata": {},
   "outputs": [
    {
     "name": "stderr",
     "output_type": "stream",
     "text": [
      "progress: : 0it [00:00, ?it/s]\n"
     ]
    }
   ],
   "source": [
    "# Single channel image annotator 3d (change to 2D for \n",
    "# dimension 1 is channels\n",
    "ch0 = img[:,0,:,:]\n",
    "viewer = annotator_3d(ch0, embedding_path=embedding_path, return_viewer=True)\n",
    "viewer.layers[0].contrast_limits = [np.min(ch0), np.quantile(ch0, 0.98)]\n",
    "# Reload committed objects if they exists\n",
    "is os.path.exists(out_path):\n",
    "    committed_objects = imageio.imread(out_path)\n",
    "    viewer.layers['committed_objects'].data = committed_objects\n",
    "# Start the annotator 3D manually"
   ]
  },
  {
   "cell_type": "code",
   "execution_count": 44,
   "id": "8282edaf-e293-499e-a36f-3ab89fea6d46",
   "metadata": {},
   "outputs": [],
   "source": [
    "# Save to our previously defined out_path\n",
    "imageio.imwrite(out_path, viewer.layers['commited_objects'].data)"
   ]
  },
  {
   "cell_type": "code",
   "execution_count": null,
   "id": "ba841268-5bfa-4942-b3c8-8b481505ee21",
   "metadata": {},
   "outputs": [],
   "source": []
  }
 ],
 "metadata": {
  "kernelspec": {
   "display_name": "Python [conda env:base] *",
   "language": "python",
   "name": "conda-base-py"
  },
  "language_info": {
   "codemirror_mode": {
    "name": "ipython",
    "version": 3
   },
   "file_extension": ".py",
   "mimetype": "text/x-python",
   "name": "python",
   "nbconvert_exporter": "python",
   "pygments_lexer": "ipython3",
   "version": "3.12.11"
  }
 },
 "nbformat": 4,
 "nbformat_minor": 5
}
