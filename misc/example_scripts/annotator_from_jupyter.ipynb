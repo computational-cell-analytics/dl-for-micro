{
 "cells": [
  {
   "cell_type": "markdown",
   "id": "3be4fdaf-d9c2-4e9a-8459-cdfb06055b71",
   "metadata": {},
   "source": [
    "Workaround for the saving commited data of uSAM"
   ]
  },
  {
   "cell_type": "code",
   "execution_count": null,
   "id": "dc5c63cb-ff09-478b-b40e-3fffe67b6a65",
   "metadata": {},
   "outputs": [],
   "source": [
    "import napari\n",
    "import imageio.v3 as imageio\n",
    "import numpy as np\n",
    "import os\n",
    "from micro_sam.sam_annotator import annotator_2d, annotator_3d\n"
   ]
  },
  {
   "cell_type": "code",
   "execution_count": null,
   "id": "3f01d6df-cf8f-4c4d-8447-671272f765c2",
   "metadata": {},
   "outputs": [],
   "source": [
    "path_to_image = '/mnt/vast-standard/projects/scc_umin_pape_course_dlforia25/course_data/mathilde/cropped/image_1_crop0010.tif'\n",
    "base_name = os.path.basename(path_to_image)\n",
    "out_path = '/user/apoliti/u17095/Documents/ground_truth/' + base_name\n",
    "embedding_path = '/user/apoliti/u17095/Documents/ground_truth/embeddings.zarr/'\n",
    "print(f'out_path {out_path}')"
   ]
  },
  {
   "cell_type": "code",
   "execution_count": null,
   "id": "479d6438-f6fc-4bae-b6b1-f5ba0645c0c0",
   "metadata": {},
   "outputs": [],
   "source": [
    "img = imageio.imread(path_to_image)\n",
    "img.shape"
   ]
  },
  {
   "cell_type": "code",
   "execution_count": null,
   "id": "54951f2c-cf8d-421e-ac8b-63a73a6ccaf4",
   "metadata": {},
   "outputs": [],
   "source": [
    "# Single channel image annotator 3d (change to 2D for \n",
    "# dimension 1 is channels\n",
    "ch0 = img[:,0,:,:]\n",
    "viewer = annotator_3d(ch0, embedding_path=embedding_path, return_viewer=True)\n",
    "viewer.layers[0].contrast_limits = [np.min(ch0), np.quantile(ch0, 0.98)]\n",
    "# Reload committed objects if they exists\n",
    "if os.path.exists(out_path):\n",
    "    committed_objects = imageio.imread(out_path)\n",
    "    viewer.layers['committed_objects'].data = committed_objects\n",
    "# Start the annotator 3D manually"
   ]
  },
  {
   "cell_type": "code",
   "execution_count": null,
   "id": "8282edaf-e293-499e-a36f-3ab89fea6d46",
   "metadata": {},
   "outputs": [],
   "source": [
    "# Save to our previously defined out_path\n",
    "imageio.imwrite(out_path, viewer.layers['committed_objects'].data)"
   ]
  },
  {
   "cell_type": "code",
   "execution_count": null,
   "id": "ba841268-5bfa-4942-b3c8-8b481505ee21",
   "metadata": {},
   "outputs": [],
   "source": []
  }
 ],
 "metadata": {
  "kernelspec": {
   "display_name": "Python [conda env:base] *",
   "language": "python",
   "name": "conda-base-py"
  },
  "language_info": {
   "codemirror_mode": {
    "name": "ipython",
    "version": 3
   },
   "file_extension": ".py",
   "mimetype": "text/x-python",
   "name": "python",
   "nbconvert_exporter": "python",
   "pygments_lexer": "ipython3",
   "version": "3.12.11"
  }
 },
 "nbformat": 4,
 "nbformat_minor": 5
}
