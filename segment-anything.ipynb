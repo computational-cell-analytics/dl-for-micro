{
 "cells": [
  {
   "cell_type": "markdown",
   "id": "1be4d22d",
   "metadata": {},
   "source": [
    "## Segment Anything for Data Annotation\n",
    "\n",
    "[Segment Anything](https://segment-anything.com/) is a recent model for interactive segmentation published by Meta.AI. It can be used for much faster (instance) segmentation annotations compared to previous approaches. We have build some napari tools around it in https://github.com/computational-cell-analytics/micro-sam.\n",
    "\n",
    "This notebook shows how to open one of the images from our example data in our 2d annotation tool."
   ]
  },
  {
   "cell_type": "code",
   "execution_count": null,
   "id": "b423d46d",
   "metadata": {},
   "outputs": [],
   "source": [
    "import os\n",
    "import h5py\n",
    "from micro_sam.sam_annotator import annotator_2d"
   ]
  },
  {
   "cell_type": "code",
   "execution_count": null,
   "id": "ffc2fb55",
   "metadata": {},
   "outputs": [],
   "source": [
    "# adapt this if you downloaded the data to another folder\n",
    "data_folder = \"data\""
   ]
  },
  {
   "cell_type": "code",
   "execution_count": null,
   "id": "8459f217",
   "metadata": {},
   "outputs": [],
   "source": [
    "# load an example image\n",
    "image_path = os.path.join(data_folder, \"gt_image_000.h5\")\n",
    "with h5py.File(image_path, \"r\") as f:\n",
    "    image = f[\"raw/serum_IgG/s0\"][:]"
   ]
  },
  {
   "cell_type": "code",
   "execution_count": null,
   "id": "0a890647",
   "metadata": {},
   "outputs": [],
   "source": [
    "# this path will be used to store the precomputed image embeddings for segment anything\n",
    "# computing these embeddings can take a few minutes (without a GPU), so we pre-compute them and then save\n",
    "# them to file, so that they can be reloaded to speed up opening the annotation tool a second time.\n",
    "# (this is especially important for 3d data or timeseries, where the embeddings have to be computed individually \n",
    "#  for each slice / frame)\n",
    "# IMPORTANT: when you want to annotate a new image / volume / timeseries you need to pick a different path\n",
    "embedding_save_path = os.path.join(data_folder, \"embed.zarr\")"
   ]
  },
  {
   "cell_type": "code",
   "execution_count": null,
   "id": "bdb1ebf8",
   "metadata": {},
   "outputs": [],
   "source": [
    "# start the 2d annotation tool\n",
    "annotator_2d(image, embedding_save_path)"
   ]
  },
  {
   "cell_type": "markdown",
   "id": "6d9da249",
   "metadata": {},
   "source": [
    "You can find a tutorial for how to use the annotation tools [here](https://github.com/computational-cell-analytics/micro-sam#usage)."
   ]
  }
 ],
 "metadata": {
  "kernelspec": {
   "display_name": "Python 3 (ipykernel)",
   "language": "python",
   "name": "python3"
  },
  "language_info": {
   "codemirror_mode": {
    "name": "ipython",
    "version": 3
   },
   "file_extension": ".py",
   "mimetype": "text/x-python",
   "name": "python",
   "nbconvert_exporter": "python",
   "pygments_lexer": "ipython3",
   "version": "3.10.10"
  }
 },
 "nbformat": 4,
 "nbformat_minor": 5
}
