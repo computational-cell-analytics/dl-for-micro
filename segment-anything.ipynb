{
 "cells": [
  {
   "cell_type": "markdown",
   "id": "1be4d22d",
   "metadata": {},
   "source": [
    "## Segment Anything for Data Annotation\n",
    "\n",
    "Lorem ipsum"
   ]
  },
  {
   "cell_type": "code",
   "execution_count": null,
   "id": "b423d46d",
   "metadata": {},
   "outputs": [],
   "source": [
    "import h5py"
   ]
  },
  {
   "cell_type": "code",
   "execution_count": null,
   "id": "ffc2fb55",
   "metadata": {},
   "outputs": [],
   "source": [
    "from micro_sam.sam_annotator import annotator_2d"
   ]
  },
  {
   "cell_type": "code",
   "execution_count": null,
   "id": "8459f217",
   "metadata": {},
   "outputs": [],
   "source": [
    "image_path = \"./data/gt_image_000.h5\""
   ]
  },
  {
   "cell_type": "code",
   "execution_count": null,
   "id": "0a890647",
   "metadata": {},
   "outputs": [],
   "source": [
    "with h5py.File(image_path, \"r\") as f:\n",
    "    image = f[\"raw/serum_IgG/s0\"][:]"
   ]
  },
  {
   "cell_type": "code",
   "execution_count": null,
   "id": "bdb1ebf8",
   "metadata": {},
   "outputs": [],
   "source": [
    "annotator_2d(image, \"embedd.zarr\")"
   ]
  }
 ],
 "metadata": {
  "kernelspec": {
   "display_name": "Python 3 (ipykernel)",
   "language": "python",
   "name": "python3"
  },
  "language_info": {
   "codemirror_mode": {
    "name": "ipython",
    "version": 3
   },
   "file_extension": ".py",
   "mimetype": "text/x-python",
   "name": "python",
   "nbconvert_exporter": "python",
   "pygments_lexer": "ipython3",
   "version": "3.10.10"
  }
 },
 "nbformat": 4,
 "nbformat_minor": 5
}
