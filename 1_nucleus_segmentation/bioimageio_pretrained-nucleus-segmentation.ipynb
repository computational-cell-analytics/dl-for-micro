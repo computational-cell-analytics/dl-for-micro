{
 "cells": [
  {
   "cell_type": "markdown",
   "id": "a0a3e1c0",
   "metadata": {},
   "source": [
    "## Nucleus Segmentation with a pre-trained network\n",
    "\n",
    "lorem ipsum https://bioimage.io/#/"
   ]
  },
  {
   "cell_type": "code",
   "execution_count": null,
   "id": "7aef311f",
   "metadata": {},
   "outputs": [],
   "source": [
    "import os\n",
    "\n",
    "import h5py\n",
    "import napari"
   ]
  },
  {
   "cell_type": "code",
   "execution_count": null,
   "id": "d8b1c64c",
   "metadata": {},
   "outputs": [],
   "source": [
    "data_folder = \"../data\"\n",
    "output_folder = os.path.join(\"../data\", \"predictions\")\n",
    "os.makedirs(output_folder, exist_ok=True)"
   ]
  },
  {
   "cell_type": "markdown",
   "id": "abbb6a76",
   "metadata": {},
   "source": [
    "### 1. Load the nucleus segmentation model\n",
    "\n",
    "https://bioimage.io/#/?tags=nuclei&id=10.5281%2Fzenodo.5764892"
   ]
  },
  {
   "cell_type": "code",
   "execution_count": null,
   "id": "f97a14e0",
   "metadata": {},
   "outputs": [],
   "source": [
    "import bioimageio.core\n",
    "from xarray import DataArray"
   ]
  },
  {
   "cell_type": "code",
   "execution_count": null,
   "id": "db9e5379",
   "metadata": {},
   "outputs": [],
   "source": [
    "model_name = \"affable-shark\"\n",
    "\n",
    "model = bioimageio.core.load_resource_description(model_name)"
   ]
  },
  {
   "cell_type": "markdown",
   "id": "7608fbb2",
   "metadata": {},
   "source": [
    "### 2. Check the model"
   ]
  },
  {
   "cell_type": "code",
   "execution_count": null,
   "id": "f3406ea1",
   "metadata": {},
   "outputs": [],
   "source": [
    "image_path = \"../data/test/gt_image_040.h5\"\n",
    "with h5py.File(image_path, \"r\") as f:\n",
    "    image = f[\"raw/nuclei/s0\"][:]"
   ]
  },
  {
   "cell_type": "code",
   "execution_count": null,
   "id": "6f6d142a",
   "metadata": {},
   "outputs": [],
   "source": [
    "with bioimageio.core.create_prediction_pipeline(model) as pp:\n",
    "    input_ = DataArray(image[None, None], dims=tuple(\"bcyx\"))\n",
    "    prediction = pp(input_)[0].squeeze().values"
   ]
  },
  {
   "cell_type": "code",
   "execution_count": null,
   "id": "3f98fc42",
   "metadata": {},
   "outputs": [],
   "source": [
    "viewer = napari.Viewer()\n",
    "viewer.add_image(image)\n",
    "viewer.add_image(prediction)"
   ]
  },
  {
   "cell_type": "markdown",
   "id": "db41f2c2",
   "metadata": {},
   "source": [
    "### 3. Implement post-processing to get an instance segmentation"
   ]
  },
  {
   "cell_type": "code",
   "execution_count": null,
   "id": "90642bb5",
   "metadata": {},
   "outputs": [],
   "source": [
    "import numpy as np\n",
    "from scipy.ndimage import distance_transform_edt\n",
    "from skimage.feature import peak_local_max\n",
    "from skimage.filters import gaussian\n",
    "from skimage.segmentation import watershed"
   ]
  },
  {
   "cell_type": "code",
   "execution_count": null,
   "id": "6312d050",
   "metadata": {},
   "outputs": [],
   "source": [
    "foreground, boundaries = prediction\n",
    "foreground = foreground > 0.5\n",
    "boundary_distances = distance_transform_edt(boundaries < 0.1)\n",
    "boundary_distances[~foreground] = 0\n",
    "boundary_distances = gaussian(boundary_distances)"
   ]
  },
  {
   "cell_type": "code",
   "execution_count": null,
   "id": "740b05ad",
   "metadata": {},
   "outputs": [],
   "source": [
    "seed_points = peak_local_max(boundary_distances, min_distance=5, exclude_border=False)\n",
    "seeds = np.zeros(foreground.shape, dtype=\"uint32\")\n",
    "seeds[seed_points[:, 0], seed_points[:, 1]] = np.arange(1, len(seed_points) + 1)\n",
    "nucleus_segmentation = watershed(boundaries, markers=seeds, mask=foreground)"
   ]
  },
  {
   "cell_type": "code",
   "execution_count": null,
   "id": "d1668429",
   "metadata": {},
   "outputs": [],
   "source": [
    "viewer = napari.Viewer()\n",
    "viewer.add_image(image)\n",
    "viewer.add_image(boundaries)\n",
    "viewer.add_image(boundary_distances)\n",
    "viewer.add_points(seed_points)\n",
    "viewer.add_labels(nucleus_segmentation)"
   ]
  },
  {
   "cell_type": "markdown",
   "id": "3b15e287",
   "metadata": {},
   "source": [
    "### 4. Apply to all data"
   ]
  },
  {
   "cell_type": "code",
   "execution_count": null,
   "id": "af4774ed",
   "metadata": {},
   "outputs": [],
   "source": [
    "from glob import glob\n",
    "from tqdm import tqdm"
   ]
  },
  {
   "cell_type": "code",
   "execution_count": null,
   "id": "4bd329f5",
   "metadata": {},
   "outputs": [],
   "source": [
    "input_files = glob(os.path.join(data_folder, \"*.h5\"))"
   ]
  },
  {
   "cell_type": "code",
   "execution_count": null,
   "id": "aaea94ec",
   "metadata": {},
   "outputs": [],
   "source": [
    "shapes = [np.array(h5py.File(path, \"r\")[\"raw/nuclei/s0\"].shape) for path in input_files]\n",
    "print(\"Image shapes:\", np.unique(shapes, axis=0))"
   ]
  },
  {
   "cell_type": "code",
   "execution_count": null,
   "id": "62155846",
   "metadata": {},
   "outputs": [],
   "source": [
    "print(model.inputs[0].shape)"
   ]
  },
  {
   "cell_type": "code",
   "execution_count": null,
   "id": "cf1ea34e",
   "metadata": {},
   "outputs": [],
   "source": [
    "def run_segmentation(pp, image, min_distance=5, sigma=1.0):\n",
    "    input_ = DataArray(image[None, None], dims=tuple(\"bcyx\"))\n",
    "    prediction = bioimageio.core.predict_with_padding(pp, input_, padding={\"x\": 16, \"y\": 16})[0].squeeze().values\n",
    "    foreground, boundaries = prediction\n",
    "    foreground = foreground > 0.5\n",
    "    boundary_distances = distance_transform_edt(boundaries < 0.1)\n",
    "    boundary_distances[~foreground] = 0\n",
    "    boundary_distances = gaussian(boundary_distances, sigma)\n",
    "    seed_points = peak_local_max(boundary_distances, min_distance=min_distance, exclude_border=False)\n",
    "    seeds = np.zeros(foreground.shape, dtype=\"uint32\")\n",
    "    seeds[seed_points[:, 0], seed_points[:, 1]] = np.arange(1, len(seed_points) + 1)\n",
    "    nucleus_segmentation = watershed(boundaries, markers=seeds, mask=foreground)\n",
    "    return nucleus_segmentation"
   ]
  },
  {
   "cell_type": "code",
   "execution_count": null,
   "id": "5008ccbd",
   "metadata": {},
   "outputs": [],
   "source": [
    "with bioimageio.core.create_prediction_pipeline(model) as pp:\n",
    "    for path in tqdm(input_files, desc=\"Run nucleus segmentation\"):\n",
    "        with h5py.File(path, \"r\") as f:\n",
    "            image = f[\"raw/nuclei/s0\"][:]\n",
    "        segmentation = run_segmentation(pp, image)\n",
    "        output_path = os.path.join(output_folder, os.path.basename(path))\n",
    "        with h5py.File(output_path, \"a\") as f:\n",
    "            f.create_dataset(\"segmentations/nuclei/watershed_based\", data=segmentation, compression=\"gzip\")"
   ]
  },
  {
   "cell_type": "markdown",
   "id": "94f7db4b",
   "metadata": {},
   "source": [
    "### Exercises\n",
    "\n",
    "lorem ipsum dolor"
   ]
  },
  {
   "cell_type": "markdown",
   "id": "34c9e45d",
   "metadata": {},
   "source": [
    "**What's next**"
   ]
  }
 ],
 "metadata": {
  "kernelspec": {
   "display_name": "Python 3 (ipykernel)",
   "language": "python",
   "name": "python3"
  },
  "language_info": {
   "codemirror_mode": {
    "name": "ipython",
    "version": 3
   },
   "file_extension": ".py",
   "mimetype": "text/x-python",
   "name": "python",
   "nbconvert_exporter": "python",
   "pygments_lexer": "ipython3",
   "version": "3.9.9"
  }
 },
 "nbformat": 4,
 "nbformat_minor": 5
}
