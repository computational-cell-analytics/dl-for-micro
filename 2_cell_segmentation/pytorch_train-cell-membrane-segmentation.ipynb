{
 "cells": [
  {
   "cell_type": "markdown",
   "id": "878447fb-1a08-4efc-93b1-1895e50dcfcb",
   "metadata": {},
   "source": [
    "# Train a U-Net for Cell Segmentation\n",
    "To segment the full cell (cytosol + nucleus) we first train a U-Net to predict the foreground and boundaries of the cells. We will later uses these predictions to segment the cells using a seeded watershed from the nucleus predictions (see previous notebooks).\n",
    "\n",
    "Here, we will use the pytorch library to train a U-Net using the images and ground-truth data we have downloaded. The goal of this lesson is learning how to use this library for training segmentation models.\n",
    "\n",
    "Note: we are also working on a notebook that shows how to train a U-Net using only PyTorch in pytorch_train-cell-membrane-segmentation.ipynb. (This is not yet finished.)"
   ]
  },
  {
   "cell_type": "code",
   "execution_count": 1,
   "id": "c4ed9f09-e439-4914-b8de-27d4ca9dcc2c",
   "metadata": {},
   "outputs": [],
   "source": [
    "# General imports.\n",
    "\n",
    "import os\n",
    "import sys\n",
    "from glob import glob\n",
    "import imageio.v3 as imageio\n",
    "import matplotlib.pyplot as plt\n",
    "import napari\n",
    "import numpy as np\n",
    "\n",
    "sys.path.append(\"..\")\n",
    "import utils"
   ]
  },
  {
   "cell_type": "code",
   "execution_count": 2,
   "id": "cc188708-d8e7-4e7a-ba68-e749a973477e",
   "metadata": {},
   "outputs": [
    {
     "name": "stdout",
     "output_type": "stream",
     "text": [
      "The data is downloaded already.\n"
     ]
    }
   ],
   "source": [
    "# This function will download and unpack the data and do some further data preparation.\n",
    "# It will only be executed if the data has not been downloaded yet.\n",
    "data_dir = \"../data\"\n",
    "if os.path.exists(data_dir):\n",
    "    print(\"The data is downloaded already.\")\n",
    "else:\n",
    "    utils.prepare_data(data_dir)"
   ]
  },
  {
   "cell_type": "markdown",
   "id": "2a7154af-58da-418d-9397-de23f7a346ff",
   "metadata": {},
   "source": [
    "### 1. Prepare the data for training"
   ]
  },
  {
   "cell_type": "code",
   "execution_count": 3,
   "id": "4e51ed2b-8bcc-4dd2-a68e-11c88b66b93f",
   "metadata": {},
   "outputs": [
    {
     "name": "stdout",
     "output_type": "stream",
     "text": [
      "['gt_image_000_nucleus_image.tif', 'labels.json', 'gt_image_000_marker_image.tif', 'gt_image_000_infected_labels.tif', 'gt_image_000_nucleus_labels.tif', 'gt_image_000_cell_labels.tif', 'gt_image_000_serum_image.tif']\n"
     ]
    }
   ],
   "source": [
    "# The data has been downloaded and separated into folders for the train, validation and test split already.\n",
    "# We first create a dictionary with the location of the three different split folders.\n",
    "data_dirs = {\n",
    "    \"train\": os.path.join(data_dir, \"train\"),\n",
    "    \"val\": os.path.join(data_dir, \"val\"),\n",
    "    \"test\": os.path.join(data_dir, \"test\")\n",
    "}\n",
    "\n",
    "# And check the content for one of the samples.\n",
    "# After the print you should see the images (marker, nuclei, serum), labels (cells and nuclei) as well as a json file.\n",
    "train_sample0 = os.path.join(data_dirs[\"train\"], \"gt_image_000\")\n",
    "print(os.listdir(train_sample0))"
   ]
  },
  {
   "cell_type": "code",
   "execution_count": 4,
   "id": "618d5f45-9594-4e21-84b1-b29d8636732c",
   "metadata": {},
   "outputs": [],
   "source": [
    "# Here we define the function that cuts out the small images centered around the cells for one image.\n",
    "\n",
    "# This is a helper function for normalizing an image to the range [0, 1].\n",
    "# Data normalization is important when training neural networks for image data\n",
    "# to make sure all the inputs are in the same data range.\n",
    "def normalize(image):\n",
    "    image = image.astype(\"float32\")\n",
    "    # Normalise the image to [0,1]\n",
    "    image = (image - np.min(image))/np.ptp(image)\n",
    "    return image\n",
    "\n",
    "\n",
    "# This is the main function for extracting the small images.\n",
    "# We give it the path to the folder containing the data for a sample as input.\n",
    "# Remember that this contains the images, segmentations and classification data\n",
    "# in individual files for each sample. We have explored some of this data above.\n",
    "def extract_images_and_labels(sample_folder):\n",
    "\n",
    "    # We create the filepaths for the image and segmentation data we will load. \n",
    "    sample_name = os.path.basename(sample_folder)  # We can derive the sample name from the foldername.\n",
    "\n",
    "    # serum is the image and cell is the label\n",
    "    serum_path = os.path.join(sample_folder, f\"{sample_name}_serum_image.tif\")\n",
    "    cell_segmentation_path = os.path.join(sample_folder, f\"{sample_name}_cell_labels.tif\")\n",
    "\n",
    "    # And load the serum image and the cell segmentation.\n",
    "    # We normalize the serum image so that the data range is in [0, 1].\n",
    "    serum = normalize(imageio.imread(serum_path))\n",
    "    # Note that we must not normalize the segmentation!\n",
    "    cells = imageio.imread(cell_segmentation_path)\n",
    "\n",
    "    return serum, cells"
   ]
  },
  {
   "cell_type": "code",
   "execution_count": 5,
   "id": "3cf88e40-c0fe-4cd5-b968-cebe0ab902b7",
   "metadata": {},
   "outputs": [],
   "source": [
    "# This function applies the data extraction function we just defined to all samples\n",
    "# for a split (training, validation or test) and extracts all the corresponding small images\n",
    "# and classification labels.\n",
    "def prepare_split(split):\n",
    "    # Get all the folders for the samples of this split.\n",
    "    split_folder = data_dirs[split]\n",
    "    samples = glob(os.path.join(split_folder, \"gt*\"))\n",
    "    # Iterate over all the samples and extract the images and labels from them.\n",
    "    images, labels = [], []\n",
    "    for sample in samples:\n",
    "        sample_image, sample_labels = extract_images_and_labels(sample)\n",
    "        images.append(sample_image)\n",
    "        labels.append(sample_labels)\n",
    "    return images, labels"
   ]
  },
  {
   "cell_type": "code",
   "execution_count": 6,
   "id": "9c3eb206-f14b-47dd-a9a2-0fc9e31f9587",
   "metadata": {},
   "outputs": [
    {
     "name": "stdout",
     "output_type": "stream",
     "text": [
      "We have 35 training samples.\n"
     ]
    }
   ],
   "source": [
    "# Now we apply the functions for the training, validation and test split\n",
    "# and check how many samples we have for each split.\n",
    "\n",
    "train_images, train_labels = prepare_split(\"train\")\n",
    "print(\"We have\", len(train_images), \"training samples.\")"
   ]
  },
  {
   "cell_type": "code",
   "execution_count": 7,
   "id": "3b15bad4-032a-4f73-941f-61879242216b",
   "metadata": {},
   "outputs": [
    {
     "name": "stdout",
     "output_type": "stream",
     "text": [
      "We have 5 validation samples\n"
     ]
    }
   ],
   "source": [
    "val_images, val_labels = prepare_split(\"val\")\n",
    "print(\"We have\", len(val_images), \"validation samples\")"
   ]
  },
  {
   "cell_type": "code",
   "execution_count": 8,
   "id": "52bdfacc-cd56-4456-a342-a1702a4d04e3",
   "metadata": {},
   "outputs": [
    {
     "name": "stdout",
     "output_type": "stream",
     "text": [
      "We have 9 test samples\n"
     ]
    }
   ],
   "source": [
    "test_images, test_labels = prepare_split(\"test\")\n",
    "print(\"We have\", len(test_images), \"test samples\")"
   ]
  },
  {
   "cell_type": "code",
   "execution_count": 9,
   "id": "c017d3f4-7a86-4705-ac78-8b72ac248079",
   "metadata": {},
   "outputs": [
    {
     "name": "stderr",
     "output_type": "stream",
     "text": [
      "WARNING: Qt: Session management error: None of the authentication protocols specified are supported\n",
      "WARNING: could not determine DPI\n",
      "Failed to establish dbus connectionFailed to establish dbus connection"
     ]
    },
    {
     "data": {
      "text/plain": [
       "<Labels layer 'Labels' at 0x7f119825a4a0>"
      ]
     },
     "execution_count": 9,
     "metadata": {},
     "output_type": "execute_result"
    }
   ],
   "source": [
    "viewer = napari.Viewer()\n",
    "# Visualize the image data\n",
    "viewer.add_image(train_images[0], colormap=\"green\")\n",
    "viewer.add_labels(train_labels[0])"
   ]
  },
  {
   "cell_type": "markdown",
   "id": "fb0d0a56-3056-4189-8f77-9362f9298dc5",
   "metadata": {},
   "source": [
    "### 2. Build dataset, dataloader and model"
   ]
  },
  {
   "cell_type": "code",
   "execution_count": 10,
   "id": "2e76abf4-07f0-4533-a966-3ea207764158",
   "metadata": {},
   "outputs": [
    {
     "name": "stderr",
     "output_type": "stream",
     "text": [
      "/opt/conda/envs/sam/lib/python3.10/site-packages/torchvision/datapoints/__init__.py:12: UserWarning: The torchvision.datapoints and torchvision.transforms.v2 namespaces are still Beta. While we do not expect major breaking changes, some APIs may still change according to user feedback. Please submit any feedback you may have in this issue: https://github.com/pytorch/vision/issues/6753, and you can also check out https://github.com/pytorch/vision/issues/7319 to learn more about the APIs that we suspect might involve future changes. You can silence this warning by calling torchvision.disable_beta_transforms_warning().\n",
      "  warnings.warn(_BETA_TRANSFORMS_WARNING)\n",
      "/opt/conda/envs/sam/lib/python3.10/site-packages/torchvision/transforms/v2/__init__.py:54: UserWarning: The torchvision.datapoints and torchvision.transforms.v2 namespaces are still Beta. While we do not expect major breaking changes, some APIs may still change according to user feedback. Please submit any feedback you may have in this issue: https://github.com/pytorch/vision/issues/6753, and you can also check out https://github.com/pytorch/vision/issues/7319 to learn more about the APIs that we suspect might involve future changes. You can silence this warning by calling torchvision.disable_beta_transforms_warning().\n",
      "  warnings.warn(_BETA_TRANSFORMS_WARNING)\n"
     ]
    }
   ],
   "source": [
    "# Import the PyTorch functionality we need.\n",
    "import torch\n",
    "from torch.utils.data import Dataset, DataLoader\n",
    "\n",
    "import tqdm\n",
    "import torch.nn as nn\n",
    "import torch.nn.functional as F\n",
    "\n",
    "# Additional imports for evaluation and image transformations.\n",
    "from torchvision.transforms import v2\n",
    "from sklearn import metrics\n",
    "from skimage.transform import resize"
   ]
  },
  {
   "cell_type": "code",
   "execution_count": 11,
   "id": "ee59195d-1836-4cee-b98c-f9d4f8ae9024",
   "metadata": {},
   "outputs": [
    {
     "name": "stdout",
     "output_type": "stream",
     "text": [
      "GPU is available\n"
     ]
    }
   ],
   "source": [
    "# We first check if we have access to a GPU.\n",
    "# The model training will be much faster if we can use a GPU.\n",
    "if torch.cuda.is_available():\n",
    "    print(\"GPU is available\")\n",
    "    device = torch.device(\"cuda\")\n",
    "else:\n",
    "    print(\"GPU is NOT available. The training will be very slow!\")\n",
    "    device = torch.device(\"cpu\")"
   ]
  },
  {
   "cell_type": "code",
   "execution_count": 12,
   "id": "15e41e5f-4023-4e5b-a7d1-2ab21bdbc15e",
   "metadata": {},
   "outputs": [],
   "source": [
    "# To provide the data for training we need to create a PyTorch Dataset.\n",
    "# Datasets provide a single example (= small image + label) for training.\n",
    "# They can also be used to process the data further. Here, we resize the images\n",
    "# to the common shape within the dataset.\n",
    "\n",
    "# You can find more information on datasets here:\n",
    "# https://pytorch.org/tutorials/beginner/basics/data_tutorial.html\n",
    "\n",
    "# To create a dataset for our task we create a class that inherits\n",
    "# from the PyTorch dataset.\n",
    "class CustomDataset(Dataset):\n",
    "    # Here we define the data for creating the dataset:\n",
    "    # The small images for this dataset, the labels and the size for reshaping the images.\n",
    "    def __init__(self, images, labels, crop_size, transform=None, mask_transform=None):\n",
    "        self.images = images\n",
    "        self.labels = labels\n",
    "        self.crop_size = crop_size\n",
    "        self.transform = transform\n",
    "        self.mask_transform = mask_transform\n",
    "\n",
    "    # A dataset needs a __len__ method that returns how many samples are in the dataset.\n",
    "    # Here, the number of samples corresponds to the number of small images.\n",
    "    def __len__(self):\n",
    "        return len(self.images)\n",
    "\n",
    "    # The __getitem__ method returns the image data and labels for a given sample index.\n",
    "    def __getitem__(self, index):\n",
    "        # Load the image data and label for this sample index.\n",
    "        image = self.images[index]\n",
    "        mask = self.labels[index]\n",
    "\n",
    "        # crop the images, so that we can fit them into memory\n",
    "        crop_shape = self.crop_size\n",
    "        shape = image.shape\n",
    "        if shape != crop_shape:\n",
    "            assert image.ndim == mask.ndim == 2\n",
    "            # bring it to common shape\n",
    "            image = resize(image, shape, preserve_range=True)\n",
    "            mask = resize(mask, shape, preserve_range=True)\n",
    "            # Random crop same excerpt from image and mask\n",
    "            i, j, h, w = v2.RandomCrop.get_params(\n",
    "                torch.tensor(image), output_size=self.crop_size\n",
    "            )\n",
    "            image = v2.functional.crop(torch.tensor(image), i, j, h, w)\n",
    "            mask = v2.functional.crop(torch.tensor(mask), i, j, h, w)\n",
    "        \n",
    "        # make sure to add the channel dimension to the image\n",
    "        image, mask = np.array(image), np.array(mask)\n",
    "        if image.ndim == 2:\n",
    "            image = image[None]      \n",
    "        \n",
    "        # Apply transform if available.\n",
    "        if self.transform:\n",
    "            image = self.transform(image)         \n",
    "            mask = self.transform(mask)\n",
    "        # Apply specific transform for mask\n",
    "        if self.mask_transform:\n",
    "            mask = self.mask_transform(mask)   \n",
    "\n",
    "        return image, mask"
   ]
  },
  {
   "cell_type": "code",
   "execution_count": 13,
   "id": "0b8cbce6-8903-43c6-8c9b-ca38f4e4c0e9",
   "metadata": {},
   "outputs": [],
   "source": [
    "# train the model for one epoch\n",
    "def train_epoch(model, loader, loss, metric, optimizer):\n",
    "    model.train()\n",
    "    metric_list, loss_list = [], []\n",
    "    for i, (x, y) in enumerate(loader):\n",
    "        optimizer.zero_grad()\n",
    "        x, y = x.to(device), y.to(device)\n",
    "        pred = model(x)\n",
    "        loss_value = loss(pred, y)\n",
    "        loss_value.backward()\n",
    "        optimizer.step()\n",
    "        loss_list.append(loss_value.item())\n",
    "        if metric is not None:\n",
    "            metric_value = metric(pred, y)\n",
    "            metric_list.append(metric_value.item())\n",
    "\n",
    "    if metric is not None:\n",
    "        return np.mean(loss_list), np.mean(metric_list)\n",
    "    else:\n",
    "        return np.mean(loss_list), None\n",
    "\n",
    "# validate the model\n",
    "def validate(model, loader, loss, metric):\n",
    "    model.eval()\n",
    "    metric_list, loss_list = [], []\n",
    "    with torch.no_grad():\n",
    "        for x, y in loader:\n",
    "            x, y = x.to(device), y.to(device)\n",
    "            pred = model(x)\n",
    "            loss_value = loss(pred, y).item()\n",
    "            loss_list.append(loss_value)\n",
    "            if metric is not None:\n",
    "                metric_value = metric(pred, y).item()\n",
    "                metric_list.append(metric_value)\n",
    "\n",
    "    if metric is not None:\n",
    "        return np.mean(loss_list), np.mean(metric_list)\n",
    "    else:\n",
    "        return np.mean(loss_list), None\n",
    "\n",
    "\n",
    "# run the whole training\n",
    "def run_training(\n",
    "    model, train_loader, val_loader, loss, metric, optimizer, n_epochs\n",
    "):\n",
    "    train_losses, train_accs = [], []\n",
    "    val_losses, val_accs = [], []\n",
    "    for epoch in tqdm.trange(n_epochs):\n",
    "        epoch_train_loss, epoch_train_acc = train_epoch(model, train_loader, loss, metric, optimizer)\n",
    "        epoch_val_loss, epoch_val_acc = validate(model, val_loader, loss, metric)\n",
    "        \n",
    "        # save the loss and accuracy for plotting\n",
    "        train_losses.append(epoch_train_loss)\n",
    "        train_accs.append(epoch_train_acc)\n",
    "        val_losses.append(epoch_val_loss)\n",
    "        val_accs.append(epoch_val_acc)\n",
    "    \n",
    "    return train_losses, train_accs, val_losses, val_accs"
   ]
  },
  {
   "cell_type": "code",
   "execution_count": 14,
   "id": "2263252f-297c-49d4-9058-60205efe5f78",
   "metadata": {
    "jupyter": {
     "source_hidden": true
    }
   },
   "outputs": [],
   "source": [
    "# plot the metrics\n",
    "def plot(title, label, train_results, val_results, yscale='linear', save_path=None, \n",
    "         extra_pt=None, extra_pt_label=None):\n",
    "    epoch_array = np.arange(len(train_results)) + 1\n",
    "    train_label, val_label = \"Training \"+label.lower(), \"Validation \"+label.lower()\n",
    "\n",
    "\n",
    "    plt.plot(epoch_array, train_results, epoch_array, val_results, linestyle='dashed', marker='o')\n",
    "    legend = ['Train results', 'Validation results']\n",
    "    \n",
    "    if extra_pt:\n",
    "        plt.plot(*extra_pt, 'ok')\n",
    "    if extra_pt_label:\n",
    "        legend.append(extra_pt_label)\n",
    "        \n",
    "    plt.legend(legend)\n",
    "    plt.xlabel('Epoch')\n",
    "    plt.ylabel(label)\n",
    "    plt.yscale(yscale)\n",
    "    plt.title(title)\n",
    "    plt.title(title, fontsize=15)\n",
    "    if save_path:\n",
    "        plt.savefig(str(save_path), bbox_inches='tight')\n",
    "    plt.show()"
   ]
  },
  {
   "cell_type": "code",
   "execution_count": 15,
   "id": "66b2ce24-1bd4-43c6-856b-c29c4d9a077e",
   "metadata": {},
   "outputs": [],
   "source": [
    "# CustomUNet2d\n",
    "class UNet(nn.Module):\n",
    "    def conv_block(self, in_feats, out_feats):\n",
    "        return nn.Sequential(\n",
    "            nn.InstanceNorm2d(in_feats),\n",
    "            nn.Conv2d(in_feats, out_feats, kernel_size=3, padding=1),\n",
    "            nn.ReLU(inplace=True),\n",
    "            nn.InstanceNorm2d(out_feats),\n",
    "            nn.Conv2d(out_feats, out_feats, kernel_size=3, padding=1),\n",
    "            nn.ReLU(inplace=True),\n",
    "        )\n",
    "\n",
    "    def __init__(self, initial_features=32, in_channels=1, out_channels=1, activation=True):\n",
    "        super().__init__()\n",
    "        \n",
    "        in_features = [in_channels, initial_features, initial_features * 2, initial_features * 4]\n",
    "        out_features = [initial_features, initial_features * 2, initial_features * 4, initial_features * 8]\n",
    "        \n",
    "        self.encoders = nn.ModuleList([\n",
    "            self.conv_block(in_feats, out_feats) for in_feats, out_feats in zip(in_features, out_features)\n",
    "        ])\n",
    "        self.poolers = [nn.MaxPool2d(2)] * len(in_features)\n",
    "        self.base = self.conv_block(initial_features * 8, initial_features * 16)\n",
    "\n",
    "        in_features = [initial_features * 16, initial_features * 8, initial_features * 4, initial_features * 2]\n",
    "        out_features = [initial_features * 8, initial_features * 4, initial_features * 2, initial_features]\n",
    "        self.decoders = nn.ModuleList([\n",
    "            self.conv_block(in_feats, out_feats)\n",
    "            for in_feats, out_feats in zip(in_features, out_features)\n",
    "        ])\n",
    "        self.upsamplers = nn.ModuleList([\n",
    "            nn.ConvTranspose2d(in_feats, out_feats, 2, stride=2)\n",
    "            for in_feats, out_feats in zip(in_features, out_features)\n",
    "        ])\n",
    "        self.out_conv = nn.Conv2d(out_features[-1], out_channels, 1)\n",
    "        # last activation is optional\n",
    "        if activation == True:\n",
    "            self.last_activation = nn.Sigmoid()\n",
    "\n",
    "    def forward(self, x):\n",
    "        from_encoder = []\n",
    "        for encoder, pooler in zip(self.encoders, self.poolers):\n",
    "            x = encoder(x)\n",
    "            from_encoder.append(x)\n",
    "            x = pooler(x)\n",
    "        x = self.base(x)\n",
    "        from_encoder = from_encoder[::-1]\n",
    "        for decoder, upsampler, from_enc in zip(self.decoders, self.upsamplers, from_encoder):\n",
    "            x = decoder(torch.cat([\n",
    "                from_enc, upsampler(x)\n",
    "            ], dim=1))\n",
    "        x = self.out_conv(x)\n",
    "        x = self.last_activation(x)\n",
    "        return x"
   ]
  },
  {
   "cell_type": "markdown",
   "id": "a079b0a5-1535-4f22-8bb7-bf922a512542",
   "metadata": {},
   "source": [
    "# Train with boundary channel\n",
    "We will now add a boundary channel to the learning objective, and then use it for semantic segmentation. \n",
    "To this end, we will train a U-Net that outputs 2 channels (foreground, object boundary) and use the dice loss."
   ]
  },
  {
   "cell_type": "code",
   "execution_count": 16,
   "id": "68c596f2-6fb3-401f-881e-099576b8b9bd",
   "metadata": {},
   "outputs": [],
   "source": [
    "# use skimage function to transform the label\n",
    "from skimage.segmentation import find_boundaries"
   ]
  },
  {
   "cell_type": "markdown",
   "id": "02f3361a-6480-420d-bc83-8e53a6b1b615",
   "metadata": {},
   "source": [
    "### Implement and Use: Dice Loss Function\n",
    "For training with the boundary channel, CrossEntropyLoss and BinaryCrossEntropyLoss do not yield the desired results. This is caused by the nature of the data. We call the data \"unbalanced\" because the label you aim to predict represents a significantly smaller portion of the overall data, particularly noticeable in the boundary channel when compared to the background.  \n",
    "\n",
    "Therefore, it is beneficial to use a loss function that is robust against class imbalance:\n",
    "In this part of the exercise we will use the Dice coefficient as loss.\n",
    "\n",
    "\r\n",
    "Note that we do not need to predict a channel for background when using the dice coefficient as a loss (unlike with Cross Entropy)."
   ]
  },
  {
   "cell_type": "code",
   "execution_count": 17,
   "id": "60938927-72bc-4e20-b907-636f11e5ab9c",
   "metadata": {},
   "outputs": [],
   "source": [
    "def label_transform(mask):\n",
    "    mask = np.array(mask)\n",
    "    fg_target = (mask > 0).astype(\"float32\")\n",
    "    bd_target = find_boundaries(mask, mode=\"thick\").astype(\"float32\")\n",
    "    return np.stack([fg_target, bd_target])"
   ]
  },
  {
   "cell_type": "code",
   "execution_count": 18,
   "id": "a605ed0c-766f-413d-bcd2-356c7f2cbe48",
   "metadata": {},
   "outputs": [],
   "source": [
    "crop_shape = (512, 512) \n",
    "batch_size = 1\n",
    "\n",
    "# create datasets\n",
    "train_dataset = CustomDataset(train_images, train_labels, crop_size=crop_shape, mask_transform=label_transform)\n",
    "val_dataset = CustomDataset(val_images, val_labels, crop_size=crop_shape, mask_transform=label_transform)\n",
    "test_dataset = CustomDataset(test_images, test_labels, crop_size=crop_shape, mask_transform=label_transform)\n",
    "\n",
    "# create loader\n",
    "train_loader = DataLoader(train_dataset, batch_size=batch_size, shuffle=True) \n",
    "val_loader = DataLoader(val_dataset, batch_size=batch_size)\n",
    "test_loader = DataLoader(test_dataset, batch_size=batch_size)"
   ]
  },
  {
   "cell_type": "code",
   "execution_count": 19,
   "id": "9ff939b6-a684-4f1c-b1cc-0fc85acaa214",
   "metadata": {},
   "outputs": [
    {
     "name": "stderr",
     "output_type": "stream",
     "text": [
      "WARNING: could not determine DPI\n"
     ]
    }
   ],
   "source": [
    "im, target = next(iter(train_dataset))\n",
    "viewer = napari.Viewer()\n",
    "viewer.add_image(im)\n",
    "viewer.add_image(target)\n",
    "napari.run()"
   ]
  },
  {
   "cell_type": "code",
   "execution_count": 20,
   "id": "85676062-cd07-4c2c-b673-953241a41550",
   "metadata": {},
   "outputs": [],
   "source": [
    "class DiceLoss(nn.Module):\n",
    "    def forward(self, input_, target):\n",
    "        return 1. - utils.dice_score(input_, target)"
   ]
  },
  {
   "cell_type": "code",
   "execution_count": 21,
   "id": "809faf2a-b983-49b8-8358-8705f0b29b59",
   "metadata": {},
   "outputs": [
    {
     "data": {
      "text/plain": [
       "DiceLoss()"
      ]
     },
     "execution_count": 21,
     "metadata": {},
     "output_type": "execute_result"
    }
   ],
   "source": [
    "model = UNet(initial_features=32, out_channels=2, activation=True)\n",
    "model.to(device)\n",
    "loss = DiceLoss()\n",
    "loss.to(device)"
   ]
  },
  {
   "cell_type": "code",
   "execution_count": 22,
   "id": "88468c3b-87ad-4fbc-b23e-bd770a63207b",
   "metadata": {},
   "outputs": [
    {
     "name": "stderr",
     "output_type": "stream",
     "text": [
      "100%|██████████| 20/20 [01:36<00:00,  4.84s/it]\n"
     ]
    },
    {
     "data": {
      "image/png": "[encoded data removed]",
      "text/plain": [
       "<Figure size 640x480 with 1 Axes>"
      ]
     },
     "metadata": {},
     "output_type": "display_data"
    },
    {
     "data": {
      "image/png": "[encoded data removed]",
      "text/plain": [
       "<Figure size 640x480 with 1 Axes>"
      ]
     },
     "metadata": {},
     "output_type": "display_data"
    }
   ],
   "source": [
    "# run the training again\n",
    "n_epochs = 20\n",
    "\n",
    "train_loader = DataLoader(train_dataset, batch_size=batch_size, shuffle=True) \n",
    "val_loader = DataLoader(val_dataset, batch_size=batch_size)\n",
    "optimizer = torch.optim.Adam(model.parameters(), lr=1e-4) # default LR -3\n",
    "metric = utils.dice_score\n",
    "train_losses, train_scores, val_losses, val_scores = run_training(model, train_loader, val_loader, loss, metric, optimizer, n_epochs)\n",
    "plot('Loss vs. Epoch', 'Loss', train_losses, val_losses)\n",
    "plot('Dice Score vs. Epoch', 'Dice Score', train_scores, val_scores)"
   ]
  },
  {
   "cell_type": "code",
   "execution_count": 23,
   "id": "7ea8e716-199a-496a-b5b6-55dd45283ac7",
   "metadata": {},
   "outputs": [
    {
     "name": "stderr",
     "output_type": "stream",
     "text": [
      "/tmp/ipykernel_6095/1906957031.py:8: UserWarning: To copy construct from a tensor, it is recommended to use sourceTensor.clone().detach() or sourceTensor.clone().detach().requires_grad_(True), rather than torch.tensor(sourceTensor).\n",
      "  pred = torch.tensor(pred).cpu().numpy().squeeze()\n",
      "WARNING: could not determine DPI\n",
      "/tmp/ipykernel_6095/1906957031.py:8: UserWarning: To copy construct from a tensor, it is recommended to use sourceTensor.clone().detach() or sourceTensor.clone().detach().requires_grad_(True), rather than torch.tensor(sourceTensor).\n",
      "  pred = torch.tensor(pred).cpu().numpy().squeeze()\n",
      "WARNING: could not determine DPI\n",
      "/tmp/ipykernel_6095/1906957031.py:8: UserWarning: To copy construct from a tensor, it is recommended to use sourceTensor.clone().detach() or sourceTensor.clone().detach().requires_grad_(True), rather than torch.tensor(sourceTensor).\n",
      "  pred = torch.tensor(pred).cpu().numpy().squeeze()\n",
      "WARNING: could not determine DPI\n"
     ]
    }
   ],
   "source": [
    "# check out instance segmentation for a few test images\n",
    "counter = 0\n",
    "with torch.no_grad():\n",
    "    for im, mask in test_loader:\n",
    "        if counter >= 3:\n",
    "            break\n",
    "        pred = model(im.to(device))\n",
    "        pred = torch.tensor(pred).cpu().numpy().squeeze()\n",
    "        viewer = napari.Viewer()\n",
    "        viewer.add_image(im.numpy(), name=\"Input\")\n",
    "        viewer.add_image(mask.numpy().squeeze()[0], name=\"Target Foreground\")\n",
    "        viewer.add_image(pred[0], name=\"Prediction Foreground\")\n",
    "        viewer.add_image(mask.numpy().squeeze()[1], name=\"Target Boundaries\")\n",
    "        viewer.add_image(pred[1], name=\"Prediction Boundaries\")\n",
    "        napari.run()\n",
    "        counter += 1"
   ]
  },
  {
   "cell_type": "code",
   "execution_count": 24,
   "id": "a31bb36a-6246-4299-ae21-18dd18e9a5c1",
   "metadata": {},
   "outputs": [],
   "source": [
    "# TODO: now run the model for all images in the test set. Run for the full image and save the result.\n",
    "# You may need to use padding to make some of the images fit the model (if yes, then remove the padding afterwards).\n",
    "# Please save the predictions using a similar naming scheme as in the bioimageio nucleus segmentation exercise"
   ]
  },
  {
   "cell_type": "markdown",
   "id": "e70fc671-81c5-4c5d-ac5c-5a872dc53a9b",
   "metadata": {},
   "source": [
    "# Evaluate the Predictions"
   ]
  },
  {
   "cell_type": "code",
   "execution_count": 25,
   "id": "fd08d3ee-22ca-4d45-a697-daf05b5369a9",
   "metadata": {},
   "outputs": [],
   "source": [
    "from skimage.measure import label"
   ]
  },
  {
   "cell_type": "code",
   "execution_count": 26,
   "id": "90a8478a-672d-4a83-9c55-2106e898f3eb",
   "metadata": {},
   "outputs": [],
   "source": [
    "# We create a folder where we can save the cell membrane predictions.\n",
    "output_folder = os.path.join(data_dir, \"predictions\", \"cell-membranes\")\n",
    "os.makedirs(output_folder, exist_ok=True)"
   ]
  },
  {
   "cell_type": "code",
   "execution_count": 27,
   "id": "e706a8c9-e76a-4ada-a3c0-13d2e0a55062",
   "metadata": {
    "jupyter": {
     "source_hidden": true
    }
   },
   "outputs": [],
   "source": [
    "def pad_tensor(input_tensor, target_shape):\n",
    "    batch_size, channels, height, width = input_tensor.shape\n",
    "    pad_height = target_shape[2] - height\n",
    "    pad_width = target_shape[3] - width\n",
    "\n",
    "    pad_left = pad_width // 2\n",
    "    pad_right = pad_width - pad_left\n",
    "    pad_top = pad_height // 2\n",
    "    pad_bottom = pad_height - pad_top\n",
    "\n",
    "    padded_tensor = F.pad(input_tensor, (pad_left, pad_right, pad_top, pad_bottom))\n",
    "    return padded_tensor, (pad_top, pad_bottom, pad_left, pad_right)  # Return padding information\n",
    "\n",
    "def unpad_tensor(padded_tensor, padding_info):\n",
    "    pad_top, pad_bottom, pad_left, pad_right = padding_info\n",
    "    unpadded_tensor = padded_tensor[:, :, pad_top:padded_tensor.shape[2]-pad_bottom, pad_left:padded_tensor.shape[3]-pad_right]\n",
    "    return unpadded_tensor"
   ]
  },
  {
   "cell_type": "code",
   "execution_count": 32,
   "id": "daa64906-98b6-4709-b6b0-81b07818d910",
   "metadata": {},
   "outputs": [],
   "source": [
    "# We now define a function that applies the model for an image\n",
    "# and then applies the connected component labeling.\n",
    "def run_segmentation(model, image, target_shape=(1, 1, 1024, 1024), device=device):\n",
    "    # Bring the input into the correct format and type.\n",
    "    input_ = image[None,None] # add batch and channel dimensions\n",
    "    input_ = torch.tensor(input_) # to tensor\n",
    "    \n",
    "    # Apply the model. Here, we use prediction with padding to deal with images\n",
    "    # that have a shape that is not compatible with the model.\n",
    "    # Predict with padding if the image is not in correct shape\n",
    "    # to be processed by the network. \n",
    "    # Afterwards remove padding from prediction\n",
    "    if input_.shape != target_shape:\n",
    "        input_, padding_info = pad_tensor(input_, target_shape)\n",
    "        pred = model(input_.to(device))\n",
    "        pred = pred.clone().detach().cpu()\n",
    "        pred = unpad_tensor(pred, padding_info)\n",
    "        prediction = pred.numpy().squeeze()\n",
    "    else:\n",
    "        prediction = model(input_.to(device))\n",
    "        prediction = prediction.cpu().numpy().squeeze()\n",
    "\n",
    "    # Apply the pos-processing to get a segmentation mask.\n",
    "    foreground, boundaries = prediction[0], prediction[1]\n",
    "    segmentation = boundaries > 0.5\n",
    "    \n",
    "    return segmentation"
   ]
  },
  {
   "cell_type": "code",
   "execution_count": 33,
   "id": "fdeb930a-c84f-4252-9d13-72c33d73f160",
   "metadata": {},
   "outputs": [
    {
     "name": "stdout",
     "output_type": "stream",
     "text": [
      "['../data/test/gt_image_044/gt_image_044_serum_image.tif', '../data/test/gt_image_048/gt_image_048_serum_image.tif', '../data/test/gt_image_045/gt_image_045_serum_image.tif', '../data/test/gt_image_043/gt_image_043_serum_image.tif', '../data/test/gt_image_042/gt_image_042_serum_image.tif', '../data/test/gt_image_041/gt_image_041_serum_image.tif', '../data/test/gt_image_040/gt_image_040_serum_image.tif', '../data/test/gt_image_047/gt_image_047_serum_image.tif', '../data/test/gt_image_046/gt_image_046_serum_image.tif']\n"
     ]
    }
   ],
   "source": [
    "# Get all the images for the nucleus channel in the test images.\n",
    "input_files = glob(os.path.join(data_dir, \"test\", \"gt_*\", \"*_serum_image.tif\"))\n",
    "print(input_files)"
   ]
  },
  {
   "cell_type": "code",
   "execution_count": 35,
   "id": "701aa637-75fa-49f9-b905-5175cd432053",
   "metadata": {},
   "outputs": [
    {
     "name": "stderr",
     "output_type": "stream",
     "text": [
      "100%|██████████| 9/9 [00:00<00:00, 10.39it/s]\n"
     ]
    }
   ],
   "source": [
    "# Run segmentation for all the test images.\n",
    "# We add a progress bar to know how long it will take.\n",
    "\n",
    "target_shape=(batch_size, 1, 1024, 1024)\n",
    "with torch.no_grad():\n",
    "    for path in tqdm.tqdm(input_files):\n",
    "        image = imageio.imread(path)\n",
    "        segmentation = run_segmentation(model, image, target_shape=target_shape)\n",
    "    \n",
    "        # We save the segmentation as a compressed tif, using a filename that matches the input name.\n",
    "        filename = os.path.basename(path)\n",
    "        output_path = os.path.join(output_folder, filename)\n",
    "        imageio.imwrite(output_path, segmentation)"
   ]
  },
  {
   "cell_type": "code",
   "execution_count": 36,
   "id": "06c7d73b-3635-4c29-8f10-c789dfe64b2e",
   "metadata": {},
   "outputs": [
    {
     "name": "stderr",
     "output_type": "stream",
     "text": [
      "WARNING: could not determine DPI\n"
     ]
    }
   ],
   "source": [
    "viewer = napari.Viewer()\n",
    "viewer.add_image(imageio.imread(output_path))\n",
    "napari.run()"
   ]
  },
  {
   "cell_type": "markdown",
   "id": "f3fbf646-efbf-47b7-9d4c-d4a3ae508694",
   "metadata": {},
   "source": [
    "## Possible Exercises\n",
    "\n",
    "- Implement instance segmentation based on watershed from the instances. (This one we do for sure.)\n",
    "- Validate the result with some metric\n",
    "\n",
    "Advanced:\n",
    "- Try with a larger U-Net\n",
    "- Try different loss functions: CE, BCE, (with weighting)"
   ]
  },
  {
   "cell_type": "markdown",
   "id": "a832caa7-cb69-429f-9025-8e3d1a15c6a9",
   "metadata": {},
   "source": []
  },
  {
   "cell_type": "raw",
   "id": "9924bcf1-238c-48ba-9744-5319ef66b767",
   "metadata": {},
   "source": []
  }
 ],
 "metadata": {
  "kernelspec": {
   "display_name": "micro_sam",
   "language": "python",
   "name": "micro_sam"
  },
  "language_info": {
   "codemirror_mode": {
    "name": "ipython",
    "version": 3
   },
   "file_extension": ".py",
   "mimetype": "text/x-python",
   "name": "python",
   "nbconvert_exporter": "python",
   "pygments_lexer": "ipython3",
   "version": "3.10.12"
  }
 },
 "nbformat": 4,
 "nbformat_minor": 5
}
