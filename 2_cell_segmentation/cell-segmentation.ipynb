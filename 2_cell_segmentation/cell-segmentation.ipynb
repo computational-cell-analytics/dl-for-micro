{
 "cells": [
  {
   "cell_type": "markdown",
   "id": "4f1166ee",
   "metadata": {},
   "source": [
    "## Cell Segmentation"
   ]
  },
  {
   "cell_type": "code",
   "execution_count": null,
   "id": "32cc7a61",
   "metadata": {},
   "outputs": [],
   "source": [
    "import os\n",
    "\n",
    "import bioimageio.core\n",
    "import h5py\n",
    "import napari\n",
    "\n",
    "from skimage.segmentation import watershed\n",
    "from xarray import DataArray"
   ]
  },
  {
   "cell_type": "code",
   "execution_count": null,
   "id": "8af9e539",
   "metadata": {},
   "outputs": [],
   "source": [
    "data_folder = \"../data\"\n",
    "output_folder = os.path.join(data_folder, \"predictions\")"
   ]
  },
  {
   "cell_type": "markdown",
   "id": "712a0ba2",
   "metadata": {},
   "source": [
    "### 1. Implement Cell Segmentation"
   ]
  },
  {
   "cell_type": "code",
   "execution_count": null,
   "id": "b375c3d8",
   "metadata": {},
   "outputs": [],
   "source": [
    "model_path = os.path.join(data_folder, \"trained_models/boundary-segmentation/boundary_segmentation_model.zip\")\n",
    "model = bioimageio.core.load_resource_description(model_path)"
   ]
  },
  {
   "cell_type": "code",
   "execution_count": null,
   "id": "07d0b3b2",
   "metadata": {},
   "outputs": [],
   "source": [
    "image_path = os.path.join(data_folder, \"test/gt_image_048.h5\")\n",
    "prediction_path = os.path.join(data_folder, \"predictions/gt_image_048.h5\")\n",
    "\n",
    "with h5py.File(image_path, \"r\") as f:\n",
    "    image = f[\"raw/serum_IgG/s0\"][:]\n",
    "    \n",
    "with h5py.File(prediction_path, \"r\") as f:\n",
    "    nuclei = f[\"/segmentations/nuclei/watershed_based\"][:]"
   ]
  },
  {
   "cell_type": "code",
   "execution_count": null,
   "id": "5427affa",
   "metadata": {},
   "outputs": [],
   "source": [
    "with bioimageio.core.create_prediction_pipeline(model) as pp:\n",
    "    input_ = DataArray(image[None, None], dims=tuple(\"bcyx\"))\n",
    "    pred = bioimageio.core.predict_with_padding(pp, input_, padding={\"x\": 16, \"y\": 16})[0].values.squeeze()"
   ]
  },
  {
   "cell_type": "code",
   "execution_count": null,
   "id": "dab4ea39",
   "metadata": {},
   "outputs": [],
   "source": [
    "viewer = napari.Viewer()\n",
    "viewer.add_image(image)\n",
    "viewer.add_image(pred)\n",
    "viewer.add_labels(nuclei)"
   ]
  },
  {
   "cell_type": "code",
   "execution_count": null,
   "id": "96db9233",
   "metadata": {},
   "outputs": [],
   "source": [
    "foreground, boundaries = pred\n",
    "foreground = foreground > 0.5\n",
    "cells = watershed(boundaries, markers=nuclei, mask=foreground)"
   ]
  },
  {
   "cell_type": "code",
   "execution_count": null,
   "id": "b5aa6946",
   "metadata": {},
   "outputs": [],
   "source": [
    "viewer = napari.Viewer()\n",
    "viewer.add_image(image)\n",
    "viewer.add_labels(cells)"
   ]
  },
  {
   "cell_type": "markdown",
   "id": "76ff57d0",
   "metadata": {},
   "source": [
    "### 2. Apply to Test Images"
   ]
  },
  {
   "cell_type": "code",
   "execution_count": null,
   "id": "939dff36",
   "metadata": {},
   "outputs": [],
   "source": [
    "from glob import glob\n",
    "from tqdm import tqdm\n",
    "\n",
    "test_images = glob(os.path.join(data_folder, \"test/*.h5\"))"
   ]
  },
  {
   "cell_type": "code",
   "execution_count": null,
   "id": "f3412039",
   "metadata": {},
   "outputs": [],
   "source": [
    "def segment_cells(pp, image, nuclei):\n",
    "    input_ = DataArray(image[None, None], dims=tuple(\"bcyx\"))\n",
    "    pred = bioimageio.core.predict_with_padding(pp, input_, padding={\"x\": 16, \"y\": 16})[0].values.squeeze()\n",
    "    foreground, boundaries = pred\n",
    "    foreground = foreground > 0.5\n",
    "    cells = watershed(boundaries, markers=nuclei, mask=foreground)\n",
    "    return cells"
   ]
  },
  {
   "cell_type": "code",
   "execution_count": null,
   "id": "1c9260e4",
   "metadata": {},
   "outputs": [],
   "source": [
    "with bioimageio.core.create_prediction_pipeline(model) as pp:\n",
    "    for path in tqdm(test_images):\n",
    "        out_path = os.path.join(output_folder, os.path.basename(path))\n",
    "        with h5py.File(path, \"r\") as f:\n",
    "            image = f[\"raw/serum_IgG/s0\"][:]\n",
    "        with h5py.File(out_path, \"r\") as f:\n",
    "            nuclei = f[\"segmentations/nuclei/watershed_based\"][:]\n",
    "        cells = segment_cells(pp, image, nuclei)\n",
    "        with h5py.File(out_path, \"a\") as f:\n",
    "            f.create_dataset(\"segmentations/cells/watershed_based\", data=cells, compression=\"gzip\")"
   ]
  },
  {
   "cell_type": "markdown",
   "id": "612f418a",
   "metadata": {},
   "source": [
    "### Exercises\n",
    "\n",
    "Lorem ipsum"
   ]
  },
  {
   "cell_type": "markdown",
   "id": "5d62d52d",
   "metadata": {},
   "source": [
    "**What's next**"
   ]
  }
 ],
 "metadata": {
  "kernelspec": {
   "display_name": "Python 3 (ipykernel)",
   "language": "python",
   "name": "python3"
  },
  "language_info": {
   "codemirror_mode": {
    "name": "ipython",
    "version": 3
   },
   "file_extension": ".py",
   "mimetype": "text/x-python",
   "name": "python",
   "nbconvert_exporter": "python",
   "pygments_lexer": "ipython3",
   "version": "3.10.10"
  }
 },
 "nbformat": 4,
 "nbformat_minor": 5
}
