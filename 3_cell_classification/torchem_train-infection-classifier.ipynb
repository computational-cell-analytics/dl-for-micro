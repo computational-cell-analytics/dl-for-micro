{
 "cells": [
  {
   "cell_type": "markdown",
   "id": "4c45f7a1",
   "metadata": {},
   "source": [
    "## Train Infection Classifier"
   ]
  },
  {
   "cell_type": "code",
   "execution_count": null,
   "id": "57794921",
   "metadata": {},
   "outputs": [],
   "source": [
    "import os\n",
    "from glob import glob\n",
    "\n",
    "import h5py\n",
    "import napari\n",
    "import numpy as np\n",
    "\n",
    "from skimage.measure import regionprops"
   ]
  },
  {
   "cell_type": "code",
   "execution_count": null,
   "id": "8e725790",
   "metadata": {},
   "outputs": [],
   "source": [
    "data_folder = \"../data\"\n",
    "train_data_folder = \"../data/train\"\n",
    "val_data_folder = \"../data/val\""
   ]
  },
  {
   "cell_type": "markdown",
   "id": "eec67a4b",
   "metadata": {},
   "source": [
    "### 1. Inspect Training Data"
   ]
  },
  {
   "cell_type": "code",
   "execution_count": null,
   "id": "12ce06fa",
   "metadata": {},
   "outputs": [],
   "source": [
    "image_path = os.path.join(train_data_folder, \"gt_image_000.h5\")\n",
    "with h5py.File(image_path, \"r\") as f:\n",
    "    marker = f[\"raw/marker/s0\"][:]\n",
    "    nucleus_image = f[\"raw/nuclei/s0\"][:]\n",
    "    cells = f[\"labels/cells/s0\"][:]\n",
    "    infected_labels = f[\"labels/infected/nuclei/s0\"][:]"
   ]
  },
  {
   "cell_type": "code",
   "execution_count": null,
   "id": "04a15f69",
   "metadata": {},
   "outputs": [],
   "source": [
    "viewer = napari.Viewer()\n",
    "viewer.add_image(marker, colormap=\"red\", blending=\"additive\")\n",
    "viewer.add_image(nucleus_image, colormap=\"blue\", blending=\"additive\")\n",
    "viewer.add_labels(cells)\n",
    "viewer.add_labels(infected_labels)"
   ]
  },
  {
   "cell_type": "code",
   "execution_count": null,
   "id": "abe7d6b4",
   "metadata": {},
   "outputs": [],
   "source": [
    "def extract_labels_for_cells(cells, infected_labels):\n",
    "    cell_ids = np.unique(cells)[1:]\n",
    "    cell_labels = {}\n",
    "    for cell_id in cell_ids:\n",
    "        cell_mask = cells == cell_id\n",
    "        infected_labels_cell = infected_labels[cell_mask]\n",
    "        infected_labels_cell = infected_labels_cell[infected_labels_cell != 0]\n",
    "        if infected_labels_cell.size == 0:\n",
    "            cell_labels[cell_id] = None\n",
    "            continue\n",
    "    \n",
    "        # meaning of the labels: 1 = infected, 2 = not infected\n",
    "        # if there is more than one label\n",
    "        # check which of the two is more prevalent\n",
    "        label_ids, counts = np.unique(infected_labels_cell, return_counts=True)\n",
    "        # we map the label id to 0, 1 (infected, not infected) because pytorch / torch_em expects zero-based indexing\n",
    "        if len(label_ids) == 1:\n",
    "            assert label_ids[0] in (1, 2)\n",
    "            label = label_ids[0] - 1\n",
    "        else:\n",
    "            assert label_ids.tolist() == [1, 2], str(label_ids)\n",
    "            label = 0 if counts[0] > counts[1] else 0 \n",
    "        cell_labels[cell_id] = label\n",
    "    return cell_labels"
   ]
  },
  {
   "cell_type": "code",
   "execution_count": null,
   "id": "1f8b7cb0",
   "metadata": {},
   "outputs": [],
   "source": [
    "cell_infection_labels = extract_labels_for_cells(cells, infected_labels)\n",
    "props = regionprops(cells)\n",
    "\n",
    "points = [prop.centroid for prop in props]\n",
    "infected_points = [\"infected\" if label == 0 else \"not-infected\" for label in cell_infection_labels.values()]\n",
    "\n",
    "viewer = napari.Viewer()\n",
    "viewer.add_image(marker, colormap=\"red\", blending=\"additive\")\n",
    "viewer.add_image(nucleus_image, colormap=\"blue\", blending=\"additive\")\n",
    "point_layer = viewer.add_points(\n",
    "    points, properties={\"infected\": infected_points}, face_color=\"infected\", face_color_cycle=[\"cyan\", \"orange\"],\n",
    ")\n",
    "point_layer.face_color_mode = \"cycle\""
   ]
  },
  {
   "cell_type": "code",
   "execution_count": null,
   "id": "00e0cd3f",
   "metadata": {},
   "outputs": [],
   "source": [
    "def image_to_training_data(cells, marker, nucleus_image, infected_labels, apply_cell_mask=True):\n",
    "    cell_infection_labels = extract_labels_for_cells(cells, infected_labels)\n",
    "    props = regionprops(cells)\n",
    "    \n",
    "    train_image_data, train_labels = [], []\n",
    "    for prop in props:\n",
    "        cell_id = prop.label\n",
    "        \n",
    "        label = cell_infection_labels[cell_id]\n",
    "        if label is None:\n",
    "            continue\n",
    "        \n",
    "        bbox = prop.bbox\n",
    "        bbox = np.s_[bbox[0]:bbox[2], bbox[1]:bbox[3]]\n",
    "        \n",
    "        cell_mask = cells[bbox] == cell_id\n",
    "        nuc_im = nucleus_image[bbox].astype(\"float32\")\n",
    "        marker_im = marker[bbox].astype(\"float32\")\n",
    "        if apply_cell_mask:\n",
    "            nuc_im[~cell_mask] = 0.0\n",
    "            marker_im[~cell_mask] = 0.0\n",
    "        \n",
    "        image_data = np.stack([nuc_im, marker_im, cell_mask.astype(\"float32\")])\n",
    "        train_image_data.append(image_data)\n",
    "        train_labels.append(label)\n",
    "        \n",
    "    return train_image_data, train_labels"
   ]
  },
  {
   "cell_type": "code",
   "execution_count": null,
   "id": "eb9939bb",
   "metadata": {},
   "outputs": [],
   "source": [
    "train_image_data, train_labels = image_to_training_data(cells, marker, nucleus_image, infected_labels)"
   ]
  },
  {
   "cell_type": "code",
   "execution_count": null,
   "id": "ca5aa47a",
   "metadata": {},
   "outputs": [],
   "source": [
    "# check out five training images\n",
    "for i in range(25, 30):\n",
    "    im_data = train_image_data[i]\n",
    "    label = train_labels[i]\n",
    "    viewer = napari.Viewer()\n",
    "    viewer.add_image(im_data[0], name=\"nucleus-channel\", colormap=\"blue\", blending=\"additive\")   \n",
    "    viewer.add_image(im_data[1], name=\"marker-channel\", colormap=\"red\", blending=\"additive\")\n",
    "    viewer.add_labels(im_data[2].astype(\"uint8\"), name=\"cell-mask\")\n",
    "    viewer.title = f\"Label: {label}\""
   ]
  },
  {
   "cell_type": "markdown",
   "id": "20af4026",
   "metadata": {},
   "source": [
    "### 2. Prepare Training Data"
   ]
  },
  {
   "cell_type": "code",
   "execution_count": null,
   "id": "fff5de25",
   "metadata": {},
   "outputs": [],
   "source": [
    "from tqdm import tqdm\n",
    "\n",
    "def prepare_classification_data(root):\n",
    "    images = glob(os.path.join(root, \"*.h5\"))\n",
    "    images.sort()\n",
    "\n",
    "    image_data, labels = [], []\n",
    "    for path in tqdm(images, desc=\"Prepare classification data\"):\n",
    "        with h5py.File(path, \"r\") as f:\n",
    "            marker = f[\"raw/marker/s0\"][:]\n",
    "            nucleus_image = f[\"raw/nuclei/s0\"][:]\n",
    "            cells = f[\"labels/cells/s0\"][:]\n",
    "            infected_labels = f[\"labels/infected/nuclei/s0\"][:]\n",
    "            \n",
    "        this_data, this_labels = image_to_training_data(cells, marker, nucleus_image, infected_labels)\n",
    "        image_data.extend(this_data)\n",
    "        labels.extend(this_labels)\n",
    "        \n",
    "    assert len(image_data) == len(labels)\n",
    "    return image_data, labels"
   ]
  },
  {
   "cell_type": "code",
   "execution_count": null,
   "id": "65165594",
   "metadata": {},
   "outputs": [],
   "source": [
    "train_data, train_labels = prepare_classification_data(train_data_folder)\n",
    "print(\"We have\", len(train_data), \"samples for training\")\n",
    "\n",
    "val_data, val_labels = prepare_classification_data(val_data_folder)\n",
    "print(\"We have\", len(val_data), \"samples for validation\")"
   ]
  },
  {
   "cell_type": "markdown",
   "id": "e5302bb3",
   "metadata": {},
   "source": [
    "### 3. Train the Infection Classifier"
   ]
  },
  {
   "cell_type": "code",
   "execution_count": null,
   "id": "e4745f29",
   "metadata": {},
   "outputs": [],
   "source": [
    "from torch_em.classification import default_classification_loader, default_classification_trainer\n",
    "from torchvision.models.resnet import resnet34"
   ]
  },
  {
   "cell_type": "code",
   "execution_count": null,
   "id": "1fde0408",
   "metadata": {},
   "outputs": [],
   "source": [
    "# find the mean shape and \n",
    "shapes = np.stack([np.array(im.shape[1:]) for im in (train_data + val_data)])\n",
    "mean_shape = np.mean(shapes, axis=0)\n",
    "print(\"Mean image shape:\", mean_shape)"
   ]
  },
  {
   "cell_type": "code",
   "execution_count": null,
   "id": "075ed385",
   "metadata": {},
   "outputs": [],
   "source": [
    "batch_size = 32\n",
    "image_shape = (64, 64)\n",
    "train_loader = default_classification_loader(\n",
    "    train_data, train_labels, batch_size=batch_size, image_shape=image_shape\n",
    ")\n",
    "val_loader = default_classification_loader(\n",
    "    val_data, val_labels, batch_size=batch_size, image_shape=image_shape\n",
    ")"
   ]
  },
  {
   "cell_type": "code",
   "execution_count": null,
   "id": "701b8f57",
   "metadata": {},
   "outputs": [],
   "source": [
    "model = resnet34(num_classes=2)\n",
    "trainer = default_classification_trainer(\n",
    "    name=\"infection-classifier\", model=model,\n",
    "    train_loader=train_loader, val_loader=val_loader,\n",
    "    # TODO loss and metric\n",
    ")"
   ]
  },
  {
   "cell_type": "code",
   "execution_count": null,
   "id": "2de3e0d4",
   "metadata": {},
   "outputs": [],
   "source": [
    "trainer.fit(50000)"
   ]
  },
  {
   "cell_type": "markdown",
   "id": "fecba392",
   "metadata": {},
   "source": [
    "### 3. Export"
   ]
  },
  {
   "cell_type": "code",
   "execution_count": null,
   "id": "b3d734bb",
   "metadata": {},
   "outputs": [],
   "source": []
  },
  {
   "cell_type": "markdown",
   "id": "78be34a4",
   "metadata": {},
   "source": [
    "### Exercises"
   ]
  },
  {
   "cell_type": "markdown",
   "id": "ad99b917",
   "metadata": {},
   "source": [
    "**What's next?**"
   ]
  }
 ],
 "metadata": {
  "kernelspec": {
   "display_name": "Python 3 (ipykernel)",
   "language": "python",
   "name": "python3"
  },
  "language_info": {
   "codemirror_mode": {
    "name": "ipython",
    "version": 3
   },
   "file_extension": ".py",
   "mimetype": "text/x-python",
   "name": "python",
   "nbconvert_exporter": "python",
   "pygments_lexer": "ipython3",
   "version": "3.9.9"
  }
 },
 "nbformat": 4,
 "nbformat_minor": 5
}
