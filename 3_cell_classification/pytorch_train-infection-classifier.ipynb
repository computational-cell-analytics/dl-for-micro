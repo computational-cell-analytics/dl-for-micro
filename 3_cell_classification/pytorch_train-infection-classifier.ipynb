{
 "cells": [
  {
   "cell_type": "markdown",
   "id": "78ae4646",
   "metadata": {},
   "source": [
    "## Train Infection Classifier\n",
    "\n",
    "In the previous lessons we have built a method for cell instance segmentation and applied it to our dataset. Now we turn to classifying the cells into infected vs. non-infected cells, based on the virus marker channel, nucleus image channel and segmentation mask for each individual cell. We will use a ResNet for this task.\n",
    "\n",
    "The goal of this lesson is to learn how to train a classification model with `torch_em`."
   ]
  },
  {
   "cell_type": "code",
   "execution_count": 136,
   "id": "e0b5e4de",
   "metadata": {},
   "outputs": [],
   "source": [
    "# General imports.\n",
    "\n",
    "import itertools\n",
    "import json\n",
    "import os\n",
    "import sys\n",
    "import time\n",
    "from glob import glob\n",
    "\n",
    "import imageio.v3 as imageio\n",
    "import matplotlib.pyplot as plt\n",
    "import napari\n",
    "import numpy as np\n",
    "\n",
    "sys.path.append(\"..\")\n",
    "import utils"
   ]
  },
  {
   "cell_type": "code",
   "execution_count": 4,
   "id": "046afebb",
   "metadata": {},
   "outputs": [
    {
     "name": "stdout",
     "output_type": "stream",
     "text": [
      "The data is downloaded already.\n"
     ]
    }
   ],
   "source": [
    "# This function will download and unpack the data and do some further data preparation.\n",
    "# It will only be executed if the data has not been downloaded already.\n",
    "data_dir = \"../data\"\n",
    "if os.path.exists(data_dir):\n",
    "    print(\"The data is downloaded already.\")\n",
    "else:\n",
    "    utils.prepare_data(data_dir)"
   ]
  },
  {
   "cell_type": "code",
   "execution_count": 61,
   "id": "0e02b69d",
   "metadata": {},
   "outputs": [
    {
     "name": "stdout",
     "output_type": "stream",
     "text": [
      "['labels.json', 'gt_image_000_marker_image.tif', 'gt_image_000_cell_labels.tif', 'gt_image_000_nucleus_labels.tif', 'gt_image_000_serum_image.tif', 'gt_image_000_infected_labels.tif', 'gt_image_000_nucleus_image.tif']\n"
     ]
    }
   ],
   "source": [
    "# The data has been downloaded and separated into folders for the train, validation and test split already.\n",
    "# We first create a dictionary with the location of the three different split folders.\n",
    "data_dirs = {\n",
    "    \"train\": os.path.join(data_dir, \"train\"),\n",
    "    \"val\": os.path.join(data_dir, \"val\"),\n",
    "    \"test\": os.path.join(data_dir, \"test\")\n",
    "}\n",
    "\n",
    "# And check the content for one of the samples.\n",
    "# You should see the images (marker, nuclei, serum), labels (cells and nuclei) as well as a json file.\n",
    "train_sample0 = os.path.join(data_dirs[\"train\"], \"gt_image_000\")\n",
    "print(os.listdir(train_sample0))"
   ]
  },
  {
   "cell_type": "markdown",
   "id": "2299f40c",
   "metadata": {},
   "source": [
    "### 1. Inspect Training Data\n",
    "\n",
    "We check the training data for one of the images. The task we will solve is classifying the cells into infected and non-infected cells.\n",
    "To this end we cut out small images containing only the cells around each cell. We then us three channels as input to the neural network for classification:\n",
    "- The marker channel, which indicates the infection.\n",
    "- The nucleus channel, in order to locate the signal w.r.t. the nucleus.\n",
    "- And the binary cell mask.\n",
    "\n",
    "We DO NOT use the serum channel here.\n",
    "\n",
    "All the information for extracting these labels is present already, we now check it for the first training sample."
   ]
  },
  {
   "cell_type": "code",
   "execution_count": 19,
   "id": "67b09927-0774-41ce-ba15-f68fb570f3ae",
   "metadata": {},
   "outputs": [],
   "source": [
    "# The file paths for the images of the first training sample.\n",
    "marker_path = os.path.join(train_sample0, \"gt_image_000_marker_image.tif\")\n",
    "nucleus_path = os.path.join(train_sample0, \"gt_image_000_nucleus_image.tif\")\n",
    "cell_segmentation_path = os.path.join(train_sample0, \"gt_image_000_cell_labels.tif\")"
   ]
  },
  {
   "cell_type": "code",
   "execution_count": 20,
   "id": "f774a840-8ef9-412b-9858-f54645555e26",
   "metadata": {},
   "outputs": [],
   "source": [
    "# Load the image and segmentation data for the first sample.\n",
    "marker = imageio.imread(marker_path)\n",
    "nuclei = imageio.imread(nucleus_path)\n",
    "cells = imageio.imread(cell_segmentation_path)"
   ]
  },
  {
   "cell_type": "code",
   "execution_count": 26,
   "id": "8707c7e9-7a04-471b-b965-d67560ec6450",
   "metadata": {},
   "outputs": [],
   "source": [
    "# Load the json. (TODO explain)\n",
    "classification_label_path = os.path.join(train_sample0, \"labels.json\")\n",
    "with open(classification_label_path, \"r\") as f:\n",
    "    classification_label_data = json.load(f)"
   ]
  },
  {
   "cell_type": "code",
   "execution_count": 27,
   "id": "fd78bba5-3eae-4eca-b0d3-1e43d49ba539",
   "metadata": {},
   "outputs": [
    {
     "data": {
      "text/plain": [
       "{'cells': [{'cell_id': 0, 'infected_label': 0, 'bbox': None},\n",
       "  {'cell_id': 1, 'infected_label': 1, 'bbox': [499, 823, 563, 870]},\n",
       "  {'cell_id': 2, 'infected_label': 3, 'bbox': [977, 370, 1024, 477]},\n",
       "  {'cell_id': 5, 'infected_label': 1, 'bbox': [489, 595, 507, 623]},\n",
       "  {'cell_id': 10, 'infected_label': 1, 'bbox': [749, 395, 762, 410]},\n",
       "  {'cell_id': 12, 'infected_label': 1, 'bbox': [823, 0, 905, 32]},\n",
       "  {'cell_id': 13, 'infected_label': 1, 'bbox': [766, 965, 810, 1006]},\n",
       "  {'cell_id': 14, 'infected_label': 1, 'bbox': [0, 594, 18, 624]},\n",
       "  {'cell_id': 15, 'infected_label': 3, 'bbox': [696, 656, 714, 686]},\n",
       "  {'cell_id': 16, 'infected_label': 1, 'bbox': [992, 0, 1016, 12]},\n",
       "  {'cell_id': 17, 'infected_label': 1, 'bbox': [0, 853, 31, 911]},\n",
       "  {'cell_id': 18, 'infected_label': 1, 'bbox': [0, 59, 42, 190]},\n",
       "  {'cell_id': 19, 'infected_label': 3, 'bbox': [72, 0, 182, 36]},\n",
       "  {'cell_id': 20, 'infected_label': 1, 'bbox': [43, 322, 115, 353]},\n",
       "  {'cell_id': 21, 'infected_label': 1, 'bbox': [791, 385, 821, 415]},\n",
       "  {'cell_id': 22, 'infected_label': 1, 'bbox': [1008, 220, 1024, 247]},\n",
       "  {'cell_id': 23, 'infected_label': 3, 'bbox': [488, 41, 506, 55]},\n",
       "  {'cell_id': 24, 'infected_label': 1, 'bbox': [0, 897, 23, 1002]},\n",
       "  {'cell_id': 25, 'infected_label': 1, 'bbox': [732, 380, 762, 402]},\n",
       "  {'cell_id': 26, 'infected_label': 2, 'bbox': [0, 722, 32, 780]},\n",
       "  {'cell_id': 27, 'infected_label': 3, 'bbox': [677, 676, 704, 695]},\n",
       "  {'cell_id': 28, 'infected_label': 1, 'bbox': [47, 829, 83, 862]},\n",
       "  {'cell_id': 29, 'infected_label': 1, 'bbox': [355, 998, 426, 1024]},\n",
       "  {'cell_id': 30, 'infected_label': 1, 'bbox': [554, 303, 597, 352]},\n",
       "  {'cell_id': 31, 'infected_label': 1, 'bbox': [81, 998, 118, 1024]},\n",
       "  {'cell_id': 32, 'infected_label': 1, 'bbox': [0, 561, 34, 597]},\n",
       "  {'cell_id': 33, 'infected_label': 1, 'bbox': [0, 0, 23, 48]},\n",
       "  {'cell_id': 34, 'infected_label': 1, 'bbox': [0, 180, 46, 221]},\n",
       "  {'cell_id': 35, 'infected_label': 1, 'bbox': [498, 757, 525, 774]},\n",
       "  {'cell_id': 36, 'infected_label': 1, 'bbox': [337, 0, 425, 46]},\n",
       "  {'cell_id': 37, 'infected_label': 1, 'bbox': [302, 0, 368, 36]},\n",
       "  {'cell_id': 38, 'infected_label': 1, 'bbox': [1001, 324, 1024, 370]},\n",
       "  {'cell_id': 39, 'infected_label': 1, 'bbox': [282, 0, 306, 38]},\n",
       "  {'cell_id': 40, 'infected_label': 1, 'bbox': [0, 800, 34, 873]},\n",
       "  {'cell_id': 41, 'infected_label': 2, 'bbox': [1002, 575, 1024, 611]},\n",
       "  {'cell_id': 42, 'infected_label': 1, 'bbox': [358, 681, 410, 756]},\n",
       "  {'cell_id': 43, 'infected_label': 1, 'bbox': [163, 814, 208, 871]},\n",
       "  {'cell_id': 44, 'infected_label': 2, 'bbox': [850, 20, 932, 51]},\n",
       "  {'cell_id': 45, 'infected_label': 1, 'bbox': [0, 241, 30, 286]},\n",
       "  {'cell_id': 46, 'infected_label': 1, 'bbox': [913, 86, 979, 158]},\n",
       "  {'cell_id': 47, 'infected_label': 1, 'bbox': [44, 308, 90, 334]},\n",
       "  {'cell_id': 48, 'infected_label': 2, 'bbox': [279, 959, 355, 1024]},\n",
       "  {'cell_id': 49, 'infected_label': 1, 'bbox': [529, 0, 592, 39]},\n",
       "  {'cell_id': 50, 'infected_label': 1, 'bbox': [509, 423, 525, 441]},\n",
       "  {'cell_id': 51, 'infected_label': 1, 'bbox': [361, 492, 394, 531]},\n",
       "  {'cell_id': 52, 'infected_label': 3, 'bbox': [485, 363, 517, 413]},\n",
       "  {'cell_id': 53, 'infected_label': 1, 'bbox': [608, 871, 627, 890]},\n",
       "  {'cell_id': 55, 'infected_label': 2, 'bbox': [988, 856, 1024, 894]},\n",
       "  {'cell_id': 56, 'infected_label': 1, 'bbox': [985, 320, 1013, 384]},\n",
       "  {'cell_id': 57, 'infected_label': 1, 'bbox': [661, 654, 680, 673]},\n",
       "  {'cell_id': 58, 'infected_label': 1, 'bbox': [709, 203, 763, 269]},\n",
       "  {'cell_id': 59, 'infected_label': 1, 'bbox': [678, 512, 697, 536]},\n",
       "  {'cell_id': 60, 'infected_label': 1, 'bbox': [504, 984, 604, 1024]},\n",
       "  {'cell_id': 61, 'infected_label': 1, 'bbox': [934, 788, 963, 830]},\n",
       "  {'cell_id': 62, 'infected_label': 1, 'bbox': [31, 977, 88, 1024]},\n",
       "  {'cell_id': 63, 'infected_label': 1, 'bbox': [578, 0, 657, 34]},\n",
       "  {'cell_id': 64, 'infected_label': 1, 'bbox': [216, 710, 246, 738]},\n",
       "  {'cell_id': 65, 'infected_label': 3, 'bbox': [842, 49, 881, 71]},\n",
       "  {'cell_id': 66, 'infected_label': 1, 'bbox': [697, 621, 742, 668]},\n",
       "  {'cell_id': 67, 'infected_label': 2, 'bbox': [977, 560, 1019, 599]},\n",
       "  {'cell_id': 68, 'infected_label': 1, 'bbox': [227, 732, 247, 755]},\n",
       "  {'cell_id': 69, 'infected_label': 2, 'bbox': [900, 0, 975, 49]},\n",
       "  {'cell_id': 70, 'infected_label': 1, 'bbox': [503, 363, 542, 429]},\n",
       "  {'cell_id': 71, 'infected_label': 1, 'bbox': [758, 990, 811, 1024]},\n",
       "  {'cell_id': 72, 'infected_label': 1, 'bbox': [280, 28, 339, 120]},\n",
       "  {'cell_id': 73, 'infected_label': 1, 'bbox': [951, 815, 983, 848]},\n",
       "  {'cell_id': 74, 'infected_label': 1, 'bbox': [963, 44, 989, 63]},\n",
       "  {'cell_id': 75, 'infected_label': 1, 'bbox': [58, 448, 79, 472]},\n",
       "  {'cell_id': 76, 'infected_label': 1, 'bbox': [111, 154, 134, 172]},\n",
       "  {'cell_id': 77, 'infected_label': 1, 'bbox': [998, 561, 1024, 575]},\n",
       "  {'cell_id': 78, 'infected_label': 1, 'bbox': [248, 551, 322, 611]},\n",
       "  {'cell_id': 79, 'infected_label': 1, 'bbox': [994, 277, 1024, 325]},\n",
       "  {'cell_id': 80, 'infected_label': 1, 'bbox': [761, 349, 818, 395]},\n",
       "  {'cell_id': 81, 'infected_label': 1, 'bbox': [281, 113, 310, 169]},\n",
       "  {'cell_id': 82, 'infected_label': 2, 'bbox': [110, 559, 149, 584]},\n",
       "  {'cell_id': 83, 'infected_label': 2, 'bbox': [331, 590, 372, 614]},\n",
       "  {'cell_id': 84, 'infected_label': 1, 'bbox': [86, 289, 138, 330]},\n",
       "  {'cell_id': 85, 'infected_label': 2, 'bbox': [113, 183, 156, 220]},\n",
       "  {'cell_id': 86, 'infected_label': 1, 'bbox': [299, 827, 343, 904]},\n",
       "  {'cell_id': 87, 'infected_label': 1, 'bbox': [996, 520, 1024, 565]},\n",
       "  {'cell_id': 88, 'infected_label': 1, 'bbox': [222, 737, 251, 792]},\n",
       "  {'cell_id': 89, 'infected_label': 1, 'bbox': [365, 664, 422, 708]},\n",
       "  {'cell_id': 90, 'infected_label': 1, 'bbox': [817, 691, 889, 760]},\n",
       "  {'cell_id': 91, 'infected_label': 1, 'bbox': [271, 82, 306, 115]},\n",
       "  {'cell_id': 92, 'infected_label': 1, 'bbox': [10, 356, 40, 415]},\n",
       "  {'cell_id': 93, 'infected_label': 1, 'bbox': [551, 156, 582, 187]},\n",
       "  {'cell_id': 94, 'infected_label': 1, 'bbox': [951, 786, 982, 819]},\n",
       "  {'cell_id': 95, 'infected_label': 1, 'bbox': [980, 59, 1001, 76]},\n",
       "  {'cell_id': 96, 'infected_label': 3, 'bbox': [983, 0, 1024, 41]},\n",
       "  {'cell_id': 97, 'infected_label': 1, 'bbox': [984, 424, 1004, 444]},\n",
       "  {'cell_id': 98, 'infected_label': 1, 'bbox': [10, 588, 39, 627]},\n",
       "  {'cell_id': 99, 'infected_label': 1, 'bbox': [929, 38, 967, 70]},\n",
       "  {'cell_id': 100, 'infected_label': 1, 'bbox': [812, 354, 843, 396]},\n",
       "  {'cell_id': 101, 'infected_label': 1, 'bbox': [0, 505, 49, 576]},\n",
       "  {'cell_id': 102, 'infected_label': 1, 'bbox': [902, 205, 929, 243]},\n",
       "  {'cell_id': 103, 'infected_label': 1, 'bbox': [338, 937, 377, 984]},\n",
       "  {'cell_id': 104, 'infected_label': 3, 'bbox': [125, 974, 194, 1024]},\n",
       "  {'cell_id': 105, 'infected_label': 1, 'bbox': [338, 41, 393, 98]},\n",
       "  {'cell_id': 106, 'infected_label': 1, 'bbox': [152, 748, 192, 816]},\n",
       "  {'cell_id': 107, 'infected_label': 1, 'bbox': [827, 364, 859, 431]},\n",
       "  {'cell_id': 108, 'infected_label': 1, 'bbox': [178, 417, 197, 449]},\n",
       "  {'cell_id': 109, 'infected_label': 1, 'bbox': [291, 849, 314, 917]},\n",
       "  {'cell_id': 110, 'infected_label': 1, 'bbox': [443, 183, 497, 263]},\n",
       "  {'cell_id': 111, 'infected_label': 1, 'bbox': [372, 775, 394, 799]},\n",
       "  {'cell_id': 112, 'infected_label': 1, 'bbox': [0, 282, 32, 309]},\n",
       "  {'cell_id': 113, 'infected_label': 1, 'bbox': [271, 168, 322, 224]},\n",
       "  {'cell_id': 114, 'infected_label': 1, 'bbox': [0, 614, 30, 670]},\n",
       "  {'cell_id': 115, 'infected_label': 1, 'bbox': [394, 708, 421, 736]},\n",
       "  {'cell_id': 116, 'infected_label': 1, 'bbox': [988, 819, 1024, 849]},\n",
       "  {'cell_id': 117, 'infected_label': 1, 'bbox': [200, 723, 234, 761]},\n",
       "  {'cell_id': 118, 'infected_label': 1, 'bbox': [564, 529, 612, 588]},\n",
       "  {'cell_id': 119, 'infected_label': 1, 'bbox': [33, 188, 81, 232]},\n",
       "  {'cell_id': 120, 'infected_label': 1, 'bbox': [0, 986, 41, 1024]},\n",
       "  {'cell_id': 121, 'infected_label': 1, 'bbox': [423, 882, 466, 950]},\n",
       "  {'cell_id': 122, 'infected_label': 1, 'bbox': [663, 451, 699, 484]},\n",
       "  {'cell_id': 123, 'infected_label': 1, 'bbox': [338, 262, 393, 316]},\n",
       "  {'cell_id': 124, 'infected_label': 1, 'bbox': [107, 843, 188, 939]},\n",
       "  {'cell_id': 125, 'infected_label': 1, 'bbox': [29, 776, 66, 863]},\n",
       "  {'cell_id': 126, 'infected_label': 1, 'bbox': [838, 759, 900, 794]},\n",
       "  {'cell_id': 127, 'infected_label': 1, 'bbox': [248, 255, 299, 290]},\n",
       "  {'cell_id': 128, 'infected_label': 1, 'bbox': [336, 155, 380, 209]},\n",
       "  {'cell_id': 130, 'infected_label': 1, 'bbox': [899, 43, 933, 75]},\n",
       "  {'cell_id': 131, 'infected_label': 1, 'bbox': [310, 427, 340, 462]},\n",
       "  {'cell_id': 132, 'infected_label': 1, 'bbox': [410, 313, 443, 340]},\n",
       "  {'cell_id': 133, 'infected_label': 1, 'bbox': [412, 458, 453, 491]},\n",
       "  {'cell_id': 134, 'infected_label': 1, 'bbox': [76, 156, 106, 180]},\n",
       "  {'cell_id': 135, 'infected_label': 1, 'bbox': [96, 528, 155, 570]},\n",
       "  {'cell_id': 136, 'infected_label': 2, 'bbox': [259, 598, 293, 626]},\n",
       "  {'cell_id': 137, 'infected_label': 1, 'bbox': [372, 316, 416, 391]},\n",
       "  {'cell_id': 138, 'infected_label': 1, 'bbox': [401, 375, 451, 413]},\n",
       "  {'cell_id': 139, 'infected_label': 2, 'bbox': [557, 263, 593, 308]},\n",
       "  {'cell_id': 140, 'infected_label': 1, 'bbox': [295, 460, 345, 484]},\n",
       "  {'cell_id': 141, 'infected_label': 3, 'bbox': [415, 0, 477, 70]},\n",
       "  {'cell_id': 142, 'infected_label': 1, 'bbox': [742, 758, 812, 830]},\n",
       "  {'cell_id': 143, 'infected_label': 1, 'bbox': [0, 423, 26, 475]},\n",
       "  {'cell_id': 144, 'infected_label': 1, 'bbox': [698, 243, 728, 273]},\n",
       "  {'cell_id': 145, 'infected_label': 2, 'bbox': [731, 617, 773, 651]},\n",
       "  {'cell_id': 146, 'infected_label': 1, 'bbox': [921, 184, 987, 252]},\n",
       "  {'cell_id': 147, 'infected_label': 1, 'bbox': [493, 608, 512, 628]},\n",
       "  {'cell_id': 148, 'infected_label': 1, 'bbox': [249, 729, 272, 790]},\n",
       "  {'cell_id': 149, 'infected_label': 1, 'bbox': [685, 159, 738, 229]},\n",
       "  {'cell_id': 150, 'infected_label': 1, 'bbox': [85, 119, 143, 170]},\n",
       "  {'cell_id': 151, 'infected_label': 1, 'bbox': [56, 507, 116, 556]},\n",
       "  {'cell_id': 152, 'infected_label': 1, 'bbox': [122, 97, 169, 137]},\n",
       "  {'cell_id': 153, 'infected_label': 1, 'bbox': [638, 519, 682, 570]},\n",
       "  {'cell_id': 154, 'infected_label': 1, 'bbox': [838, 716, 897, 763]},\n",
       "  {'cell_id': 155, 'infected_label': 1, 'bbox': [836, 552, 888, 597]},\n",
       "  {'cell_id': 156, 'infected_label': 1, 'bbox': [875, 89, 916, 121]},\n",
       "  {'cell_id': 157, 'infected_label': 1, 'bbox': [345, 860, 399, 909]},\n",
       "  {'cell_id': 158, 'infected_label': 2, 'bbox': [326, 985, 355, 1017]},\n",
       "  {'cell_id': 159, 'infected_label': 1, 'bbox': [515, 457, 562, 511]},\n",
       "  {'cell_id': 160, 'infected_label': 2, 'bbox': [517, 245, 575, 287]},\n",
       "  {'cell_id': 161, 'infected_label': 1, 'bbox': [667, 375, 738, 414]},\n",
       "  {'cell_id': 162, 'infected_label': 1, 'bbox': [903, 766, 939, 834]},\n",
       "  {'cell_id': 163, 'infected_label': 1, 'bbox': [907, 840, 954, 885]},\n",
       "  {'cell_id': 164, 'infected_label': 1, 'bbox': [9, 706, 65, 746]},\n",
       "  {'cell_id': 165, 'infected_label': 1, 'bbox': [445, 0, 513, 49]},\n",
       "  {'cell_id': 166, 'infected_label': 1, 'bbox': [930, 356, 969, 414]},\n",
       "  {'cell_id': 167, 'infected_label': 1, 'bbox': [0, 302, 26, 342]},\n",
       "  {'cell_id': 168, 'infected_label': 1, 'bbox': [96, 167, 126, 196]},\n",
       "  {'cell_id': 169, 'infected_label': 2, 'bbox': [203, 92, 258, 143]},\n",
       "  {'cell_id': 170, 'infected_label': 1, 'bbox': [330, 399, 378, 468]},\n",
       "  {'cell_id': 171, 'infected_label': 1, 'bbox': [462, 822, 526, 861]},\n",
       "  {'cell_id': 172, 'infected_label': 2, 'bbox': [505, 284, 570, 317]},\n",
       "  {'cell_id': 173, 'infected_label': 1, 'bbox': [110, 788, 154, 829]},\n",
       "  {'cell_id': 174, 'infected_label': 1, 'bbox': [788, 785, 842, 838]},\n",
       "  {'cell_id': 175, 'infected_label': 1, 'bbox': [140, 776, 168, 824]},\n",
       "  {'cell_id': 176, 'infected_label': 1, 'bbox': [317, 293, 357, 336]},\n",
       "  {'cell_id': 177, 'infected_label': 1, 'bbox': [83, 909, 125, 980]},\n",
       "  {'cell_id': 178, 'infected_label': 1, 'bbox': [878, 800, 915, 836]},\n",
       "  {'cell_id': 179, 'infected_label': 1, 'bbox': [957, 494, 1011, 545]},\n",
       "  {'cell_id': 180, 'infected_label': 1, 'bbox': [522, 743, 553, 789]},\n",
       "  {'cell_id': 181, 'infected_label': 1, 'bbox': [794, 755, 840, 801]},\n",
       "  {'cell_id': 182, 'infected_label': 1, 'bbox': [200, 253, 257, 303]},\n",
       "  {'cell_id': 183, 'infected_label': 1, 'bbox': [336, 974, 414, 1021]},\n",
       "  {'cell_id': 184, 'infected_label': 1, 'bbox': [995, 19, 1024, 73]},\n",
       "  {'cell_id': 185, 'infected_label': 1, 'bbox': [33, 88, 68, 140]},\n",
       "  {'cell_id': 186, 'infected_label': 1, 'bbox': [0, 777, 39, 840]},\n",
       "  {'cell_id': 187, 'infected_label': 1, 'bbox': [655, 343, 698, 383]},\n",
       "  {'cell_id': 188, 'infected_label': 1, 'bbox': [25, 735, 76, 785]},\n",
       "  {'cell_id': 189, 'infected_label': 1, 'bbox': [372, 872, 447, 925]},\n",
       "  {'cell_id': 190, 'infected_label': 1, 'bbox': [510, 801, 557, 833]},\n",
       "  {'cell_id': 191, 'infected_label': 1, 'bbox': [621, 637, 678, 696]},\n",
       "  {'cell_id': 192, 'infected_label': 1, 'bbox': [821, 65, 892, 108]},\n",
       "  {'cell_id': 193, 'infected_label': 1, 'bbox': [695, 437, 734, 480]},\n",
       "  {'cell_id': 194, 'infected_label': 1, 'bbox': [76, 964, 113, 999]},\n",
       "  {'cell_id': 195, 'infected_label': 2, 'bbox': [179, 656, 240, 700]},\n",
       "  {'cell_id': 196, 'infected_label': 1, 'bbox': [181, 39, 251, 82]},\n",
       "  {'cell_id': 197, 'infected_label': 2, 'bbox': [964, 0, 998, 28]},\n",
       "  {'cell_id': 198, 'infected_label': 1, 'bbox': [553, 942, 628, 1018]},\n",
       "  {'cell_id': 199, 'infected_label': 1, 'bbox': [779, 0, 854, 39]},\n",
       "  {'cell_id': 200, 'infected_label': 1, 'bbox': [790, 395, 831, 439]},\n",
       "  {'cell_id': 201, 'infected_label': 1, 'bbox': [551, 541, 579, 572]},\n",
       "  {'cell_id': 202, 'infected_label': 1, 'bbox': [223, 579, 263, 644]},\n",
       "  {'cell_id': 203, 'infected_label': 1, 'bbox': [182, 208, 248, 262]},\n",
       "  {'cell_id': 204, 'infected_label': 1, 'bbox': [59, 121, 94, 158]},\n",
       "  {'cell_id': 205, 'infected_label': 2, 'bbox': [148, 293, 223, 354]},\n",
       "  {'cell_id': 206, 'infected_label': 1, 'bbox': [563, 177, 606, 229]},\n",
       "  {'cell_id': 207, 'infected_label': 1, 'bbox': [325, 62, 390, 158]},\n",
       "  {'cell_id': 208, 'infected_label': 1, 'bbox': [380, 51, 452, 113]},\n",
       "  {'cell_id': 209, 'infected_label': 1, 'bbox': [976, 527, 1002, 561]},\n",
       "  {'cell_id': 210, 'infected_label': 1, 'bbox': [65, 453, 98, 501]},\n",
       "  {'cell_id': 211, 'infected_label': 1, 'bbox': [365, 437, 421, 475]},\n",
       "  {'cell_id': 212, 'infected_label': 1, 'bbox': [249, 437, 300, 497]},\n",
       "  {'cell_id': 213, 'infected_label': 2, 'bbox': [453, 400, 512, 458]},\n",
       "  {'cell_id': 214, 'infected_label': 1, 'bbox': [418, 232, 468, 301]},\n",
       "  {'cell_id': 215, 'infected_label': 2, 'bbox': [842, 780, 911, 821]},\n",
       "  {'cell_id': 216, 'infected_label': 3, 'bbox': [844, 548, 922, 614]},\n",
       "  {'cell_id': 217, 'infected_label': 1, 'bbox': [727, 908, 766, 951]},\n",
       "  {'cell_id': 218, 'infected_label': 1, 'bbox': [641, 479, 690, 522]},\n",
       "  {'cell_id': 219, 'infected_label': 1, 'bbox': [411, 412, 455, 470]},\n",
       "  {'cell_id': 220, 'infected_label': 1, 'bbox': [324, 921, 357, 969]},\n",
       "  {'cell_id': 221, 'infected_label': 1, 'bbox': [989, 456, 1024, 522]},\n",
       "  {'cell_id': 222, 'infected_label': 2, 'bbox': [36, 583, 101, 632]},\n",
       "  {'cell_id': 223, 'infected_label': 1, 'bbox': [211, 297, 257, 352]},\n",
       "  {'cell_id': 224, 'infected_label': 1, 'bbox': [940, 221, 1006, 299]},\n",
       "  {'cell_id': 225, 'infected_label': 1, 'bbox': [45, 394, 87, 443]},\n",
       "  {'cell_id': 226, 'infected_label': 1, 'bbox': [258, 0, 289, 42]},\n",
       "  {'cell_id': 227, 'infected_label': 1, 'bbox': [432, 44, 526, 91]},\n",
       "  {'cell_id': 228, 'infected_label': 1, 'bbox': [93, 49, 141, 103]},\n",
       "  {'cell_id': 229, 'infected_label': 2, 'bbox': [563, 223, 594, 266]},\n",
       "  {'cell_id': 230, 'infected_label': 1, 'bbox': [55, 783, 76, 820]},\n",
       "  {'cell_id': 231, 'infected_label': 2, 'bbox': [814, 701, 849, 746]},\n",
       "  {'cell_id': 232, 'infected_label': 1, 'bbox': [449, 454, 516, 506]},\n",
       "  {'cell_id': 233, 'infected_label': 1, 'bbox': [221, 216, 288, 263]},\n",
       "  {'cell_id': 234, 'infected_label': 1, 'bbox': [0, 336, 51, 459]},\n",
       "  {'cell_id': 235, 'infected_label': 1, 'bbox': [914, 156, 987, 208]},\n",
       "  {'cell_id': 236, 'infected_label': 1, 'bbox': [40, 0, 98, 49]},\n",
       "  {'cell_id': 237, 'infected_label': 1, 'bbox': [626, 451, 681, 482]},\n",
       "  {'cell_id': 238, 'infected_label': 1, 'bbox': [24, 856, 92, 896]},\n",
       "  {'cell_id': 239, 'infected_label': 1, 'bbox': [551, 568, 580, 619]},\n",
       "  {'cell_id': 240, 'infected_label': 1, 'bbox': [713, 321, 796, 382]},\n",
       "  {'cell_id': 241, 'infected_label': 1, 'bbox': [0, 462, 39, 518]},\n",
       "  {'cell_id': 242, 'infected_label': 1, 'bbox': [13, 0, 57, 36]},\n",
       "  {'cell_id': 243, 'infected_label': 1, 'bbox': [15, 294, 55, 347]},\n",
       "  {'cell_id': 244, 'infected_label': 1, 'bbox': [81, 193, 117, 221]},\n",
       "  {'cell_id': 245, 'infected_label': 1, 'bbox': [49, 225, 93, 284]},\n",
       "  {'cell_id': 246, 'infected_label': 1, 'bbox': [204, 400, 257, 454]},\n",
       "  {'cell_id': 247, 'infected_label': 1, 'bbox': [118, 402, 181, 447]},\n",
       "  {'cell_id': 248, 'infected_label': 1, 'bbox': [244, 807, 303, 850]},\n",
       "  {'cell_id': 249, 'infected_label': 1, 'bbox': [71, 627, 104, 687]},\n",
       "  {'cell_id': 250, 'infected_label': 1, 'bbox': [216, 540, 274, 583]},\n",
       "  {'cell_id': 251, 'infected_label': 2, 'bbox': [89, 583, 144, 628]},\n",
       "  {'cell_id': 252, 'infected_label': 1, 'bbox': [398, 917, 424, 957]},\n",
       "  {'cell_id': 253, 'infected_label': 1, 'bbox': [567, 582, 651, 642]},\n",
       "  {'cell_id': 254, 'infected_label': 1, 'bbox': [26, 328, 88, 363]},\n",
       "  {'cell_id': 255, 'infected_label': 1, 'bbox': [294, 532, 362, 592]},\n",
       "  {'cell_id': 256, 'infected_label': 3, 'bbox': [676, 656, 702, 686]},\n",
       "  {'cell_id': 257, 'infected_label': 1, 'bbox': [628, 967, 677, 1002]},\n",
       "  {'cell_id': 258, 'infected_label': 2, 'bbox': [925, 571, 990, 611]},\n",
       "  {'cell_id': 259, 'infected_label': 1, 'bbox': [433, 170, 477, 229]},\n",
       "  {'cell_id': 260, 'infected_label': 1, 'bbox': [711, 963, 746, 1014]},\n",
       "  {'cell_id': 261, 'infected_label': 2, 'bbox': [639, 414, 699, 456]},\n",
       "  {'cell_id': 262, 'infected_label': 1, 'bbox': [986, 233, 1024, 284]},\n",
       "  {'cell_id': 263, 'infected_label': 1, 'bbox': [809, 536, 852, 596]},\n",
       "  {'cell_id': 264, 'infected_label': 1, 'bbox': [766, 588, 846, 655]},\n",
       "  {'cell_id': 265, 'infected_label': 1, 'bbox': [78, 346, 145, 421]},\n",
       "  {'cell_id': 266, 'infected_label': 2, 'bbox': [15, 909, 57, 973]},\n",
       "  {'cell_id': 267, 'infected_label': 2, 'bbox': [195, 499, 261, 557]},\n",
       "  {'cell_id': 268, 'infected_label': 1, 'bbox': [28, 550, 111, 593]},\n",
       "  {'cell_id': 269, 'infected_label': 1, 'bbox': [189, 935, 233, 1008]},\n",
       "  {'cell_id': 270, 'infected_label': 1, 'bbox': [738, 709, 820, 780]},\n",
       "  {'cell_id': 271, 'infected_label': 1, 'bbox': [493, 311, 538, 366]},\n",
       "  {'cell_id': 272, 'infected_label': 1, 'bbox': [667, 534, 709, 582]},\n",
       "  {'cell_id': 273, 'infected_label': 1, 'bbox': [95, 975, 136, 1024]},\n",
       "  {'cell_id': 274, 'infected_label': 1, 'bbox': [654, 839, 737, 897]},\n",
       "  {'cell_id': 275, 'infected_label': 1, 'bbox': [439, 902, 497, 956]},\n",
       "  {'cell_id': 276, 'infected_label': 1, 'bbox': [29, 352, 98, 395]},\n",
       "  {'cell_id': 277, 'infected_label': 1, 'bbox': [100, 631, 163, 689]},\n",
       "  {'cell_id': 278, 'infected_label': 1, 'bbox': [773, 438, 808, 465]},\n",
       "  {'cell_id': 279, 'infected_label': 1, 'bbox': [965, 26, 1002, 62]},\n",
       "  {'cell_id': 280, 'infected_label': 1, 'bbox': [438, 496, 497, 544]},\n",
       "  {'cell_id': 281, 'infected_label': 1, 'bbox': [454, 953, 501, 985]},\n",
       "  {'cell_id': 282, 'infected_label': 1, 'bbox': [759, 875, 817, 952]},\n",
       "  {'cell_id': 283, 'infected_label': 2, 'bbox': [391, 728, 462, 786]},\n",
       "  {'cell_id': 284, 'infected_label': 2, 'bbox': [961, 70, 1024, 192]},\n",
       "  {'cell_id': 285, 'infected_label': 1, 'bbox': [237, 332, 316, 390]},\n",
       "  {'cell_id': 286, 'infected_label': 1, 'bbox': [683, 341, 734, 384]},\n",
       "  {'cell_id': 287, 'infected_label': 1, 'bbox': [355, 908, 411, 980]},\n",
       "  {'cell_id': 288, 'infected_label': 1, 'bbox': [169, 446, 212, 494]},\n",
       "  {'cell_id': 289, 'infected_label': 1, 'bbox': [112, 346, 185, 402]},\n",
       "  {'cell_id': 290, 'infected_label': 1, 'bbox': [92, 473, 161, 520]},\n",
       "  {'cell_id': 291, 'infected_label': 1, 'bbox': [0, 32, 59, 63]},\n",
       "  {'cell_id': 292, 'infected_label': 1, 'bbox': [481, 940, 564, 1001]},\n",
       "  {'cell_id': 293, 'infected_label': 1, 'bbox': [95, 19, 155, 79]},\n",
       "  {'cell_id': 294, 'infected_label': 3, 'bbox': [466, 138, 558, 215]},\n",
       "  {'cell_id': 295, 'infected_label': 2, 'bbox': [273, 502, 365, 560]},\n",
       "  {'cell_id': 296, 'infected_label': 1, 'bbox': [891, 60, 984, 96]},\n",
       "  {'cell_id': 297, 'infected_label': 1, 'bbox': [298, 464, 357, 515]},\n",
       "  {'cell_id': 298, 'infected_label': 1, 'bbox': [205, 780, 251, 824]},\n",
       "  {'cell_id': 299, 'infected_label': 2, 'bbox': [301, 759, 379, 837]},\n",
       "  {'cell_id': 300, 'infected_label': 1, 'bbox': [924, 717, 979, 797]},\n",
       "  {'cell_id': 301, 'infected_label': 1, 'bbox': [24, 451, 68, 553]},\n",
       "  {'cell_id': 302, 'infected_label': 1, 'bbox': [54, 282, 90, 319]},\n",
       "  {'cell_id': 303, 'infected_label': 1, 'bbox': [297, 119, 329, 170]},\n",
       "  {'cell_id': 304, 'infected_label': 1, 'bbox': [374, 502, 422, 550]},\n",
       "  {'cell_id': 305, 'infected_label': 1, 'bbox': [499, 616, 575, 675]},\n",
       "  {'cell_id': 306, 'infected_label': 1, 'bbox': [468, 304, 506, 346]},\n",
       "  {'cell_id': 307, 'infected_label': 1, 'bbox': [98, 600, 156, 641]},\n",
       "  {'cell_id': 308, 'infected_label': 1, 'bbox': [490, 428, 542, 475]},\n",
       "  {'cell_id': 309, 'infected_label': 1, 'bbox': [388, 946, 465, 1003]},\n",
       "  {'cell_id': 310, 'infected_label': 1, 'bbox': [262, 798, 312, 834]},\n",
       "  {'cell_id': 311, 'infected_label': 1, 'bbox': [717, 583, 757, 619]},\n",
       "  {'cell_id': 312, 'infected_label': 1, 'bbox': [610, 862, 664, 920]},\n",
       "  {'cell_id': 313, 'infected_label': 1, 'bbox': [373, 89, 416, 149]},\n",
       "  {'cell_id': 314, 'infected_label': 1, 'bbox': [900, 108, 941, 143]},\n",
       "  {'cell_id': 315, 'infected_label': 2, 'bbox': [719, 240, 780, 329]},\n",
       "  {'cell_id': 316, 'infected_label': 1, 'bbox': [168, 734, 224, 784]},\n",
       "  {'cell_id': 317, 'infected_label': 2, 'bbox': [234, 172, 274, 223]},\n",
       "  {'cell_id': 318, 'infected_label': 1, 'bbox': [533, 314, 565, 355]},\n",
       "  {'cell_id': 319, 'infected_label': 1, 'bbox': [49, 684, 98, 727]},\n",
       "  {'cell_id': 320, 'infected_label': 2, 'bbox': [447, 712, 534, 786]},\n",
       "  {'cell_id': 321, 'infected_label': 1, 'bbox': [978, 674, 1024, 748]},\n",
       "  {'cell_id': 322, 'infected_label': 1, 'bbox': [687, 598, 736, 636]},\n",
       "  {'cell_id': 323, 'infected_label': 1, 'bbox': [796, 410, 857, 471]},\n",
       "  {'cell_id': 324, 'infected_label': 1, 'bbox': [64, 711, 109, 750]},\n",
       "  {'cell_id': 325, 'infected_label': 1, 'bbox': [472, 253, 524, 307]},\n",
       "  {'cell_id': 326, 'infected_label': 1, 'bbox': [880, 735, 925, 785]},\n",
       "  {'cell_id': 327, 'infected_label': 1, 'bbox': [115, 511, 181, 556]},\n",
       "  {'cell_id': 328, 'infected_label': 1, 'bbox': [424, 778, 460, 841]},\n",
       "  {'cell_id': 329, 'infected_label': 1, 'bbox': [589, 470, 647, 531]},\n",
       "  {'cell_id': 330, 'infected_label': 2, 'bbox': [205, 160, 244, 212]},\n",
       "  {'cell_id': 331, 'infected_label': 3, 'bbox': [135, 555, 182, 603]},\n",
       "  {'cell_id': 332, 'infected_label': 1, 'bbox': [458, 263, 487, 310]},\n",
       "  {'cell_id': 333, 'infected_label': 1, 'bbox': [458, 545, 517, 597]},\n",
       "  {'cell_id': 334, 'infected_label': 1, 'bbox': [341, 848, 405, 885]},\n",
       "  {'cell_id': 335, 'infected_label': 1, 'bbox': [682, 481, 727, 544]},\n",
       "  {'cell_id': 336, 'infected_label': 2, 'bbox': [187, 822, 256, 903]},\n",
       "  {'cell_id': 337, 'infected_label': 1, 'bbox': [712, 39, 776, 96]},\n",
       "  {'cell_id': 338, 'infected_label': 1, 'bbox': [495, 22, 550, 54]},\n",
       "  {'cell_id': 339, 'infected_label': 1, 'bbox': [608, 931, 684, 981]},\n",
       "  {'cell_id': 340, 'infected_label': 2, 'bbox': [285, 236, 361, 297]},\n",
       "  {'cell_id': 341, 'infected_label': 3, 'bbox': [650, 0, 742, 48]},\n",
       "  {'cell_id': 342, 'infected_label': 1, 'bbox': [713, 981, 770, 1024]},\n",
       "  {'cell_id': 343, 'infected_label': 1, 'bbox': [464, 516, 527, 565]},\n",
       "  {'cell_id': 344, 'infected_label': 1, 'bbox': [150, 584, 203, 634]},\n",
       "  {'cell_id': 345, 'infected_label': 1, 'bbox': [23, 646, 74, 707]},\n",
       "  {'cell_id': 346, 'infected_label': 1, 'bbox': [368, 146, 409, 195]},\n",
       "  {'cell_id': 347, 'infected_label': 1, 'bbox': [161, 376, 231, 448]},\n",
       "  {'cell_id': 348, 'infected_label': 3, 'bbox': [882, 575, 952, 710]},\n",
       "  {'cell_id': 349, 'infected_label': 1, 'bbox': [458, 777, 515, 842]},\n",
       "  {'cell_id': 350, 'infected_label': 1, 'bbox': [27, 129, 100, 200]},\n",
       "  {'cell_id': 351, 'infected_label': 1, 'bbox': [295, 900, 332, 960]},\n",
       "  {'cell_id': 352, 'infected_label': 2, 'bbox': [221, 133, 283, 183]},\n",
       "  {'cell_id': 353, 'infected_label': 1, 'bbox': [949, 651, 1008, 723]},\n",
       "  {'cell_id': 354, 'infected_label': 1, 'bbox': [266, 411, 320, 470]},\n",
       "  {'cell_id': 355, 'infected_label': 1, 'bbox': [749, 592, 787, 620]},\n",
       "  {'cell_id': 356, 'infected_label': 1, 'bbox': [601, 512, 653, 591]},\n",
       "  {'cell_id': 357, 'infected_label': 1, 'bbox': [919, 139, 956, 170]},\n",
       "  {'cell_id': 358, 'infected_label': 1, 'bbox': [635, 563, 721, 622]},\n",
       "  {'cell_id': 359, 'infected_label': 3, 'bbox': [726, 0, 805, 52]},\n",
       "  {'cell_id': 360, 'infected_label': 1, 'bbox': [252, 38, 296, 70]},\n",
       "  {'cell_id': 361, 'infected_label': 1, 'bbox': [122, 907, 225, 993]},\n",
       "  {'cell_id': 362, 'infected_label': 3, 'bbox': [314, 192, 415, 247]},\n",
       "  {'cell_id': 363, 'infected_label': 2, 'bbox': [921, 605, 988, 654]},\n",
       "  {'cell_id': 364, 'infected_label': 1, 'bbox': [212, 50, 294, 101]},\n",
       "  {'cell_id': 365, 'infected_label': 1, 'bbox': [103, 823, 165, 879]},\n",
       "  {'cell_id': 366, 'infected_label': 1, 'bbox': [124, 156, 165, 201]},\n",
       "  {'cell_id': 367, 'infected_label': 1, 'bbox': [921, 530, 984, 580]},\n",
       "  {'cell_id': 368, 'infected_label': 2, 'bbox': [82, 668, 148, 720]},\n",
       "  {'cell_id': 369, 'infected_label': 1, 'bbox': [32, 368, 66, 418]},\n",
       "  {'cell_id': 370, 'infected_label': 1, 'bbox': [0, 210, 49, 256]},\n",
       "  {'cell_id': 371, 'infected_label': 1, 'bbox': [353, 220, 441, 322]},\n",
       "  {'cell_id': 372, 'infected_label': 2, 'bbox': [955, 290, 996, 381]},\n",
       "  {'cell_id': 373, 'infected_label': 1, 'bbox': [218, 0, 263, 50]},\n",
       "  {'cell_id': 374, 'infected_label': 1, 'bbox': [55, 495, 96, 533]},\n",
       "  {'cell_id': 375, 'infected_label': 1, 'bbox': [324, 858, 360, 925]},\n",
       "  {'cell_id': 376, 'infected_label': 1, 'bbox': [251, 282, 325, 343]},\n",
       "  {'cell_id': 377, 'infected_label': 1, 'bbox': [665, 303, 720, 347]},\n",
       "  {'cell_id': 378, 'infected_label': 1, 'bbox': [151, 484, 198, 555]},\n",
       "  {'cell_id': 379, 'infected_label': 1, 'bbox': [252, 96, 289, 156]},\n",
       "  {'cell_id': 380, 'infected_label': 1, 'bbox': [550, 128, 607, 184]},\n",
       "  {'cell_id': 381, 'infected_label': 1, 'bbox': [53, 45, 97, 87]},\n",
       "  {'cell_id': 382, 'infected_label': 1, 'bbox': [673, 21, 733, 88]},\n",
       "  {'cell_id': 383, 'infected_label': 1, 'bbox': [343, 384, 417, 440]},\n",
       "  {'cell_id': 384, 'infected_label': 1, 'bbox': [976, 641, 1024, 680]},\n",
       "  {'cell_id': 385, 'infected_label': 1, 'bbox': [966, 842, 1024, 867]},\n",
       "  {'cell_id': 386, 'infected_label': 1, 'bbox': [763, 270, 802, 351]},\n",
       "  {'cell_id': 387, 'infected_label': 3, 'bbox': [600, 982, 654, 1024]},\n",
       "  {'cell_id': 388, 'infected_label': 1, 'bbox': [302, 711, 382, 779]},\n",
       "  {'cell_id': 389, 'infected_label': 1, 'bbox': [981, 597, 1024, 647]},\n",
       "  {'cell_id': 390, 'infected_label': 1, 'bbox': [411, 87, 457, 154]},\n",
       "  {'cell_id': 391, 'infected_label': 2, 'bbox': [542, 186, 583, 214]},\n",
       "  {'cell_id': 392, 'infected_label': 1, 'bbox': [555, 631, 621, 697]},\n",
       "  {'cell_id': 393, 'infected_label': 2, 'bbox': [518, 200, 572, 260]},\n",
       "  {'cell_id': 394, 'infected_label': 1, 'bbox': [356, 571, 431, 616]},\n",
       "  {'cell_id': 395, 'infected_label': 1, 'bbox': [351, 467, 421, 510]},\n",
       "  {'cell_id': 396, 'infected_label': 1, 'bbox': [397, 528, 473, 577]},\n",
       "  {'cell_id': 397, 'infected_label': 1, 'bbox': [616, 689, 683, 749]},\n",
       "  {'cell_id': 398, 'infected_label': 1, 'bbox': [658, 810, 738, 863]},\n",
       "  {'cell_id': 399, 'infected_label': 1, 'bbox': [95, 417, 162, 465]},\n",
       "  {'cell_id': 400, 'infected_label': 1, 'bbox': [676, 399, 749, 445]},\n",
       "  {'cell_id': 401, 'infected_label': 1, 'bbox': [659, 75, 714, 167]},\n",
       "  {'cell_id': 402, 'infected_label': 2, 'bbox': [488, 194, 530, 270]},\n",
       "  {'cell_id': 403, 'infected_label': 1, 'bbox': [687, 267, 731, 314]},\n",
       "  {'cell_id': 404, 'infected_label': 1, 'bbox': [138, 440, 183, 487]},\n",
       "  {'cell_id': 405, 'infected_label': 1, 'bbox': [258, 697, 309, 746]},\n",
       "  {'cell_id': 406, 'infected_label': 1, 'bbox': [669, 978, 727, 1024]},\n",
       "  {'cell_id': 407, 'infected_label': 1, 'bbox': [551, 55, 583, 131]},\n",
       "  {'cell_id': 408, 'infected_label': 2, 'bbox': [140, 119, 183, 172]},\n",
       "  {'cell_id': 409, 'infected_label': 1, 'bbox': [931, 325, 977, 392]},\n",
       "  {'cell_id': 410, 'infected_label': 1, 'bbox': [399, 144, 445, 232]},\n",
       "  {'cell_id': 411, 'infected_label': 1, 'bbox': [757, 384, 794, 418]},\n",
       "  {'cell_id': 412, 'infected_label': 2, 'bbox': [158, 690, 223, 744]},\n",
       "  {'cell_id': 413, 'infected_label': 1, 'bbox': [407, 822, 469, 884]},\n",
       "  {'cell_id': 414, 'infected_label': 1, 'bbox': [739, 401, 793, 441]},\n",
       "  {'cell_id': 415, 'infected_label': 1, 'bbox': [694, 766, 770, 838]},\n",
       "  {'cell_id': 416, 'infected_label': 1, 'bbox': [304, 335, 352, 386]},\n",
       "  {'cell_id': 417, 'infected_label': 1, 'bbox': [631, 617, 703, 664]},\n",
       "  {'cell_id': 418, 'infected_label': 1, 'bbox': [774, 494, 832, 537]},\n",
       "  {'cell_id': 419, 'infected_label': 1, 'bbox': [450, 854, 521, 908]},\n",
       "  {'cell_id': 420, 'infected_label': 1, 'bbox': [60, 71, 128, 124]},\n",
       "  {'cell_id': 421, 'infected_label': 1, 'bbox': [411, 483, 467, 530]},\n",
       "  {'cell_id': 422, 'infected_label': 1, 'bbox': [346, 307, 404, 346]},\n",
       "  {'cell_id': 423, 'infected_label': 3, 'bbox': [110, 209, 215, 313]},\n",
       "  {'cell_id': 424, 'infected_label': 1, 'bbox': [452, 53, 556, 151]},\n",
       "  {'cell_id': 425, 'infected_label': 1, 'bbox': [82, 267, 133, 305]},\n",
       "  {'cell_id': 426, 'infected_label': 1, 'bbox': [175, 349, 256, 408]},\n",
       "  {'cell_id': 427, 'infected_label': 1, 'bbox': [951, 388, 1006, 434]},\n",
       "  {'cell_id': 428, 'infected_label': 3, 'bbox': [928, 858, 1024, 924]},\n",
       "  {'cell_id': 429, 'infected_label': 1, 'bbox': [520, 349, 581, 394]},\n",
       "  {'cell_id': 430, 'infected_label': 1, 'bbox': [19, 244, 63, 296]},\n",
       "  {'cell_id': 431, 'infected_label': 1, 'bbox': [780, 935, 824, 982]},\n",
       "  {'cell_id': 432, 'infected_label': 1, 'bbox': [886, 698, 932, 752]},\n",
       "  {'cell_id': 433, 'infected_label': 1, 'bbox': [378, 750, 440, 832]},\n",
       "  {'cell_id': 434, 'infected_label': 1, 'bbox': [221, 879, 298, 943]},\n",
       "  {'cell_id': 435, 'infected_label': 1, 'bbox': [148, 630, 200, 674]},\n",
       "  {'cell_id': 436, 'infected_label': 2, 'bbox': [340, 806, 412, 873]},\n",
       "  {'cell_id': 437, 'infected_label': 1, 'bbox': [418, 570, 497, 619]},\n",
       "  {'cell_id': 438, 'infected_label': 1, 'bbox': [672, 675, 775, 737]},\n",
       "  {'cell_id': 439, 'infected_label': 1, 'bbox': [573, 877, 627, 951]},\n",
       "  {'cell_id': 440, 'infected_label': 1, 'bbox': [697, 468, 762, 513]},\n",
       "  {'cell_id': 441, 'infected_label': 2, 'bbox': [283, 204, 319, 262]},\n",
       "  {'cell_id': 442, 'infected_label': 1, 'bbox': [202, 450, 258, 513]},\n",
       "  {'cell_id': 443, 'infected_label': 1, 'bbox': [246, 744, 327, 808]},\n",
       "  {'cell_id': 444, 'infected_label': 1, 'bbox': [193, 588, 242, 660]},\n",
       "  {'cell_id': 445, 'infected_label': 1, 'bbox': [785, 454, 815, 495]},\n",
       "  {'cell_id': 446, 'infected_label': 2, 'bbox': [180, 975, 286, 1024]},\n",
       "  {'cell_id': 447, 'infected_label': 3, 'bbox': [736, 52, 822, 171]},\n",
       "  {'cell_id': 448, 'infected_label': 1, 'bbox': [143, 18, 186, 80]},\n",
       "  {'cell_id': 449, 'infected_label': 2, 'bbox': [704, 510, 763, 595]},\n",
       "  {'cell_id': 450, 'infected_label': 1, 'bbox': [974, 783, 1024, 845]},\n",
       "  {'cell_id': 451, 'infected_label': 2, 'bbox': [945, 262, 982, 325]},\n",
       "  {'cell_id': 452, 'infected_label': 1, 'bbox': [509, 0, 556, 40]},\n",
       "  {'cell_id': 453, 'infected_label': 1, 'bbox': [184, 862, 227, 921]},\n",
       "  {'cell_id': 454, 'infected_label': 2, 'bbox': [284, 588, 334, 619]},\n",
       "  {'cell_id': 455, 'infected_label': 2, 'bbox': [850, 833, 921, 923]},\n",
       "  {'cell_id': 456, 'infected_label': 2, 'bbox': [424, 365, 487, 424]},\n",
       "  {'cell_id': 457, 'infected_label': 1, 'bbox': [705, 86, 769, 159]},\n",
       "  {'cell_id': 458, 'infected_label': 1, 'bbox': [134, 65, 225, 119]},\n",
       "  {'cell_id': 459, 'infected_label': 1, 'bbox': [679, 909, 731, 988]},\n",
       "  {'cell_id': 460, 'infected_label': 2, 'bbox': [870, 882, 952, 954]},\n",
       "  {'cell_id': 461, 'infected_label': 1, 'bbox': [250, 384, 296, 438]},\n",
       "  {'cell_id': 462, 'infected_label': 1, 'bbox': [542, 28, 612, 81]},\n",
       "  {'cell_id': 463, 'infected_label': 1, 'bbox': [112, 306, 176, 371]},\n",
       "  {'cell_id': 464, 'infected_label': 1, 'bbox': [2, 54, 61, 88]},\n",
       "  {'cell_id': 465, 'infected_label': 2, 'bbox': [820, 811, 887, 855]},\n",
       "  {'cell_id': 466, 'infected_label': 1, 'bbox': [828, 511, 884, 556]},\n",
       "  {'cell_id': 467, 'infected_label': 1, 'bbox': [0, 666, 37, 723]},\n",
       "  {'cell_id': 468, 'infected_label': 1, 'bbox': [50, 411, 139, 499]},\n",
       "  {'cell_id': 469, 'infected_label': 2, 'bbox': [712, 641, 794, 688]},\n",
       "  {'cell_id': 470, 'infected_label': 1, 'bbox': [410, 664, 475, 735]},\n",
       "  {'cell_id': 471, 'infected_label': 2, 'bbox': [71, 204, 141, 273]},\n",
       "  {'cell_id': 472, 'infected_label': 1, 'bbox': [174, 767, 216, 828]},\n",
       "  {'cell_id': 473, 'infected_label': 2, 'bbox': [230, 924, 325, 995]},\n",
       "  {'cell_id': 474, 'infected_label': 1, 'bbox': [25, 875, 102, 925]},\n",
       "  {'cell_id': 475, 'infected_label': 1, 'bbox': [174, 549, 228, 594]},\n",
       "  {'cell_id': 476, 'infected_label': 1, 'bbox': [873, 217, 921, 283]},\n",
       "  {'cell_id': 477, 'infected_label': 1, 'bbox': [254, 477, 308, 551]},\n",
       "  {'cell_id': 478, 'infected_label': 1, 'bbox': [702, 850, 781, 915]},\n",
       "  {'cell_id': 479, 'infected_label': 1, 'bbox': [301, 671, 380, 743]},\n",
       "  {'cell_id': 480, 'infected_label': 1, 'bbox': [735, 823, 798, 881]},\n",
       "  {'cell_id': 481, 'infected_label': 1, 'bbox': [625, 886, 712, 936]},\n",
       "  {'cell_id': 482, 'infected_label': 1, 'bbox': [427, 107, 501, 173]},\n",
       "  {'cell_id': 483, 'infected_label': 1, 'bbox': [957, 728, 1024, 797]},\n",
       "  {'cell_id': 484, 'infected_label': 1, 'bbox': [173, 0, 224, 46]},\n",
       "  {'cell_id': 485, 'infected_label': 1, 'bbox': [219, 694, 275, 738]},\n",
       "  {'cell_id': 486, 'infected_label': 1, 'bbox': [516, 846, 591, 908]},\n",
       "  {'cell_id': 487, 'infected_label': 1, 'bbox': [11, 602, 82, 670]},\n",
       "  {'cell_id': 488, 'infected_label': 1, 'bbox': [800, 968, 863, 1024]},\n",
       "  {'cell_id': 489, 'infected_label': 1, 'bbox': [907, 246, 956, 334]},\n",
       "  {'cell_id': 490, 'infected_label': 1, 'bbox': [251, 837, 298, 901]},\n",
       "  {'cell_id': 491, 'infected_label': 1, 'bbox': [797, 462, 856, 518]},\n",
       "  {'cell_id': 492, 'infected_label': 1, 'bbox': [788, 835, 875, 926]},\n",
       "  {'cell_id': 493, 'infected_label': 1, 'bbox': [491, 890, 582, 949]},\n",
       "  {'cell_id': 494, 'infected_label': 1, 'bbox': [291, 377, 344, 437]},\n",
       "  {'cell_id': 495, 'infected_label': 1, 'bbox': [968, 181, 1024, 233]},\n",
       "  {'cell_id': 496, 'infected_label': 1, 'bbox': [927, 670, 978, 726]},\n",
       "  {'cell_id': 497, 'infected_label': 1, 'bbox': [725, 429, 787, 500]},\n",
       "  {'cell_id': 498, 'infected_label': 1, 'bbox': [581, 643, 639, 714]},\n",
       "  {'cell_id': 499, 'infected_label': 1, 'bbox': [546, 477, 607, 542]},\n",
       "  {'cell_id': 500, 'infected_label': 1, 'bbox': [307, 125, 369, 201]},\n",
       "  {'cell_id': 501, 'infected_label': 3, 'bbox': [416, 976, 516, 1024]},\n",
       "  {'cell_id': 502, 'infected_label': 1, 'bbox': [589, 711, 643, 751]},\n",
       "  {'cell_id': 503, 'infected_label': 1, 'bbox': [707, 150, 757, 205]},\n",
       "  {'cell_id': 504, 'infected_label': 1, 'bbox': [741, 496, 819, 604]},\n",
       "  {'cell_id': 505, 'infected_label': 2, 'bbox': [493, 772, 555, 808]},\n",
       "  {'cell_id': 506, 'infected_label': 1, 'bbox': [575, 71, 606, 142]},\n",
       "  {'cell_id': 507, 'infected_label': 1, 'bbox': [729, 941, 784, 984]},\n",
       "  {'cell_id': 508, 'infected_label': 1, 'bbox': [800, 295, 845, 363]},\n",
       "  {'cell_id': 509, 'infected_label': 1, 'bbox': [506, 532, 559, 628]},\n",
       "  {'cell_id': 510, 'infected_label': 1, 'bbox': [66, 789, 114, 836]},\n",
       "  {'cell_id': 511, 'infected_label': 1, 'bbox': [365, 12, 437, 64]},\n",
       "  {'cell_id': 512, 'infected_label': 1, 'bbox': [807, 894, 875, 1021]},\n",
       "  {'cell_id': 513, 'infected_label': 1, 'bbox': [345, 344, 385, 389]},\n",
       "  {'cell_id': 514, 'infected_label': 1, 'bbox': [346, 529, 405, 579]},\n",
       "  {'cell_id': 515, 'infected_label': 1, 'bbox': [916, 807, 968, 867]},\n",
       "  {'cell_id': 516, 'infected_label': 2, 'bbox': [155, 113, 226, 217]},\n",
       "  {'cell_id': 517, 'infected_label': 3, 'bbox': [143, 665, 184, 719]},\n",
       "  {'cell_id': 518, 'infected_label': 1, 'bbox': [779, 33, 853, 80]},\n",
       "  {'cell_id': 519, 'infected_label': 2, 'bbox': [408, 301, 500, 385]},\n",
       "  {'cell_id': 520, 'infected_label': 1, 'bbox': [490, 480, 550, 534]},\n",
       "  {'cell_id': 521, 'infected_label': 1, 'bbox': [351, 80, 388, 124]}]}"
      ]
     },
     "execution_count": 27,
     "metadata": {},
     "output_type": "execute_result"
    }
   ],
   "source": [
    "# TODO explain\n",
    "classification_label_data"
   ]
  },
  {
   "cell_type": "code",
   "execution_count": 29,
   "id": "2601fc97-1257-4729-ad5a-0d55726fc2da",
   "metadata": {},
   "outputs": [],
   "source": [
    "# TODO explain!\n",
    "classification_labels = []\n",
    "bounding_boxes = []\n",
    "for cell_data in classification_label_data[\"cells\"]:\n",
    "    bbox = cell_data[\"bbox\"]\n",
    "    if bbox is None:\n",
    "        continue\n",
    "    classification_labels.append(cell_data[\"infected_label\"])\n",
    "    bounding_boxes.append([bbox[:2], bbox[2:]])"
   ]
  },
  {
   "cell_type": "code",
   "execution_count": 35,
   "id": "e2fbedb5-906a-4870-9b28-a825ca29b3c9",
   "metadata": {},
   "outputs": [
    {
     "name": "stdout",
     "output_type": "stream",
     "text": [
      "(array([1, 2, 3]), array([423,  65,  24]))\n"
     ]
    }
   ],
   "source": [
    "print(np.unique(classification_labels, return_counts=True))"
   ]
  },
  {
   "cell_type": "code",
   "execution_count": 36,
   "id": "51b3d462-96a2-4f9b-ab94-7f1b90c30b8f",
   "metadata": {},
   "outputs": [
    {
     "name": "stderr",
     "output_type": "stream",
     "text": [
      "/home/pape/micromamba/envs/main/lib/python3.11/site-packages/napari/plugins/_plugin_manager.py:555: UserWarning: Plugin 'napari_skimage_regionprops2' has already registered a function widget 'duplicate current frame' which has now been overwritten\n",
      "  warn(message=warn_message)\n"
     ]
    },
    {
     "data": {
      "text/plain": [
       "<Shapes layer 'bounding_boxes' at 0x7f95dcaf1610>"
      ]
     },
     "execution_count": 36,
     "metadata": {},
     "output_type": "execute_result"
    }
   ],
   "source": [
    "# TODO explain!\n",
    "viewer = napari.Viewer()\n",
    "viewer.add_image(marker, colormap=\"red\", blending=\"additive\")\n",
    "viewer.add_image(nuclei, colormap=\"blue\", blending=\"additive\")\n",
    "viewer.add_labels(cells, visible=False)\n",
    "viewer.add_shapes(\n",
    "    bounding_boxes, shape_type=\"rectangle\", face_color=\"transparent\", edge_width=2,\n",
    "    properties={\"label\": classification_labels},\n",
    "    edge_color=\"label\", edge_color_cycle=[\"red\", \"blue\", \"grey\"],\n",
    ")"
   ]
  },
  {
   "cell_type": "markdown",
   "id": "cd979b87-6509-46e0-abe5-2e152944def1",
   "metadata": {},
   "source": [
    "### 2. Prepare the Data for Training\n",
    "\n",
    "Lorem ipsum"
   ]
  },
  {
   "cell_type": "code",
   "execution_count": 54,
   "id": "fda606b4-6ed8-4064-b8d5-8342de851dcf",
   "metadata": {},
   "outputs": [],
   "source": [
    "# TODO: explain\n",
    "\n",
    "def normalize(image):\n",
    "    image = image.astype(\"float32\")\n",
    "    image -= image.min()\n",
    "    image /= (image.max() + 1e-7)\n",
    "    return image\n",
    "\n",
    "\n",
    "def extract_images_and_labels(sample, apply_cell_mask=True):\n",
    "    classification_label_path = os.path.join(sample, \"labels.json\")\n",
    "    with open(classification_label_path, \"r\") as f:\n",
    "        classification_data = json.load(f)\n",
    "\n",
    "    sample_name = os.path.basename(sample)\n",
    "    marker_path = os.path.join(sample, f\"{sample_name}_marker_image.tif\")\n",
    "    nucleus_path = os.path.join(sample, f\"{sample_name}_nucleus_image.tif\")\n",
    "    cell_segmentation_path = os.path.join(sample, f\"{sample_name}_cell_labels.tif\")\n",
    "\n",
    "    marker = normalize(imageio.imread(marker_path))\n",
    "    nuclei = normalize(imageio.imread(nucleus_path))\n",
    "    cells = imageio.imread(cell_segmentation_path)\n",
    "\n",
    "    images, labels = [], []\n",
    "    for cell_data in classification_data[\"cells\"]:\n",
    "        label, bbox = cell_data[\"infected_label\"], cell_data[\"bbox\"]\n",
    "        if label not in (1, 2):\n",
    "            continue\n",
    "        bbox = np.s_[bbox[0]:bbox[2], bbox[1]: bbox[3]]\n",
    "\n",
    "        marker_im = marker[bbox]\n",
    "        nuc_im = nuclei[bbox]\n",
    "        mask = cells[bbox] == cell_data[\"cell_id\"]\n",
    "\n",
    "        if apply_cell_mask:\n",
    "            marker_im[~mask] = 0\n",
    "            nuc_im[~mask] = 0\n",
    "\n",
    "        image = np.stack([marker_im, nuc_im, mask.astype(\"float32\")])\n",
    "\n",
    "        images.append(image)\n",
    "        labels.append(label)\n",
    "\n",
    "    assert len(images) == len(labels)\n",
    "    return images, labels"
   ]
  },
  {
   "cell_type": "code",
   "execution_count": 55,
   "id": "794870c8",
   "metadata": {},
   "outputs": [],
   "source": [
    "def prepare_split(split):\n",
    "    split_folder = data_dirs[split]\n",
    "    samples = glob(os.path.join(split_folder, \"gt*\"))\n",
    "    images, labels = [], []\n",
    "    for sample in samples:\n",
    "        sample_images, sample_labels = extract_images_and_labels(sample)\n",
    "        images.extend(sample_images)\n",
    "        labels.extend(sample_labels)\n",
    "    return images, labels"
   ]
  },
  {
   "cell_type": "code",
   "execution_count": 59,
   "id": "3186a611-c84c-4e68-88aa-9139e89cfb48",
   "metadata": {},
   "outputs": [
    {
     "name": "stdout",
     "output_type": "stream",
     "text": [
      "We have 12998 training samples\n"
     ]
    }
   ],
   "source": [
    "train_images, train_labels = prepare_split(\"train\")\n",
    "print(\"We have\", len(train_images), \"training samples\")"
   ]
  },
  {
   "cell_type": "code",
   "execution_count": 62,
   "id": "ad767858-1ed3-4d9b-b653-1dd979715e0a",
   "metadata": {},
   "outputs": [
    {
     "name": "stdout",
     "output_type": "stream",
     "text": [
      "We have 1729 validation samples\n"
     ]
    }
   ],
   "source": [
    "val_images, val_labels = prepare_split(\"val\")\n",
    "print(\"We have\", len(val_images), \"validation samples\")"
   ]
  },
  {
   "cell_type": "code",
   "execution_count": 63,
   "id": "e3af3d74-e7f2-4bd0-81c2-ab699552cbc3",
   "metadata": {},
   "outputs": [
    {
     "name": "stdout",
     "output_type": "stream",
     "text": [
      "We have 3287 test samples\n"
     ]
    }
   ],
   "source": [
    "test_images, test_labels = prepare_split(\"test\")\n",
    "print(\"We have\", len(test_images), \"test samples\")"
   ]
  },
  {
   "cell_type": "code",
   "execution_count": 67,
   "id": "21c71f9c-1f3d-43c7-aa5a-8e5dbdedad51",
   "metadata": {},
   "outputs": [
    {
     "name": "stderr",
     "output_type": "stream",
     "text": [
      "/home/pape/micromamba/envs/main/lib/python3.11/site-packages/napari/plugins/_plugin_manager.py:555: UserWarning: Plugin 'napari_skimage_regionprops2' has already registered a function widget 'duplicate current frame' which has now been overwritten\n",
      "  warn(message=warn_message)\n"
     ]
    }
   ],
   "source": [
    "viewer = napari.Viewer()\n",
    "\n",
    "n_vis = 16\n",
    "i = 0\n",
    "for image, label in zip(train_images[:n_vis], train_labels[:n_vis]):\n",
    "    label_name = \"infected\" if label == 1 else \"not-infected\"\n",
    "    image_for_visualization = image.transpose((1, 2, 0))\n",
    "    image_for_visualization[..., -1] = 0\n",
    "    viewer.add_image(image_for_visualization, name=f\"sample{i}-{label_name}\")\n",
    "    i += 1\n",
    "viewer.grid.enabled = True"
   ]
  },
  {
   "cell_type": "markdown",
   "id": "609c06b6",
   "metadata": {},
   "source": [
    "### 3. Train the Infection Classifier\n",
    "\n",
    "Lorem ipsum."
   ]
  },
  {
   "cell_type": "code",
   "execution_count": 99,
   "id": "d20c53f1",
   "metadata": {},
   "outputs": [],
   "source": [
    "import torch\n",
    "from torch.utils.data import Dataset, DataLoader\n",
    "from torchvision.models.resnet import resnet18\n",
    "\n",
    "from sklearn import metrics\n",
    "from skimage.transform import resize"
   ]
  },
  {
   "cell_type": "code",
   "execution_count": 97,
   "id": "592e735f-9a9c-4fc5-8918-d12b9b34874a",
   "metadata": {},
   "outputs": [
    {
     "name": "stdout",
     "output_type": "stream",
     "text": [
      "GPU is NOT available. The training will be very slow!\n"
     ]
    }
   ],
   "source": [
    "if torch.cuda.is_available():\n",
    "    print(\"GPU is available\")\n",
    "    device = torch.device(\"cuda\")\n",
    "else:\n",
    "    print(\"GPU is NOT available. The training will be very slow!\")\n",
    "    device = torch.device(\"cpu\")"
   ]
  },
  {
   "cell_type": "code",
   "execution_count": 98,
   "id": "e4239509",
   "metadata": {},
   "outputs": [
    {
     "name": "stdout",
     "output_type": "stream",
     "text": [
      "Mean image shape: [52.91980716 52.68696951]\n"
     ]
    }
   ],
   "source": [
    "# Find the mean shape of all training and validation patches.\n",
    "shapes = np.stack([np.array(im.shape[1:]) for im in (train_images + val_images)])\n",
    "mean_shape = np.mean(shapes, axis=0)\n",
    "print(\"Mean image shape:\", mean_shape)"
   ]
  },
  {
   "cell_type": "markdown",
   "id": "e4eb0cc8",
   "metadata": {},
   "source": [
    "You should see that the mean image shape is roughly 52 x 52 pixels. We determine this shape to choose a suitable shape that all patches will be resized to for training the model. This is necessary to stack the patches across the batch dimensions and train the model with a batch size that is larger than 1.\n",
    "We choose the closest multiple of 16 as common patch shape, which is 64 x 64."
   ]
  },
  {
   "cell_type": "code",
   "execution_count": 100,
   "id": "e47b6515-2af8-459e-9d6d-7492c11b0a76",
   "metadata": {
    "editable": true,
    "slideshow": {
     "slide_type": ""
    },
    "tags": []
   },
   "outputs": [],
   "source": [
    "class CustomDataset(Dataset):\n",
    "    def __init__(self, data, labels, target_size=(3, 64, 64)):\n",
    "        self.data = data\n",
    "        self.labels = labels\n",
    "        self.target_size = target_size\n",
    "\n",
    "    def __len__(self):\n",
    "        return len(self.data)\n",
    "\n",
    "    def __getitem__(self, index):\n",
    "        image = self.data[index]\n",
    "        label = self.labels[index] - 1\n",
    "        resized_image = resize(image, self.target_size, preserve_range=True)\n",
    "        return resized_image, label"
   ]
  },
  {
   "cell_type": "code",
   "execution_count": 101,
   "id": "92bed166-d10d-4e40-ac0f-6572bf2fea6c",
   "metadata": {},
   "outputs": [],
   "source": [
    "# Build the training and validation loader.\n",
    "batch_size = 32  # The batch size used for training.\n",
    "image_shape = (3, 64, 64)  # The common shape all patches will be resized to before stacking them in a batch.\n",
    "num_workers = 4 if torch.cuda.is_available() else 1\n",
    "\n",
    "train_dataset = CustomDataset(train_images, train_labels, target_size=image_shape)\n",
    "val_dataset = CustomDataset(val_images, val_labels, target_size=image_shape)\n",
    "\n",
    "# Build the training and validation loader.\n",
    "train_loader = DataLoader(train_dataset, batch_size=batch_size, shuffle=True, num_workers=num_workers)\n",
    "val_loader = DataLoader(val_dataset, batch_size=batch_size, shuffle=False, num_workers=num_workers)"
   ]
  },
  {
   "cell_type": "code",
   "execution_count": 124,
   "id": "52e92e2f-53c1-494b-80cf-dc03fc3a1c52",
   "metadata": {},
   "outputs": [],
   "source": [
    "# Define model and optimizer.\n",
    "model = resnet34(num_classes=2)\n",
    "model.to(device)\n",
    "\n",
    "optimizer = torch.optim.SGD(model.parameters(), lr=0.001)"
   ]
  },
  {
   "cell_type": "code",
   "execution_count": 125,
   "id": "a8cb0394-589a-4ffa-a979-43254d8520b6",
   "metadata": {},
   "outputs": [],
   "source": [
    "def train_epoch():\n",
    "    model.train()\n",
    "\n",
    "    loss_values = []\n",
    "    \n",
    "    for x, y in train_loader:\n",
    "        x, y = x.to(device), y.to(device)\n",
    "        optimizer.zero_grad()\n",
    "        prediction = model(x)\n",
    "        loss = torch.nn.functional.cross_entropy(prediction, y)\n",
    "        loss.backward()\n",
    "        optimizer.step()\n",
    "        loss_values.append(loss.item())\n",
    "    \n",
    "    return loss_values"
   ]
  },
  {
   "cell_type": "code",
   "execution_count": 126,
   "id": "3f710ce8-761f-4d92-b156-f7c2500acdaa",
   "metadata": {},
   "outputs": [],
   "source": [
    "def evaluate_model(loader):\n",
    "    model.eval()\n",
    "    predictions, labels = [], []\n",
    "\n",
    "    with torch.no_grad():\n",
    "        for x, y in loader:\n",
    "            x, y = x.to(device), y.to(device)\n",
    "            prediction = model(x)\n",
    "            _, prediction = torch.max(prediction, 1)\n",
    "            predictions.extend(prediction.cpu().numpy())\n",
    "            labels.extend(y.cpu().numpy())\n",
    "\n",
    "    accuracy = metrics.accuracy_score(labels, predictions)\n",
    "    precision = metrics.precision_score(labels, predictions)\n",
    "    recall = metrics.recall_score(labels, predictions)\n",
    "    confusion_matrix = metrics.confusion_matrix(labels, predictions)\n",
    "    return accuracy, precision, recall, confusion_matrix"
   ]
  },
  {
   "cell_type": "code",
   "execution_count": 127,
   "id": "df5b08ad-7196-4832-bce5-3eb70727995b",
   "metadata": {},
   "outputs": [],
   "source": [
    "train_loss_history = []\n",
    "accuracy_history = []\n",
    "precision_history = []\n",
    "recall_history = []\n",
    "confusion_matrix_history = []"
   ]
  },
  {
   "cell_type": "code",
   "execution_count": 128,
   "id": "83617904-c2b1-44a6-9fe1-d1a7ea0dbadd",
   "metadata": {},
   "outputs": [
    {
     "name": "stdout",
     "output_type": "stream",
     "text": [
      "Epoch 0 training loss: 0.4748493785207922 validation accuracy: 0.8131868131868132 ran for -139.93033719062805 s\n"
     ]
    },
    {
     "name": "stderr",
     "output_type": "stream",
     "text": [
      "/home/pape/micromamba/envs/main/lib/python3.11/site-packages/sklearn/metrics/_classification.py:1471: UndefinedMetricWarning: Precision is ill-defined and being set to 0.0 due to no predicted samples. Use `zero_division` parameter to control this behavior.\n",
      "  _warn_prf(average, modifier, msg_start, len(result))\n"
     ]
    },
    {
     "name": "stdout",
     "output_type": "stream",
     "text": [
      "Epoch 1 training loss: 0.4712051714081729 validation accuracy: 0.8131868131868132 ran for -126.19528484344482 s\n"
     ]
    },
    {
     "name": "stderr",
     "output_type": "stream",
     "text": [
      "/home/pape/micromamba/envs/main/lib/python3.11/site-packages/sklearn/metrics/_classification.py:1471: UndefinedMetricWarning: Precision is ill-defined and being set to 0.0 due to no predicted samples. Use `zero_division` parameter to control this behavior.\n",
      "  _warn_prf(average, modifier, msg_start, len(result))\n"
     ]
    }
   ],
   "source": [
    "num_epochs = 2\n",
    "\n",
    "for epoch in range(num_epochs):\n",
    "    t_start = time.time()\n",
    "    train_losses = train_epoch()\n",
    "    accuracy, precision, recall, confusion_matrix = evaluate_model(val_loader)\n",
    "\n",
    "    train_loss_history.extend(train_losses)\n",
    "    accuracy_history.append(accuracy)\n",
    "    precision_history.append(precision)\n",
    "    recall_history.append(recall)\n",
    "    confusion_matrix_history.append(confusion_matrix)\n",
    "\n",
    "    avg_loss = np.mean(train_losses)\n",
    "    t_epoch = time.time() - t_start\n",
    "    print(\"Epoch\", epoch, \"training loss:\", avg_loss, \"validation accuracy:\", val_accuracy, \"ran for\", t_epoch, \"s\")"
   ]
  },
  {
   "cell_type": "code",
   "execution_count": 138,
   "id": "3512f5a8-9d63-4e1a-8a67-9ad06b67b610",
   "metadata": {},
   "outputs": [],
   "source": [
    "def plot_confusion_matrix(conf_matrix):\n",
    "    classes = np.arange(conf_matrix.shape[0])\n",
    "    plt.imshow(conf_matrix, interpolation='nearest', cmap=plt.cm.Blues)\n",
    "    plt.title('Confusion Matrix')\n",
    "    plt.colorbar()\n",
    "\n",
    "    tick_marks = np.arange(len(classes))\n",
    "    plt.xticks(tick_marks, classes)\n",
    "    plt.yticks(tick_marks, classes)\n",
    "\n",
    "    plt.xlabel('Predicted')\n",
    "    plt.ylabel('Actual')\n",
    "    fmt = 'd'\n",
    "    thresh = conf_matrix.max() / 2.\n",
    "\n",
    "    for i, j in itertools.product(range(conf_matrix.shape[0]), range(conf_matrix.shape[1])):\n",
    "        plt.text(j, i, format(conf_matrix[i, j], fmt),\n",
    "                 horizontalalignment=\"center\",\n",
    "                 color=\"white\" if conf_matrix[i, j] > thresh else \"black\")"
   ]
  },
  {
   "cell_type": "code",
   "execution_count": 140,
   "id": "6eb35df2-5521-4bdb-adf8-2c3a02111dcb",
   "metadata": {},
   "outputs": [],
   "source": [
    "def plot_metrics():\n",
    "    iterations = range(1, len(train_loss_history) + 1)\n",
    "    epochs = range(1, len(accuracy_history) + 1)\n",
    "\n",
    "    # Plotting loss\n",
    "    plt.figure(figsize=(16, 9))\n",
    "    plt.subplot(2, 3, 1)\n",
    "    plt.plot(iterations, train_loss_history, label='Training Loss')\n",
    "    plt.title('Training Loss')\n",
    "    plt.xlabel('Epochs')\n",
    "    plt.ylabel('Loss')\n",
    "    plt.legend()\n",
    "\n",
    "    # Plotting accuracy\n",
    "    plt.subplot(2, 3, 2)\n",
    "    plt.plot(epochs, accuracy_history, label='Validation Accuracy')\n",
    "    plt.title('Validation Accuracy')\n",
    "    plt.xlabel('Epochs')\n",
    "    plt.ylabel('Accuracy')\n",
    "    plt.legend()\n",
    "\n",
    "    # Plotting precision\n",
    "    plt.subplot(2, 3, 3)\n",
    "    plt.plot(epochs, precision_history, label='Precision')\n",
    "    plt.title('Precision')\n",
    "    plt.xlabel('Epochs')\n",
    "    plt.ylabel('Precision')\n",
    "    plt.legend()\n",
    "\n",
    "    # Plotting recall\n",
    "    plt.subplot(2, 3, 4)\n",
    "    plt.plot(epochs, recall_history, label='Recall')\n",
    "    plt.title('Recall')\n",
    "    plt.xlabel('Epochs')\n",
    "    plt.ylabel('Recall')\n",
    "    plt.legend()\n",
    "\n",
    "    # Plotting confusion matrix\n",
    "    plt.subplot(2, 3, 6)\n",
    "    conf_matrix = confusion_matrix_history[-1]\n",
    "    plot_confusion_matrix(conf_matrix)\n",
    "\n",
    "    plt.tight_layout()\n",
    "    plt.show()"
   ]
  },
  {
   "cell_type": "code",
   "execution_count": 141,
   "id": "a1e5e58c-877c-40e9-a019-8779c4997694",
   "metadata": {},
   "outputs": [
    {
     "data": {
      "image/png": "[encoded data removed]",
      "text/plain": [
       "<Figure size 1600x900 with 6 Axes>"
      ]
     },
     "metadata": {},
     "output_type": "display_data"
    }
   ],
   "source": [
    "plot_metrics()"
   ]
  },
  {
   "cell_type": "markdown",
   "id": "bbcac367-a0a5-4554-816d-e4cd21cb23ce",
   "metadata": {},
   "source": [
    "### 4. Apply the classifier to the test set\n",
    "\n",
    "Lorem"
   ]
  },
  {
   "cell_type": "code",
   "execution_count": 144,
   "id": "da7fee5c-8192-433d-b809-495c35202949",
   "metadata": {},
   "outputs": [],
   "source": [
    "test_dataset = CustomDataset(test_images, test_labels, target_size=image_shape)\n",
    "test_loader = DataLoader(test_dataset, batch_size=batch_size, shuffle=False, num_workers=num_workers)"
   ]
  },
  {
   "cell_type": "code",
   "execution_count": 145,
   "id": "0e7ca3ff-9656-469c-bd07-345b0b733905",
   "metadata": {},
   "outputs": [
    {
     "name": "stdout",
     "output_type": "stream",
     "text": [
      "Accuracy: 0.7961667173714634\n",
      "Precision: 0.0\n",
      "Recall: 0.0\n"
     ]
    },
    {
     "name": "stderr",
     "output_type": "stream",
     "text": [
      "/home/pape/micromamba/envs/main/lib/python3.11/site-packages/sklearn/metrics/_classification.py:1471: UndefinedMetricWarning: Precision is ill-defined and being set to 0.0 due to no predicted samples. Use `zero_division` parameter to control this behavior.\n",
      "  _warn_prf(average, modifier, msg_start, len(result))\n"
     ]
    },
    {
     "data": {
      "image/png": "[encoded data removed]",
      "text/plain": [
       "<Figure size 640x480 with 2 Axes>"
      ]
     },
     "metadata": {},
     "output_type": "display_data"
    }
   ],
   "source": [
    "#\n",
    "accuracy, precision, recall, confusion_matrix = evaluate_model(test_loader)\n",
    "print(\"Accuracy:\", accuracy)\n",
    "print(\"Precision:\", precision)\n",
    "print(\"Recall:\", recall)\n",
    "\n",
    "plt.figure()\n",
    "plot_confusion_matrix(confusion_matrix)\n",
    "plt.show()"
   ]
  },
  {
   "cell_type": "code",
   "execution_count": null,
   "id": "f69649ca-d000-45e2-b5a8-10b365dbc492",
   "metadata": {},
   "outputs": [],
   "source": []
  }
 ],
 "metadata": {
  "kaggle": {
   "accelerator": "none",
   "dataSources": [],
   "dockerImageVersionId": 30635,
   "isGpuEnabled": false,
   "isInternetEnabled": true,
   "language": "python",
   "sourceType": "notebook"
  },
  "kernelspec": {
   "display_name": "Python 3 (ipykernel)",
   "language": "python",
   "name": "python3"
  },
  "language_info": {
   "codemirror_mode": {
    "name": "ipython",
    "version": 3
   },
   "file_extension": ".py",
   "mimetype": "text/x-python",
   "name": "python",
   "nbconvert_exporter": "python",
   "pygments_lexer": "ipython3",
   "version": "3.11.7"
  }
 },
 "nbformat": 4,
 "nbformat_minor": 5
}
