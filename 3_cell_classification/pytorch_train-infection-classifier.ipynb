{
 "cells": [
  {
   "cell_type": "markdown",
   "id": "78ae4646",
   "metadata": {},
   "source": [
    "## Train Infection Classifier\n",
    "\n",
    "In the previous lessons we have built a method for cell instance segmentation and applied it to our dataset. Now we turn to classifying the cells into infected vs. non-infected cells, based on the virus marker channel, nucleus image channel and segmentation mask for each individual cell. We will use a ResNet for this task.\n",
    "\n",
    "The goal of this lesson is to learn how to train a classification model with `torch_em`."
   ]
  },
  {
   "cell_type": "markdown",
   "id": "d13fd32a",
   "metadata": {},
   "source": [
    "# adapt to new structure and optimize code"
   ]
  },
  {
   "cell_type": "code",
   "execution_count": 1,
   "id": "e0b5e4de",
   "metadata": {},
   "outputs": [],
   "source": [
    "# General imports.\n",
    "\n",
    "import os \n",
    "import napari\n",
    "import glob\n",
    "from shutil import move\n",
    "import imageio\n",
    "import matplotlib.pyplot as plt\n",
    "from matplotlib.patches import Rectangle\n",
    "from matplotlib.patches import Patch\n",
    "from skimage import measure\n",
    "from skimage.measure import regionprops\n",
    "from scipy.ndimage import zoom\n",
    "import math\n",
    "import requests\n",
    "import json\n",
    "import random\n",
    "import numpy as np\n",
    "import numpy.ma as ma\n",
    "from pprint import pprint\n",
    "from tqdm import tqdm\n",
    "import sys\n",
    "\n",
    "sys.path.append(\"..\")\n",
    "import utils"
   ]
  },
  {
   "cell_type": "code",
   "execution_count": 2,
   "id": "046afebb",
   "metadata": {},
   "outputs": [
    {
     "name": "stderr",
     "output_type": "stream",
     "text": [
      "Download https://zenodo.org/record/5092850/files/covid-if-groundtruth.zip?download=1 to data/data.zip: 100%|██████████| 491M/491M [00:57<00:00, 8.99MB/s] \n",
      "100%|██████████| 49/49 [00:21<00:00,  2.29it/s]\n"
     ]
    },
    {
     "name": "stdout",
     "output_type": "stream",
     "text": [
      "We have 35 training images in data/train\n",
      "We have 5 validation images in data/val\n",
      "We have 9 test images in data/test\n"
     ]
    }
   ],
   "source": [
    "# download and extract data, then convert data into .tif\n",
    "# check if data preparation might have already happended, then do not repeat\n",
    "src = \"./\"\n",
    "dst_dir = \"data\"\n",
    "if not os.path.exists(os.path.join(src, os.path.join(dst_dir, \"train\"))):\n",
    "    utils.prepare_data()"
   ]
  },
  {
   "cell_type": "code",
   "execution_count": 3,
   "id": "0e02b69d",
   "metadata": {},
   "outputs": [
    {
     "name": "stdout",
     "output_type": "stream",
     "text": [
      "['gt_image_000_nucleus_image.tif', 'labels.json', 'gt_image_000_marker_image.tif', 'gt_image_000_infected_labels.tif', 'gt_image_000_nucleus_labels.tif', 'gt_image_000_cell_labels.tif', 'gt_image_000_serum_image.tif']\n"
     ]
    }
   ],
   "source": [
    "# get data directories and show content of one image folder \n",
    "data_dir = \"data\"\n",
    "data_dirs = {\n",
    "    \"train\": os.path.join(data_dir, \"train\"),\n",
    "    \"val\": os.path.join(data_dir, \"val\"),\n",
    "    \"test\": os.path.join(data_dir, \"test\")\n",
    "}\n",
    "\n",
    "print(os.listdir(os.path.join(data_dirs[\"train\"], \"gt_image_000\")))"
   ]
  },
  {
   "cell_type": "code",
   "execution_count": 4,
   "id": "9e29bd90",
   "metadata": {},
   "outputs": [
    {
     "name": "stdout",
     "output_type": "stream",
     "text": [
      "['data/train/gt_image_028/gt_image_028_nucleus_labels.tif', 'data/train/gt_image_028/gt_image_028_infected_labels.tif', 'data/train/gt_image_028/gt_image_028_serum_image.tif', 'data/train/gt_image_028/gt_image_028_marker_image.tif', 'data/train/gt_image_028/gt_image_028_nucleus_image.tif', 'data/train/gt_image_028/gt_image_028_cell_labels.tif']\n"
     ]
    }
   ],
   "source": [
    "def get_file_paths(root_dir, of_type):\n",
    "    tifs = []\n",
    "\n",
    "    for dirpath, dirnames, filenames in os.walk(root_dir):\n",
    "        for filename in filenames:\n",
    "            if filename.endswith(of_type):\n",
    "                tifs.append(os.path.join(dirpath, filename))\n",
    "\n",
    "    return tifs\n",
    "\n",
    "tif_file_paths = {}\n",
    "json_file_paths = {}\n",
    "for key, value in data_dirs.items():\n",
    "    tif_file_paths[key] = get_file_paths(data_dirs[key], \".tif\")\n",
    "    json_file_paths[key] = get_file_paths(data_dirs[key], \".json\")\n",
    "    json_file_paths[key].sort()\n",
    "print(tif_file_paths[\"train\"][0:6])"
   ]
  },
  {
   "cell_type": "markdown",
   "id": "2299f40c",
   "metadata": {},
   "source": [
    "### 1. Inspect Training Data\n",
    "\n",
    "First, we visually check all the relevant training data. We will use it to construct image patches for training the classification model as follows:\n",
    "- Compute the bounding box around each cell.\n",
    "- Cut out the nucleus image, virus marker and segmentation mask for the bounding box.\n",
    "- Set all values outside the mask to zero.\n",
    "- Derive the label (infected or not infected) for the given patch from the infetion label image."
   ]
  },
  {
   "cell_type": "code",
   "execution_count": 5,
   "id": "0194508e",
   "metadata": {},
   "outputs": [
    {
     "name": "stdout",
     "output_type": "stream",
     "text": [
      "[{'cell_id': 0, 'infected_label': 0, 'bbox': None}, {'cell_id': 1, 'infected_label': 1, 'bbox': [942, 282, 958, 298]}, {'cell_id': 2, 'infected_label': 1, 'bbox': [39, 0, 67, 17]}, {'cell_id': 3, 'infected_label': 3, 'bbox': [408, 19, 421, 33]}, {'cell_id': 4, 'infected_label': 2, 'bbox': [503, 990, 547, 1024]}]\n"
     ]
    }
   ],
   "source": [
    "# extract specific image file paths and corresponding json\n",
    "## get file paths\n",
    "start, end = 0,6\n",
    "cell_label_paths = [path for path in tif_file_paths[\"train\"][start: end] if \"cell_labels.tif\" in path]\n",
    "marker_image_paths = [path for path in tif_file_paths[\"train\"][start: end] if \"marker_image.tif\" in path]\n",
    "nucleus_image_paths = [path for path in tif_file_paths[\"train\"][start: end] if \"nucleus_image.tif\" in path]\n",
    "serum_image_paths = [path for path in tif_file_paths[\"train\"][start: end] if \"serum_image.tif\" in path]\n",
    "cell_label_paths.sort()\n",
    "marker_image_paths.sort()\n",
    "nucleus_image_paths.sort()\n",
    "\n",
    "with open(json_file_paths[\"train\"][start], 'r') as f:\n",
    "    json_file = json.load(f)\n",
    "print(json_file[\"cells\"][:5]) # json_file[\"cells\"][0][\"cell_id\"]"
   ]
  },
  {
   "cell_type": "code",
   "execution_count": 6,
   "id": "8335fa3a",
   "metadata": {},
   "outputs": [],
   "source": [
    "# Function to extract the label (infected vs. not infected) for each cell in an image.\n",
    "# returns a dict: {<cell_id>: <label>} with label from (0,1)\n",
    "def extract_labels_for_cells(cells):\n",
    "    cell_labels = {}\n",
    "    \n",
    "    # We iterate over the ids.\n",
    "    for cell in cells:\n",
    "        label = cell[\"infected_label\"]\n",
    "        cell_id = cell[\"cell_id\"]\n",
    "        # The label values mean the following: 1 = infected, 2 = not infected. (0 and 2 mean \"not labeled / not known\")\n",
    "        # We map the label id to 0, 1 (infected, not infected) because pytorch / torch_em expects zero-based indexing.\n",
    "        # and we get rid of the cell with ID==0, it is no real cell\n",
    "        if cell_id != 0 and (label == 1 or label == 2):\n",
    "            cell_labels[cell_id] = label - 1\n",
    "\n",
    "    return cell_labels"
   ]
  },
  {
   "cell_type": "code",
   "execution_count": 7,
   "id": "dea1501d",
   "metadata": {},
   "outputs": [],
   "source": [
    "# # Load images with imageio and normalize pixel values to uint8 range\n",
    "\n",
    "def read_and_normalize(image_path, percentile_low=1, percentile_high=99):\n",
    "    image = imageio.v2.imread(image_path)\n",
    "\n",
    "    # Calculate the percentiles\n",
    "    low_value, high_value = np.percentile(image, (percentile_low, percentile_high))\n",
    "\n",
    "    # Clip pixel values to the percentiles\n",
    "    clipped_image = np.clip(image, low_value, high_value)\n",
    "\n",
    "    # Normalize pixel values to the range [0, 255]\n",
    "    normalized_image = ((clipped_image - low_value) / (high_value - low_value) * 255).astype(np.uint8)\n",
    "\n",
    "    return normalized_image"
   ]
  },
  {
   "cell_type": "code",
   "execution_count": 8,
   "id": "1fc1c591",
   "metadata": {},
   "outputs": [
    {
     "name": "stderr",
     "output_type": "stream",
     "text": [
      "WARNING: Qt: Session management error: None of the authentication protocols specified are supported\n",
      "WARNING: could not determine DPI\n",
      "Failed to establish dbus connectionFailed to establish dbus connection"
     ]
    }
   ],
   "source": [
    "# load one image\n",
    "\n",
    "cell_image = imageio.v2.imread(cell_label_paths[0])\n",
    "marker_image = imageio.v2.imread(marker_image_paths[0])\n",
    "nucleus_image = imageio.v2.imread(nucleus_image_paths[0])\n",
    "\n",
    "viewer = napari.Viewer()\n",
    "viewer.add_image(nucleus_image, name=\"nucleus-channel\", colormap=\"blue\", blending=\"additive\")   \n",
    "viewer.add_image(marker_image, name=\"marker-channel\", colormap=\"red\", blending=\"additive\")\n",
    "viewer.add_labels(cell_image.astype(\"uint8\"), name=\"cell-mask\")\n",
    "viewer.title = f\"Image Number: {0}\""
   ]
  },
  {
   "cell_type": "code",
   "execution_count": 9,
   "id": "794870c8",
   "metadata": {},
   "outputs": [],
   "source": [
    "# Function to extract the training patches and labels for one image.\n",
    "def image_to_training_data(cells, cell_labels, marker, nucleus_image, apply_cell_mask=True):\n",
    "    train_image_data, train_labels = [], []\n",
    "\n",
    "    cell_infection_labels = extract_labels_for_cells(cells)\n",
    "\n",
    "    for cell in cells:\n",
    "        cell_id = cell[\"cell_id\"]\n",
    "        label = cell_infection_labels.get(cell_id)\n",
    "        \n",
    "        if label is None:\n",
    "            continue\n",
    "\n",
    "        bbox = np.s_[cell[\"bbox\"][0]:cell[\"bbox\"][2], cell[\"bbox\"][1]:cell[\"bbox\"][3]]\n",
    "\n",
    "        # Cut out mask, nucleus image, and virus marker for this cell.\n",
    "        cell_mask = (cell_labels[bbox] == cell_id)\n",
    "        nuc_im = nucleus_image[bbox].astype(\"float32\")\n",
    "        marker_im = marker[bbox].astype(\"float32\")\n",
    "\n",
    "        # Check for shape compatibility - sometimes the bounding boxes are outside of the given image\n",
    "        if nuc_im.shape != cell_mask.shape or marker_im.shape != cell_mask.shape:\n",
    "            continue\n",
    "            \n",
    "        if apply_cell_mask:\n",
    "            nuc_im[np.logical_not(cell_mask)] = 0.0\n",
    "            marker_im[np.logical_not(cell_mask)] = 0.0\n",
    "\n",
    "        # Stack the 3 channels into one image and append to the training patches and labels.\n",
    "        image_data = np.stack([nuc_im, marker_im, cell_mask])\n",
    "        train_image_data.append(image_data)\n",
    "        train_labels.append(label)\n",
    "\n",
    "    return train_image_data, train_labels\n"
   ]
  },
  {
   "cell_type": "markdown",
   "id": "561d48d1",
   "metadata": {},
   "source": [
    "### 2. Prepare Training Data\n",
    "\n",
    "Now we apply the function we just defined to all training and validation data to build the training and validation sets for our classification model."
   ]
  },
  {
   "cell_type": "code",
   "execution_count": 10,
   "id": "a87d83c0",
   "metadata": {},
   "outputs": [],
   "source": [
    "def prepare_classification_data(directory='train'):\n",
    "    # Define patterns for each type of image\n",
    "    cell_labels_pattern = os.path.join('data', directory, '*', '*_cell_labels.tif')\n",
    "    marker_image_pattern = os.path.join('data', directory, '*', '*_marker_image.tif')\n",
    "    nucleus_image_pattern = os.path.join('data', directory, '*', '*_nucleus_image.tif')\n",
    "    json_file_pattern = os.path.join('data', directory, '*', '*.json')\n",
    "    \n",
    "    cell_label_paths = glob.glob(cell_labels_pattern)\n",
    "    marker_image_paths = glob.glob(marker_image_pattern)\n",
    "    nucleus_image_paths = glob.glob(nucleus_image_pattern)\n",
    "    json_file_paths = glob.glob(json_file_pattern)\n",
    "    \n",
    "    cell_label_paths.sort()\n",
    "    marker_image_paths.sort()\n",
    "    nucleus_image_paths.sort()\n",
    "    json_file_paths.sort()\n",
    "\n",
    "    image_data, labels = [], []\n",
    "    for cell_label_path, marker_image_path, nucleus_image_path, json_file_path in tqdm(\n",
    "        zip(cell_label_paths, marker_image_paths, nucleus_image_paths, json_file_paths), desc=\"Prepare classification data\"):\n",
    "\n",
    "        # load .tif images\n",
    "        cells = imageio.v2.imread(cell_label_path)\n",
    "        marker = imageio.v2.imread(marker_image_path)\n",
    "        nucleus_image = imageio.v2.imread(nucleus_image_path)\n",
    "        # load json file\n",
    "        with open(json_file_path, 'r') as f:\n",
    "            json_file = json.load(f)\n",
    "        this_data, this_labels = image_to_training_data(json_file[\"cells\"], cells, marker, nucleus_image)\n",
    "        image_data.extend(this_data)\n",
    "        labels.extend(this_labels)\n",
    "\n",
    "    assert len(image_data) == len(labels)\n",
    "    return image_data, labels"
   ]
  },
  {
   "cell_type": "code",
   "execution_count": 11,
   "id": "949c5139",
   "metadata": {},
   "outputs": [
    {
     "name": "stderr",
     "output_type": "stream",
     "text": [
      "Prepare classification data: 35it [00:04,  7.04it/s]\n"
     ]
    },
    {
     "name": "stdout",
     "output_type": "stream",
     "text": [
      "We have 13192 samples for training\n"
     ]
    },
    {
     "name": "stderr",
     "output_type": "stream",
     "text": [
      "Prepare classification data: 5it [00:00,  7.19it/s]\n"
     ]
    },
    {
     "name": "stdout",
     "output_type": "stream",
     "text": [
      "We have 1538 samples for validation\n"
     ]
    },
    {
     "name": "stderr",
     "output_type": "stream",
     "text": [
      "Prepare classification data: 9it [00:01,  7.22it/s]"
     ]
    },
    {
     "name": "stdout",
     "output_type": "stream",
     "text": [
      "We have 3284 samples for testing\n"
     ]
    },
    {
     "name": "stderr",
     "output_type": "stream",
     "text": [
      "\n"
     ]
    }
   ],
   "source": [
    "# Build the training and validation set.\n",
    "train_data, train_labels = prepare_classification_data(directory='train')\n",
    "print(\"We have\", len(train_data), \"samples for training\")\n",
    "\n",
    "val_data, val_labels = prepare_classification_data(directory='val')\n",
    "print(\"We have\", len(val_data), \"samples for validation\")\n",
    "\n",
    "test_data, test_labels = prepare_classification_data(directory='test')\n",
    "print(\"We have\", len(test_data), \"samples for testing\")"
   ]
  },
  {
   "cell_type": "code",
   "execution_count": 12,
   "id": "e76d017c-c54f-4ac1-8587-9047d3cc6bb8",
   "metadata": {},
   "outputs": [
    {
     "name": "stderr",
     "output_type": "stream",
     "text": [
      "WARNING: could not determine DPI\n",
      "WARNING: could not determine DPI\n",
      "WARNING: could not determine DPI\n"
     ]
    }
   ],
   "source": [
    "# plot 3 images\n",
    "for i, val in enumerate(train_data):\n",
    "    viewer = napari.Viewer()\n",
    "    viewer.add_image(val[0], name=\"nucleus-channel\", colormap=\"blue\", blending=\"additive\")   \n",
    "    viewer.add_image(val[1], name=\"marker-channel\", colormap=\"red\", blending=\"additive\")\n",
    "    viewer.add_labels(val[2].astype(\"uint8\"), name=\"cell-mask\")\n",
    "    viewer.title = f\"Label: {train_labels[i]}\"\n",
    "    if i == 2:\n",
    "        break"
   ]
  },
  {
   "cell_type": "markdown",
   "id": "609c06b6",
   "metadata": {},
   "source": [
    "### 3. Train the Infection Classifier\n",
    "\n",
    "And use the training and validation set to train a ResNet34 for infection classification, using the classification functionality from `torch_em`."
   ]
  },
  {
   "cell_type": "code",
   "execution_count": 13,
   "id": "d20c53f1",
   "metadata": {},
   "outputs": [],
   "source": [
    "# Import classification functionality.\n",
    "import torch \n",
    "import torch.nn as nn\n",
    "import torch.nn.functional as F\n",
    "from sklearn.metrics import accuracy_score, precision_score, recall_score, f1_score, confusion_matrix\n",
    "from torch.utils.data import Dataset, DataLoader\n",
    "from skimage.transform import resize\n",
    "from torchvision.models.resnet import resnet34\n",
    "from sklearn.metrics import accuracy_score\n",
    "import torch.optim as optim\n",
    "from PIL import Image\n",
    "import itertools"
   ]
  },
  {
   "cell_type": "code",
   "execution_count": 14,
   "id": "0a8c9314-e700-4c4b-a36b-019fad341a11",
   "metadata": {},
   "outputs": [],
   "source": [
    "def get_device(cuda_preference=True):\n",
    "    \"\"\"Gets pytorch device object. If cuda_preference=True and \n",
    "        cuda is available on your system, returns a cuda device.\n",
    "    \n",
    "    Args:\n",
    "        cuda_preference: bool, default True\n",
    "            Set to true if you would like to get a cuda device\n",
    "            \n",
    "    Returns: pytorch device object\n",
    "            Pytorch device\n",
    "    \"\"\"\n",
    "    \n",
    "    print('cuda available:', torch.cuda.is_available(), \n",
    "          '; cudnn available:', torch.backends.cudnn.is_available(),\n",
    "          '; num devices:', torch.cuda.device_count())\n",
    "    \n",
    "    use_cuda = False if not cuda_preference else torch.cuda.is_available()\n",
    "    device = torch.device('cuda:0' if use_cuda else 'cpu')\n",
    "    device_name = torch.cuda.get_device_name(device) if use_cuda else 'cpu'\n",
    "    print('Using device', device_name)\n",
    "    return device"
   ]
  },
  {
   "cell_type": "code",
   "execution_count": 15,
   "id": "592e735f-9a9c-4fc5-8918-d12b9b34874a",
   "metadata": {},
   "outputs": [
    {
     "name": "stdout",
     "output_type": "stream",
     "text": [
      "cuda available: True ; cudnn available: True ; num devices: 1\n",
      "Using device NVIDIA GeForce GTX 1080 Ti\n",
      "56 CPUs available\n"
     ]
    }
   ],
   "source": [
    "device = get_device()\n",
    "\n",
    "# Get number of cpus to use for faster parallelized data loading\n",
    "num_cpus = os.cpu_count()\n",
    "print(num_cpus, 'CPUs available')"
   ]
  },
  {
   "cell_type": "code",
   "execution_count": 16,
   "id": "e4239509",
   "metadata": {},
   "outputs": [
    {
     "name": "stdout",
     "output_type": "stream",
     "text": [
      "Mean image shape: [52.67223354 52.25818058]\n"
     ]
    }
   ],
   "source": [
    "# Find the mean shape of all training and validation patches.\n",
    "shapes = np.stack([np.array(im.shape[1:]) for im in (train_data + val_data)])\n",
    "mean_shape = np.mean(shapes, axis=0)\n",
    "print(\"Mean image shape:\", mean_shape)"
   ]
  },
  {
   "cell_type": "markdown",
   "id": "e4eb0cc8",
   "metadata": {},
   "source": [
    "You should see that the mean image shape is roughly 52 x 52 pixels. We determine this shape to choose a suitable shape that all patches will be resized to for training the model. This is necessary to stack the patches across the batch dimensions and train the model with a batch size that is larger than 1.\n",
    "We choose the closest multiple of 16 as common patch shape, which is 64 x 64."
   ]
  },
  {
   "cell_type": "code",
   "execution_count": 17,
   "id": "6a9350ec-5070-4811-b556-426d7524c719",
   "metadata": {},
   "outputs": [
    {
     "name": "stdout",
     "output_type": "stream",
     "text": [
      "Training dataset:\n",
      "(3, 16, 16)\n",
      "(3, 28, 17)\n",
      "(3, 44, 34)\n",
      "(3, 39, 43)\n",
      "(3, 27, 28)\n",
      "\n",
      "Validation dataset:\n",
      "(3, 83, 43)\n",
      "(3, 11, 27)\n",
      "(3, 73, 23)\n",
      "(3, 38, 26)\n",
      "(3, 9, 57)\n"
     ]
    }
   ],
   "source": [
    "# verify that the im_data has 3 channels \n",
    "print(\"Training dataset:\")\n",
    "for i in range(5):\n",
    "    print(train_data[i].shape)\n",
    "\n",
    "print(\"\\nValidation dataset:\")\n",
    "for i in range(5):\n",
    "    print(val_data[i].shape)"
   ]
  },
  {
   "cell_type": "code",
   "execution_count": 18,
   "id": "e47b6515-2af8-459e-9d6d-7492c11b0a76",
   "metadata": {
    "editable": true,
    "slideshow": {
     "slide_type": ""
    },
    "tags": []
   },
   "outputs": [],
   "source": [
    "class CustomDataset(Dataset):\n",
    "    def __init__(self, data, labels, target_size=(3, 64, 64)):\n",
    "        self.data = data\n",
    "        self.labels = labels\n",
    "        self.target_size = target_size\n",
    "\n",
    "    def __len__(self):\n",
    "        return len(self.data)\n",
    "\n",
    "    def __getitem__(self, index):\n",
    "        image = self.data[index]\n",
    "        label = self.labels[index]\n",
    "\n",
    "        # Check dimensions and resize if necessary\n",
    "        h, w = image.shape[1:]\n",
    "        if h != self.target_size[1] or w != self.target_size[2]:\n",
    "            # Handle NaN values by replacing them with a specific value (e.g., 0)\n",
    "            image[np.isnan(image)] = 0\n",
    "            # Check for zero values and replace with a small non-zero value\n",
    "            image[image == 0] = 1e-10\n",
    "            try:\n",
    "                resized_image = resize(image, self.target_size, preserve_range=True)\n",
    "            except Exception as e:\n",
    "                print(f\"Error resizing image at index {index}: {e}\")\n",
    "                raise\n",
    "        # Ensure the transformed image has the shape (3, 64, 64)\n",
    "            if resized_image.shape != (3, 64, 64):\n",
    "                raise ValueError(f\"The transformed image shape is not (3, 64, 64). Got {resized_image.shape}\")\n",
    "        else:\n",
    "            resized_image = image\n",
    "\n",
    "        return resized_image, label"
   ]
  },
  {
   "cell_type": "code",
   "execution_count": 19,
   "id": "6eb35df2-5521-4bdb-adf8-2c3a02111dcb",
   "metadata": {},
   "outputs": [],
   "source": [
    "class DefaultClassificationTrainer:\n",
    "    def __init__(self, name, model, train_loader, val_loader, loss, metric, device, compile_model=True):\n",
    "        self.name = name\n",
    "        self.model = model.to(device)\n",
    "        self.train_loader = train_loader\n",
    "        self.val_loader = val_loader\n",
    "        self.loss = loss\n",
    "        self.metric = metric\n",
    "        self.device = device\n",
    "\n",
    "        # Use the specified optimizer or default to SGD\n",
    "        self.optimizer = optim.SGD(model.parameters(), lr=0.001)\n",
    "\n",
    "        # Lists to store loss and accuracy values\n",
    "        self.train_loss_history = []\n",
    "        self.val_accuracy_history = []\n",
    "        self.precision_history = []\n",
    "        self.recall_history = []\n",
    "        self.f1_score_history = []\n",
    "        self.confusion_matrix_history = []\n",
    "\n",
    "        # Compile the model if specified\n",
    "        if compile_model:\n",
    "            self.model = self.compile_model()\n",
    "\n",
    "    def compile_model(self):\n",
    "        # Define any additional configurations for model compilation here\n",
    "        return self.model.to(self.device)\n",
    "\n",
    "    def train_step(self, data, target):\n",
    "        data, target = data.to(self.device), target.to(self.device)\n",
    "        self.model.train()\n",
    "        self.optimizer.zero_grad()\n",
    "        output = self.model(data)\n",
    "        loss = self.loss(output, target)\n",
    "        loss.backward()\n",
    "        self.optimizer.step()\n",
    "        return loss.item()\n",
    "\n",
    "    def evaluate(self, data_loader):\n",
    "        self.model.eval()\n",
    "        all_preds, all_labels = [], []\n",
    "\n",
    "        with torch.no_grad():\n",
    "            for data, labels in data_loader:\n",
    "                data, labels = data.to(self.device), labels.to(self.device)\n",
    "                output = self.model(data)\n",
    "                _, preds = torch.max(output, 1)\n",
    "                all_preds.extend(preds.cpu().numpy())\n",
    "                all_labels.extend(labels.cpu().numpy())\n",
    "\n",
    "        accuracy = accuracy_score(all_labels, all_preds)\n",
    "        precision = precision_score(all_labels, all_preds, average='weighted')\n",
    "        recall = recall_score(all_labels, all_preds, average='weighted')\n",
    "        f1 = f1_score(all_labels, all_preds, average='weighted')\n",
    "        cm = confusion_matrix(all_labels, all_preds)\n",
    "\n",
    "        self.val_accuracy_history.append(accuracy)\n",
    "        self.precision_history.append(precision)\n",
    "        self.recall_history.append(recall)\n",
    "        self.f1_score_history.append(f1)\n",
    "        self.confusion_matrix_history.append(cm)\n",
    "\n",
    "        return accuracy\n",
    "\n",
    "    def train(self, num_epochs=10):\n",
    "        for epoch in tqdm(range(num_epochs)):\n",
    "            total_loss = 0.0\n",
    "\n",
    "            for data, labels in self.train_loader:\n",
    "                loss = self.train_step(data, labels)\n",
    "                total_loss += loss\n",
    "\n",
    "            avg_loss = total_loss / len(self.train_loader)\n",
    "            self.train_loss_history.append(avg_loss)\n",
    "\n",
    "            val_accuracy = self.evaluate(self.val_loader)\n",
    "\n",
    "            print(f\"{self.name}: Epoch {epoch + 1}/{num_epochs}, Loss: {avg_loss:.4f}, Val Accuracy: {val_accuracy:.4f}\")\n",
    "            \n",
    "    def test(self, test_loader):\n",
    "        self.model.eval()\n",
    "        all_preds, all_labels = [], []\n",
    "\n",
    "        with torch.no_grad():\n",
    "            for data, labels in test_loader:\n",
    "                data, labels = data.to(self.device), labels.to(self.device)\n",
    "                output = self.model(data)\n",
    "                _, preds = torch.max(output, 1)\n",
    "                all_preds.extend(preds.cpu().numpy())\n",
    "                all_labels.extend(labels.cpu().numpy())\n",
    "\n",
    "        accuracy = accuracy_score(all_labels, all_preds)\n",
    "        precision = precision_score(all_labels, all_preds, average='weighted')\n",
    "        recall = recall_score(all_labels, all_preds, average='weighted')\n",
    "        f1 = f1_score(all_labels, all_preds, average='weighted')\n",
    "        cm = confusion_matrix(all_labels, all_preds)\n",
    "\n",
    "        print(f\"Test Accuracy: {accuracy:.4f}\")\n",
    "        print(f\"Test Precision: {precision:.4f}\")\n",
    "        print(f\"Test Recall: {recall:.4f}\")\n",
    "        print(f\"Test F1 Score: {f1:.4f}\")\n",
    "        print(\"Confusion Matrix:\")\n",
    "        print(cm)\n",
    "    \n",
    "    def plot_metrics(self):\n",
    "        epochs = range(1, len(self.train_loss_history) + 1)\n",
    "\n",
    "        # Plotting loss\n",
    "        plt.figure(figsize=(16, 9))\n",
    "        plt.subplot(2, 3, 1)\n",
    "        plt.plot(epochs, self.train_loss_history, label='Training Loss')\n",
    "        plt.title('Training Loss')\n",
    "        plt.xlabel('Epochs')\n",
    "        plt.ylabel('Loss')\n",
    "        plt.legend()\n",
    "\n",
    "        # Plotting accuracy\n",
    "        plt.subplot(2, 3, 2)\n",
    "        plt.plot(epochs, self.val_accuracy_history, label='Validation Accuracy')\n",
    "        plt.title('Validation Accuracy')\n",
    "        plt.xlabel('Epochs')\n",
    "        plt.ylabel('Accuracy')\n",
    "        plt.legend()\n",
    "\n",
    "        # Plotting precision\n",
    "        plt.subplot(2, 3, 3)\n",
    "        plt.plot(epochs, self.precision_history, label='Precision')\n",
    "        plt.title('Precision')\n",
    "        plt.xlabel('Epochs')\n",
    "        plt.ylabel('Precision')\n",
    "        plt.legend()\n",
    "\n",
    "        # Plotting recall\n",
    "        plt.subplot(2, 3, 4)\n",
    "        plt.plot(epochs, self.recall_history, label='Recall')\n",
    "        plt.title('Recall')\n",
    "        plt.xlabel('Epochs')\n",
    "        plt.ylabel('Recall')\n",
    "        plt.legend()\n",
    "\n",
    "        # Plotting F1 score\n",
    "        plt.subplot(2, 3, 5)\n",
    "        plt.plot(epochs, self.f1_score_history, label='F1 Score')\n",
    "        plt.title('F1 Score')\n",
    "        plt.xlabel('Epochs')\n",
    "        plt.ylabel('F1 Score')\n",
    "        plt.legend()\n",
    "\n",
    "        # Plotting confusion matrix\n",
    "        plt.subplot(2, 3, 6)\n",
    "        conf_matrix = self.confusion_matrix_history[-1]\n",
    "        classes = np.arange(conf_matrix.shape[0])\n",
    "        plt.imshow(conf_matrix, interpolation='nearest', cmap=plt.cm.Blues)\n",
    "        plt.title('Confusion Matrix')\n",
    "        plt.colorbar()\n",
    "\n",
    "        tick_marks = np.arange(len(classes))\n",
    "        plt.xticks(tick_marks, classes)\n",
    "        plt.yticks(tick_marks, classes)\n",
    "\n",
    "        plt.xlabel('Predicted')\n",
    "        plt.ylabel('Actual')\n",
    "        fmt = 'd'\n",
    "        thresh = conf_matrix.max() / 2.\n",
    "\n",
    "        for i, j in itertools.product(range(conf_matrix.shape[0]), range(conf_matrix.shape[1])):\n",
    "            plt.text(j, i, format(conf_matrix[i, j], fmt),\n",
    "                     horizontalalignment=\"center\",\n",
    "                     color=\"white\" if conf_matrix[i, j] > thresh else \"black\")\n",
    "\n",
    "        plt.tight_layout()\n",
    "        plt.show()\n"
   ]
  },
  {
   "cell_type": "code",
   "execution_count": 20,
   "id": "e4869ef8",
   "metadata": {},
   "outputs": [],
   "source": [
    "# Build the training and validation loader.\n",
    "batch_size = 32  # The batch size used for training.\n",
    "image_shape = (3, 64, 64)  # The common shape all patches will be resized to before stacking them in a batch.\n",
    "num_workers = 4 if torch.cuda.is_available() else 1\n",
    "\n",
    "custom_train_dataset = CustomDataset(train_data, train_labels, target_size=image_shape)\n",
    "custom_val_dataset = CustomDataset(val_data, val_labels, target_size=image_shape)\n",
    "custom_test_dataset = CustomDataset(test_data, test_labels, target_size=image_shape)\n",
    "\n",
    "# Build the training, validation and the testing loader.\n",
    "train_loader = DataLoader(\n",
    "    custom_train_dataset, batch_size=batch_size, shuffle=True, num_workers=num_workers)\n",
    "\n",
    "val_loader = DataLoader(\n",
    "    custom_val_dataset, batch_size=batch_size, shuffle=True, num_workers=num_workers)\n",
    "\n",
    "test_loader = DataLoader(\n",
    "    custom_test_dataset, batch_size=batch_size, shuffle=False, num_workers=num_workers)"
   ]
  },
  {
   "cell_type": "code",
   "execution_count": 21,
   "id": "9383b297",
   "metadata": {
    "editable": true,
    "slideshow": {
     "slide_type": ""
    },
    "tags": []
   },
   "outputs": [],
   "source": [
    "# Define the model (a resnet 34 with two output channels).\n",
    "model = resnet34(num_classes=2)\n",
    "# And build the trainer class. Here, we use the cross entropy as loss function and the accuracy error as metric.\n",
    "trainer = DefaultClassificationTrainer(\n",
    "    name=\"infection-classifier\", model=model,\n",
    "    train_loader=train_loader, val_loader=val_loader,\n",
    "    loss=nn.CrossEntropyLoss(),\n",
    "    metric=lambda a, b: 1.0 - accuracy_score(a, b),\n",
    "    device=device,\n",
    "    compile_model=False,\n",
    ")"
   ]
  },
  {
   "cell_type": "code",
   "execution_count": 22,
   "id": "1100b322",
   "metadata": {},
   "outputs": [
    {
     "name": "stderr",
     "output_type": "stream",
     "text": [
      " 17%|█▋        | 1/6 [00:21<01:45, 21.20s/it]"
     ]
    },
    {
     "name": "stdout",
     "output_type": "stream",
     "text": [
      "infection-classifier: Epoch 1/6, Loss: 0.4079, Val Accuracy: 0.8407\n"
     ]
    },
    {
     "name": "stderr",
     "output_type": "stream",
     "text": [
      " 33%|███▎      | 2/6 [00:40<01:20, 20.21s/it]"
     ]
    },
    {
     "name": "stdout",
     "output_type": "stream",
     "text": [
      "infection-classifier: Epoch 2/6, Loss: 0.3729, Val Accuracy: 0.8771\n"
     ]
    },
    {
     "name": "stderr",
     "output_type": "stream",
     "text": [
      " 50%|█████     | 3/6 [01:00<01:00, 20.05s/it]"
     ]
    },
    {
     "name": "stdout",
     "output_type": "stream",
     "text": [
      "infection-classifier: Epoch 3/6, Loss: 0.3464, Val Accuracy: 0.8771\n"
     ]
    },
    {
     "name": "stderr",
     "output_type": "stream",
     "text": [
      " 67%|██████▋   | 4/6 [01:20<00:39, 19.92s/it]"
     ]
    },
    {
     "name": "stdout",
     "output_type": "stream",
     "text": [
      "infection-classifier: Epoch 4/6, Loss: 0.3208, Val Accuracy: 0.8914\n"
     ]
    },
    {
     "name": "stderr",
     "output_type": "stream",
     "text": [
      " 83%|████████▎ | 5/6 [01:40<00:19, 19.95s/it]"
     ]
    },
    {
     "name": "stdout",
     "output_type": "stream",
     "text": [
      "infection-classifier: Epoch 5/6, Loss: 0.2822, Val Accuracy: 0.9057\n"
     ]
    },
    {
     "name": "stderr",
     "output_type": "stream",
     "text": [
      "100%|██████████| 6/6 [01:59<00:00, 19.97s/it]"
     ]
    },
    {
     "name": "stdout",
     "output_type": "stream",
     "text": [
      "infection-classifier: Epoch 6/6, Loss: 0.2482, Val Accuracy: 0.9428\n"
     ]
    },
    {
     "name": "stderr",
     "output_type": "stream",
     "text": [
      "\n"
     ]
    }
   ],
   "source": [
    "# Train the model for 10.000 iterations.\n",
    "trainer.train(6)"
   ]
  },
  {
   "cell_type": "markdown",
   "id": "5e24ce57",
   "metadata": {},
   "source": [
    "As before you can open the tensorboard to monitor the progress while training via\n",
    "```\n",
    "tensorboard --logdir=logs\n",
    "```\n",
    "See `2_cell_segmentation/torchem-train-cell-membrane-segmentation` for details."
   ]
  },
  {
   "cell_type": "code",
   "execution_count": 23,
   "id": "a1e5e58c-877c-40e9-a019-8779c4997694",
   "metadata": {},
   "outputs": [
    {
     "data": {
      "image/png": "[encoded data removed]",
      "text/plain": [
       "<Figure size 1600x900 with 7 Axes>"
      ]
     },
     "metadata": {},
     "output_type": "display_data"
    }
   ],
   "source": [
    "trainer.plot_metrics()"
   ]
  },
  {
   "cell_type": "code",
   "execution_count": 24,
   "id": "0e7ca3ff-9656-469c-bd07-345b0b733905",
   "metadata": {},
   "outputs": [
    {
     "name": "stdout",
     "output_type": "stream",
     "text": [
      "Test Accuracy: 0.8971\n",
      "Test Precision: 0.9105\n",
      "Test Recall: 0.8971\n",
      "Test F1 Score: 0.9017\n",
      "Confusion Matrix:\n",
      "[[2520  238]\n",
      " [ 100  426]]\n"
     ]
    }
   ],
   "source": [
    "# test model with test data\n",
    "trainer.test(test_loader)"
   ]
  },
  {
   "cell_type": "code",
   "execution_count": null,
   "id": "f69649ca-d000-45e2-b5a8-10b365dbc492",
   "metadata": {},
   "outputs": [],
   "source": []
  }
 ],
 "metadata": {
  "kaggle": {
   "accelerator": "none",
   "dataSources": [],
   "dockerImageVersionId": 30635,
   "isGpuEnabled": false,
   "isInternetEnabled": true,
   "language": "python",
   "sourceType": "notebook"
  },
  "kernelspec": {
   "display_name": "micro_sam",
   "language": "python",
   "name": "micro_sam"
  },
  "language_info": {
   "codemirror_mode": {
    "name": "ipython",
    "version": 3
   },
   "file_extension": ".py",
   "mimetype": "text/x-python",
   "name": "python",
   "nbconvert_exporter": "python",
   "pygments_lexer": "ipython3",
   "version": "3.10.12"
  }
 },
 "nbformat": 4,
 "nbformat_minor": 5
}
