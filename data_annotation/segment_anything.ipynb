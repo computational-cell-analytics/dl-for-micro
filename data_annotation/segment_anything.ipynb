{
 "cells": [
  {
   "cell_type": "markdown",
   "id": "1be4d22d",
   "metadata": {},
   "source": [
    "## Segment Anything for Data Annotation\n",
    "\n",
    "[Segment Anything](https://segment-anything.com/) is a recent model for interactive segmentation published by Meta.AI. It can be used for much faster (instance) segmentation annotations compared to previous approaches. We have build some napari tools around it in https://github.com/computational-cell-analytics/micro-sam.\n",
    "\n",
    "This notebook shows how to open one of the images from our example data in our 2d annotation tool."
   ]
  },
  {
   "cell_type": "code",
   "execution_count": null,
   "id": "b423d46d",
   "metadata": {},
   "outputs": [],
   "source": [
    "import os\n",
    "import imageio.v3 as imageio\n",
    "from micro_sam.sam_annotator import annotator_2d"
   ]
  },
  {
   "cell_type": "code",
   "execution_count": null,
   "id": "e22ccc22-1c40-4c30-a3a7-9b4d1804131e",
   "metadata": {},
   "outputs": [],
   "source": [
    "# This function will download and unpack the data and do some further data preparation.\n",
    "# It will only be executed if the data has not been downloaded yet.\n",
    "data_dir = \"../data\"\n",
    "if os.path.exists(data_dir):\n",
    "    print(\"The data is downloaded already.\")\n",
    "else:\n",
    "    utils.prepare_data(data_dir)"
   ]
  },
  {
   "cell_type": "code",
   "execution_count": null,
   "id": "8459f217",
   "metadata": {},
   "outputs": [],
   "source": [
    "# load an example image\n",
    "image_path = os.path.join(data_dir, \"train\", \"gt_image_030\", \"gt_image_030_serum_image.tif\")\n",
    "image = imageio.imread(image_path)"
   ]
  },
  {
   "cell_type": "code",
   "execution_count": null,
   "id": "a55a747f-bc90-4677-8d86-a85235888199",
   "metadata": {},
   "outputs": [],
   "source": [
    "image = image[:600, :600]"
   ]
  },
  {
   "cell_type": "code",
   "execution_count": null,
   "id": "bdb1ebf8",
   "metadata": {},
   "outputs": [],
   "source": [
    "# start the 2d annotation tool\n",
    "annotator_2d(image, model_type=\"vit_b_lm\")"
   ]
  },
  {
   "cell_type": "markdown",
   "id": "6d9da249",
   "metadata": {},
   "source": [
    "You can find a tutorial for how to use the annotation tools [here](https://github.com/computational-cell-analytics/micro-sam#usage)."
   ]
  }
 ],
 "metadata": {
  "kernelspec": {
   "display_name": "Python 3 (ipykernel)",
   "language": "python",
   "name": "python3"
  },
  "language_info": {
   "codemirror_mode": {
    "name": "ipython",
    "version": 3
   },
   "file_extension": ".py",
   "mimetype": "text/x-python",
   "name": "python",
   "nbconvert_exporter": "python",
   "pygments_lexer": "ipython3",
   "version": "3.11.7"
  }
 },
 "nbformat": 4,
 "nbformat_minor": 5
}
