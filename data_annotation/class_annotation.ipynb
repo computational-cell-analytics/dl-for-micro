{
 "cells": [
  {
   "cell_type": "markdown",
   "id": "a643b87b-9880-46d1-b9d5-5f94242f0c7d",
   "metadata": {},
   "source": [
    "## Data Annotation for Classification\n",
    "\n",
    "TODO"
   ]
  },
  {
   "cell_type": "code",
   "execution_count": null,
   "id": "a2569eef-0832-4a6b-90ce-d0fa19209f7d",
   "metadata": {},
   "outputs": [],
   "source": [
    "# General Imports.\n",
    "import json\n",
    "import os\n",
    "import imageio.v3 as imageio\n",
    "\n",
    "import magicgui\n",
    "import napari\n",
    "import numpy as np\n",
    "\n",
    "from pathlib import Path\n",
    "from skimage.measure import regionprops"
   ]
  },
  {
   "cell_type": "code",
   "execution_count": null,
   "id": "b5784ec5-eb7a-4001-ac75-6d762f9c7876",
   "metadata": {},
   "outputs": [],
   "source": [
    "# This function will download and unpack the data and do some further data preparation.\n",
    "# It will only be executed if the data has not been downloaded yet.\n",
    "data_dir = \"../data\"\n",
    "if os.path.exists(data_dir):\n",
    "    print(\"The data is downloaded already.\")\n",
    "else:\n",
    "    utils.prepare_data(data_dir)"
   ]
  },
  {
   "cell_type": "code",
   "execution_count": null,
   "id": "c724630e-9fb5-45f9-add1-b5685c933266",
   "metadata": {},
   "outputs": [],
   "source": [
    "# Load data for an example image.\n",
    "\n",
    "image_id = 0\n",
    "\n",
    "image_path = os.path.join(data_dir, \"train\", f\"gt_image_00{image_id}\", f\"gt_image_00{image_id}_serum_image.tif\")\n",
    "serum = imageio.imread(image_path)\n",
    "\n",
    "image_path = os.path.join(data_dir, \"train\", f\"gt_image_00{image_id}\", f\"gt_image_00{image_id}_marker_image.tif\")\n",
    "marker = imageio.imread(image_path)\n",
    "\n",
    "seg_path = os.path.join(data_dir, \"train\", f\"gt_image_00{image_id}\", f\"gt_image_00{image_id}_cell_labels.tif\")\n",
    "seg = imageio.imread(seg_path)"
   ]
  },
  {
   "cell_type": "code",
   "execution_count": null,
   "id": "7abaeb30-4f2a-4f2f-9c5f-df80fef696a4",
   "metadata": {},
   "outputs": [],
   "source": [
    "# Helper Functions\n",
    "\n",
    "def unique_labels(mask, label_data):\n",
    "    return np.unique(label_data[mask])\n",
    "\n",
    "\n",
    "def accumulate_labels(segmentation, label_data):\n",
    "    props = regionprops(segmentation, label_data, extra_properties=[unique_labels])\n",
    "    label_list = []\n",
    "    \n",
    "    for prop in props:\n",
    "        mapped_labels = prop.unique_labels\n",
    "        \n",
    "        # Check how many labels we have mapped to this mask.\n",
    "        # If we have more than one label mapped (excluding zero), then we treat this as non-labeled\n",
    "        # because we cannot be sure which of the labels is correct.\n",
    "        mapped_labels = np.setdiff1d(mapped_labels, [0])\n",
    "        \n",
    "        if len(mapped_labels) == 0:\n",
    "            this_label = 0\n",
    "        elif len(mapped_labels) == 1:\n",
    "            this_label = mapped_labels[0]\n",
    "        else:\n",
    "            this_label = 0\n",
    "        \n",
    "        label_list.append({\"cell_id\": prop.label, \"label\": int(this_label), \"bbox\": prop.bbox})\n",
    "        \n",
    "    return label_list\n",
    "\n",
    "\n",
    "def create_labels_for_display(segmentation, label_list):\n",
    "    label_map = {lab[\"cell_id\"]: lab[\"label\"] for lab in label_list}\n",
    "    out = np.zeros_like(segmentation)\n",
    "    for cell_id, label in label_map.items():\n",
    "        if label == 0:  # don't need to write out zero!\n",
    "            continue\n",
    "        out[segmentation == cell_id] = label\n",
    "    return out"
   ]
  },
  {
   "cell_type": "markdown",
   "id": "bfe5b680-2ce8-4d36-b7f0-25f1e1d21a15",
   "metadata": {},
   "source": [
    "Explain `magicgui`.\n",
    "\n",
    "https://napari.org/stable/guides/magicgui.html"
   ]
  },
  {
   "cell_type": "code",
   "execution_count": null,
   "id": "842a1dad-ac62-48ac-91dc-135035db7866",
   "metadata": {},
   "outputs": [],
   "source": [
    "viewer = napari.Viewer()\n",
    "viewer.add_image(serum, colormap=\"green\", blending=\"additive\")\n",
    "viewer.add_image(marker, colormap=\"red\", blending=\"additive\")\n",
    "seg_layer = viewer.add_labels(seg, name=\"segmentation\")\n",
    "seg_layer.contour = 2\n",
    "\n",
    "viewer.add_labels(np.zeros_like(seg), name=\"labels\")\n",
    "viewer.add_labels(np.zeros_like(seg), name=\"mapped labels (visualization)\")\n",
    "\n",
    "\n",
    "@magicgui.magicgui(call_button=\"Display and export labels\")\n",
    "def export_labels(viewer: napari.Viewer, export_path: Path):\n",
    "\n",
    "    layers = viewer.layers\n",
    "    seg, label_data = layers[\"segmentation\"].data, layers[\"labels\"].data\n",
    "    label_list = accumulate_labels(seg, label_data)\n",
    "\n",
    "    for_vis = create_labels_for_display(seg, label_list)\n",
    "    layers[\"mapped labels (visualization)\"].data = for_vis\n",
    "    layers[\"mapped labels (visualization)\"].refresh()\n",
    "    \n",
    "    with open(export_path, \"w\") as f:\n",
    "        json.dump({\"cells\": label_list}, f)\n",
    "\n",
    "\n",
    "viewer.window.add_dock_widget(export_labels)"
   ]
  },
  {
   "cell_type": "markdown",
   "id": "df225f6f-d734-4e9d-9018-d01b31a60b41",
   "metadata": {},
   "source": [
    "Explain the task."
   ]
  }
 ],
 "metadata": {
  "kernelspec": {
   "display_name": "Python 3 (ipykernel)",
   "language": "python",
   "name": "python3"
  },
  "language_info": {
   "codemirror_mode": {
    "name": "ipython",
    "version": 3
   },
   "file_extension": ".py",
   "mimetype": "text/x-python",
   "name": "python",
   "nbconvert_exporter": "python",
   "pygments_lexer": "ipython3",
   "version": "3.11.7"
  }
 },
 "nbformat": 4,
 "nbformat_minor": 5
}
